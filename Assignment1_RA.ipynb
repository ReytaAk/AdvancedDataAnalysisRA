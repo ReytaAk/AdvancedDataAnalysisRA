{
 "cells": [
  {
   "cell_type": "markdown",
   "id": "fbfc614e-6be2-4416-880d-0aace0b3051a",
   "metadata": {
    "editable": true,
    "slideshow": {
     "slide_type": ""
    },
    "tags": []
   },
   "source": [
    "<div align=\"center\">\n",
    "  <h1>ASSIGNMENT 1</h1>\n",
    "</div>"
   ]
  },
  {
   "cell_type": "markdown",
   "id": "0aac451c-cdf7-45ac-8a9a-558129ee6cf0",
   "metadata": {
    "editable": true,
    "slideshow": {
     "slide_type": ""
    },
    "tags": []
   },
   "source": [
    "## PROBLEM 1\n",
    "Produce a number guessing game, in which the user will make a guess from 1 to 20, and the program is going to report whether the number is correct.\n",
    "\r\n",
    "The game is expected to remain until the user guess the correct number. For any wrong answer, the program should also report whether the guessed number is higher or lower than the correct number."
   ]
  },
  {
   "cell_type": "code",
   "execution_count": 98,
   "id": "de0e3969-3be3-40fd-b52a-299e5cebecd6",
   "metadata": {
    "editable": true,
    "slideshow": {
     "slide_type": ""
    },
    "tags": []
   },
   "outputs": [
    {
     "name": "stdout",
     "output_type": "stream",
     "text": [
      "What is your guess?\n"
     ]
    },
    {
     "name": "stdin",
     "output_type": "stream",
     "text": [
      " 21\n"
     ]
    },
    {
     "name": "stdout",
     "output_type": "stream",
     "text": [
      "Your guess is not between the required range. It has to be between 1 and 20\n",
      "What is your guess?\n"
     ]
    },
    {
     "name": "stdin",
     "output_type": "stream",
     "text": [
      " 0\n"
     ]
    },
    {
     "name": "stdout",
     "output_type": "stream",
     "text": [
      "Your guess is not between the required range. It has to be between 1 and 20\n",
      "What is your guess?\n"
     ]
    },
    {
     "name": "stdin",
     "output_type": "stream",
     "text": [
      " 1\n"
     ]
    },
    {
     "name": "stdout",
     "output_type": "stream",
     "text": [
      "Incorrect :( \n",
      "Actual number is higher than 1. Please guess again!\n",
      "What is your guess?\n"
     ]
    },
    {
     "name": "stdin",
     "output_type": "stream",
     "text": [
      " 2\n"
     ]
    },
    {
     "name": "stdout",
     "output_type": "stream",
     "text": [
      "Incorrect :( \n",
      "Actual number is higher than 2. Please guess again!\n",
      "What is your guess?\n"
     ]
    },
    {
     "name": "stdin",
     "output_type": "stream",
     "text": [
      " 3\n"
     ]
    },
    {
     "name": "stdout",
     "output_type": "stream",
     "text": [
      "Incorrect :( \n",
      "Actual number is higher than 3. Please guess again!\n",
      "What is your guess?\n"
     ]
    },
    {
     "name": "stdin",
     "output_type": "stream",
     "text": [
      " 4\n"
     ]
    },
    {
     "name": "stdout",
     "output_type": "stream",
     "text": [
      "Incorrect :( \n",
      "Actual number is higher than 4. Please guess again!\n",
      "What is your guess?\n"
     ]
    },
    {
     "name": "stdin",
     "output_type": "stream",
     "text": [
      " 5\n"
     ]
    },
    {
     "name": "stdout",
     "output_type": "stream",
     "text": [
      "Incorrect :( \n",
      "Actual number is higher than 5. Please guess again!\n",
      "What is your guess?\n"
     ]
    },
    {
     "name": "stdin",
     "output_type": "stream",
     "text": [
      " 6\n"
     ]
    },
    {
     "name": "stdout",
     "output_type": "stream",
     "text": [
      "Incorrect :( \n",
      "Actual number is higher than 6. Please guess again!\n",
      "What is your guess?\n"
     ]
    },
    {
     "name": "stdin",
     "output_type": "stream",
     "text": [
      " 7\n"
     ]
    },
    {
     "name": "stdout",
     "output_type": "stream",
     "text": [
      "Incorrect :( \n",
      "Actual number is higher than 7. Please guess again!\n",
      "What is your guess?\n"
     ]
    },
    {
     "name": "stdin",
     "output_type": "stream",
     "text": [
      " 8\n"
     ]
    },
    {
     "name": "stdout",
     "output_type": "stream",
     "text": [
      "Correct!\n"
     ]
    }
   ],
   "source": [
    "import random\n",
    "number = random.randint(1, 20)\n",
    "correctness = False ## I create a boolean variable to use to check the correctness of guess and initialize it to false.  \n",
    "while (not(correctness)): ## I use a while loop to reprompt the user until they make the right guess. \n",
    "    print(\"What is your guess?\")\n",
    "    guess = int(input())\n",
    "    if guess < 1 or guess > 20: ## This step is to check whether the player cooperates or not and to print an error message if they dont play along.\n",
    "        print(\"Your guess is not between the required range. Please enter a number between 1 and 20\")\n",
    "    else:\n",
    "        if number < guess:\n",
    "            print(f\"Incorrect :( \\nActual number is lower than {guess}. Please guess again!\")\n",
    "        elif number > guess:\n",
    "            print(f\"Incorrect :( \\nActual number is higher than {guess}. Please guess again!\")\n",
    "        else: ## Meaning if they are equal so the guess is right.\n",
    "            print(\"Correct!\")\n",
    "            correctness = True ## Switches boolean to True so that while condition is no longer met. It stops."
   ]
  },
  {
   "cell_type": "markdown",
   "id": "06c194de-ab1a-47cf-a7ba-f6e44c122af2",
   "metadata": {
    "editable": true,
    "slideshow": {
     "slide_type": ""
    },
    "tags": []
   },
   "source": [
    "## PROBLEM 2\n",
    "Given a sorted array of distinct integers and a target value, return the index if the target is found. If not, return the index where it would be if it were inserted in order."
   ]
  },
  {
   "cell_type": "code",
   "execution_count": 177,
   "id": "f71dfc89-2239-4e27-bd1f-11ff8d9a8cd4",
   "metadata": {
    "editable": true,
    "slideshow": {
     "slide_type": ""
    },
    "tags": []
   },
   "outputs": [
    {
     "name": "stdout",
     "output_type": "stream",
     "text": [
      "What number you are looking for?\n"
     ]
    },
    {
     "name": "stdin",
     "output_type": "stream",
     "text": [
      " 5\n"
     ]
    },
    {
     "name": "stdout",
     "output_type": "stream",
     "text": [
      "Found. It is at the index of 4\n"
     ]
    }
   ],
   "source": [
    "arr = [-234, -65, 0, 2, 5, 334, 5743]\n",
    "print(\"What number you are looking for?\")\n",
    "target = int(input())\n",
    "\n",
    "def LineerSearch(arr, target):\n",
    "    for i in range(len(arr)):\n",
    "        if arr[i] == target:\n",
    "            print(f\"Found. It is at the index of {i}\")\n",
    "            break\n",
    "        elif arr[i] > target:\n",
    "            print(f\"Not found. But it would be at the index of {i} if inserted\")\n",
    "            break\n",
    "            \n",
    "LineerSearch(arr, target)"
   ]
  },
  {
   "cell_type": "markdown",
   "id": "5adde18c-f772-4a31-bbbb-da90f26e8ade",
   "metadata": {
    "editable": true,
    "slideshow": {
     "slide_type": ""
    },
    "tags": []
   },
   "source": [
    "## PROBLEM 3\n",
    "Given two binary strings a and b, return their sum as a binary string. For instance:\r\n",
    "• Input: a = \"11\", b = \"1\"\r\n",
    "• Output: \"100\""
   ]
  },
  {
   "cell_type": "code",
   "execution_count": 195,
   "id": "63e75e41-cb01-4987-a970-d374d987e335",
   "metadata": {},
   "outputs": [
    {
     "name": "stdout",
     "output_type": "stream",
     "text": [
      "Please give the first binary string:\n"
     ]
    },
    {
     "name": "stdin",
     "output_type": "stream",
     "text": [
      " 1111\n"
     ]
    },
    {
     "name": "stdout",
     "output_type": "stream",
     "text": [
      "Please give the second binary string:\n"
     ]
    },
    {
     "name": "stdin",
     "output_type": "stream",
     "text": [
      " 1000000\n"
     ]
    },
    {
     "name": "stdout",
     "output_type": "stream",
     "text": [
      "Result: 1001111\n"
     ]
    }
   ],
   "source": [
    "def main():\n",
    "    ## I'll get a and b from the user.\n",
    "    print(\"Please give the first binary string:\")\n",
    "    a = input()\n",
    "    print(\"Please give the second binary string:\")\n",
    "    b = input()\n",
    "\n",
    "    sum_decimal = sum([binary_to_dec(a), binary_to_dec(b)])\n",
    "\n",
    "    print(\"Result: \" + dec_to_binary(sum_decimal))\n",
    "\n",
    "\n",
    "def binary_to_dec(binary_string): ##Function to convert a & b from string to decimal int to be able to do math operations.\n",
    "    n = 0\n",
    "    \n",
    "    for i in range(len(binary_string)):\n",
    "        n += int(binary_string[i])*(2**(len(binary_string)-1-i))\n",
    "    \n",
    "    return n\n",
    "\n",
    "\n",
    "def dec_to_binary(n): ## Function to convert the sum from decimal int to binary string.\n",
    "    if n == 0: ## Handling the case where the given a and b are -and so the sum is- zero.\n",
    "        return 0\n",
    "        \n",
    "    binary_string = \"\"\n",
    "\n",
    "    while (n >= 1):\n",
    "        remainder = n%2\n",
    "        \n",
    "        if remainder == 1:\n",
    "            binary_string = \"1\" + binary_string\n",
    "        else:\n",
    "            binary_string = \"0\" + binary_string\n",
    "    \n",
    "        n = n // 2\n",
    "    \n",
    "    return binary_string\n",
    "\n",
    "\n",
    "main()"
   ]
  },
  {
   "cell_type": "markdown",
   "id": "7da6c548-6d7a-4434-bfb6-ebf77e342ff1",
   "metadata": {
    "editable": true,
    "slideshow": {
     "slide_type": ""
    },
    "tags": []
   },
   "source": [
    "# PROBLEM 4\n",
    "Given a non-empty array of integers numbers, every element appears twice except for one. Find that single one.\n"
   ]
  },
  {
   "cell_type": "code",
   "execution_count": 152,
   "id": "ec0cc474-7d63-4397-8e2f-8d74fef44ead",
   "metadata": {},
   "outputs": [
    {
     "name": "stdout",
     "output_type": "stream",
     "text": [
      "Only element that does not appear twice in the array is 3.\n"
     ]
    }
   ],
   "source": [
    "arr = [1, 4, 2, 1, 3, 4, 2]\n",
    "\n",
    "for i in range(len(arr)):\n",
    "    for j in range(i + 1, len(arr)):\n",
    "        if arr[i] == arr[j]:\n",
    "            break\n",
    "    else:\n",
    "        print(f\"Only element that does not appear twice in the array is {i}.\")\n",
    "        break\n",
    "        "
   ]
  },
  {
   "cell_type": "markdown",
   "id": "cde862cd-9cd2-44c8-a9f6-1c51c6210854",
   "metadata": {},
   "source": [
    "# PROBLEM 5\n",
    "The DNA sequence is composed of a series of nucleotides abbreviated as 'A', 'C', 'G', and 'T'. \n",
    "\n",
    "For example, \"ACGAATTCCG\" is a DNA sequence. When studying DNA, it is useful to identify repeated sequences within the DNA. \n",
    "\n",
    "Given a string s that represents a DNA sequence, return all the 10-letter-long sequences (substrings) that occur more than once in a DNA molecule. You may return the answer in any order."
   ]
  },
  {
   "cell_type": "code",
   "execution_count": 203,
   "id": "f5dd3464-64f3-4ca6-ad85-cfacc748908b",
   "metadata": {},
   "outputs": [
    {
     "name": "stdout",
     "output_type": "stream",
     "text": [
      "ATTCCGACGA\n",
      "TTCCGACGAA\n",
      "TCCGACGAAT\n",
      "CCGACGAATT\n",
      "CGACGAATTC\n",
      "ACGAATTCCG\n",
      "CGAATTCCGA\n",
      "GAATTCCGAC\n",
      "GACAGATTCC\n",
      "ACAGATTCCG\n"
     ]
    }
   ],
   "source": [
    "## To test it I wrote a made-up dna squence below that consists of 50 nucleotides (so 50 chars)\n",
    "dna = \"ACGAATTCCGACGAATTCAGACAGATTCCGACGAATTCCGACAGATTCCG\"\n",
    "\n",
    "recorded_sqs = set()\n",
    "for i in range(len(dna) - 9):\n",
    "    \n",
    "    temp_sq = dna[i:(i+10)]\n",
    "    \n",
    "    if temp_sq in recorded_sqs:\n",
    "        print(temp_sq)\n",
    "    else:\n",
    "        recorded_sqs.add(temp_sq)\n",
    "        \n",
    "    "
   ]
  },
  {
   "cell_type": "code",
   "execution_count": null,
   "id": "b787a44c-79fa-439c-b226-1bbaabb45376",
   "metadata": {},
   "outputs": [],
   "source": []
  }
 ],
 "metadata": {
  "kernelspec": {
   "display_name": "Python 3 (ipykernel)",
   "language": "python",
   "name": "python3"
  },
  "language_info": {
   "codemirror_mode": {
    "name": "ipython",
    "version": 3
   },
   "file_extension": ".py",
   "mimetype": "text/x-python",
   "name": "python",
   "nbconvert_exporter": "python",
   "pygments_lexer": "ipython3",
   "version": "3.12.4"
  }
 },
 "nbformat": 4,
 "nbformat_minor": 5
}
