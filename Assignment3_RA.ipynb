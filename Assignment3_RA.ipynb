{
 "cells": [
  {
   "cell_type": "code",
   "execution_count": 2,
   "id": "1dcaf94d-da2b-47be-bdbc-711a6faa324d",
   "metadata": {},
   "outputs": [
    {
     "name": "stdout",
     "output_type": "stream",
     "text": [
      "Requirement already satisfied: scrapy in c:\\users\\reyta\\anaconda3\\lib\\site-packages (2.11.1)\n",
      "Requirement already satisfied: Twisted>=18.9.0 in c:\\users\\reyta\\anaconda3\\lib\\site-packages (from scrapy) (23.10.0)\n",
      "Requirement already satisfied: cryptography>=36.0.0 in c:\\users\\reyta\\anaconda3\\lib\\site-packages (from scrapy) (42.0.5)\n",
      "Requirement already satisfied: cssselect>=0.9.1 in c:\\users\\reyta\\anaconda3\\lib\\site-packages (from scrapy) (1.2.0)\n",
      "Requirement already satisfied: itemloaders>=1.0.1 in c:\\users\\reyta\\anaconda3\\lib\\site-packages (from scrapy) (1.1.0)\n",
      "Requirement already satisfied: parsel>=1.5.0 in c:\\users\\reyta\\anaconda3\\lib\\site-packages (from scrapy) (1.8.1)\n",
      "Requirement already satisfied: pyOpenSSL>=21.0.0 in c:\\users\\reyta\\anaconda3\\lib\\site-packages (from scrapy) (24.0.0)\n",
      "Requirement already satisfied: queuelib>=1.4.2 in c:\\users\\reyta\\anaconda3\\lib\\site-packages (from scrapy) (1.6.2)\n",
      "Requirement already satisfied: service-identity>=18.1.0 in c:\\users\\reyta\\anaconda3\\lib\\site-packages (from scrapy) (18.1.0)\n",
      "Requirement already satisfied: w3lib>=1.17.0 in c:\\users\\reyta\\anaconda3\\lib\\site-packages (from scrapy) (2.1.2)\n",
      "Requirement already satisfied: zope.interface>=5.1.0 in c:\\users\\reyta\\anaconda3\\lib\\site-packages (from scrapy) (5.4.0)\n",
      "Requirement already satisfied: protego>=0.1.15 in c:\\users\\reyta\\anaconda3\\lib\\site-packages (from scrapy) (0.1.16)\n",
      "Requirement already satisfied: itemadapter>=0.1.0 in c:\\users\\reyta\\anaconda3\\lib\\site-packages (from scrapy) (0.3.0)\n",
      "Requirement already satisfied: setuptools in c:\\users\\reyta\\anaconda3\\lib\\site-packages (from scrapy) (69.5.1)\n",
      "Requirement already satisfied: packaging in c:\\users\\reyta\\anaconda3\\lib\\site-packages (from scrapy) (23.2)\n",
      "Requirement already satisfied: tldextract in c:\\users\\reyta\\anaconda3\\lib\\site-packages (from scrapy) (3.2.0)\n",
      "Requirement already satisfied: lxml>=4.4.1 in c:\\users\\reyta\\anaconda3\\lib\\site-packages (from scrapy) (5.2.1)\n",
      "Requirement already satisfied: PyDispatcher>=2.0.5 in c:\\users\\reyta\\anaconda3\\lib\\site-packages (from scrapy) (2.0.5)\n",
      "Requirement already satisfied: cffi>=1.12 in c:\\users\\reyta\\anaconda3\\lib\\site-packages (from cryptography>=36.0.0->scrapy) (1.16.0)\n",
      "Requirement already satisfied: jmespath>=0.9.5 in c:\\users\\reyta\\anaconda3\\lib\\site-packages (from itemloaders>=1.0.1->scrapy) (1.0.1)\n",
      "Requirement already satisfied: six in c:\\users\\reyta\\anaconda3\\lib\\site-packages (from protego>=0.1.15->scrapy) (1.16.0)\n",
      "Requirement already satisfied: attrs>=16.0.0 in c:\\users\\reyta\\anaconda3\\lib\\site-packages (from service-identity>=18.1.0->scrapy) (23.1.0)\n",
      "Requirement already satisfied: pyasn1-modules in c:\\users\\reyta\\anaconda3\\lib\\site-packages (from service-identity>=18.1.0->scrapy) (0.2.8)\n",
      "Requirement already satisfied: pyasn1 in c:\\users\\reyta\\anaconda3\\lib\\site-packages (from service-identity>=18.1.0->scrapy) (0.4.8)\n",
      "Requirement already satisfied: automat>=0.8.0 in c:\\users\\reyta\\anaconda3\\lib\\site-packages (from Twisted>=18.9.0->scrapy) (20.2.0)\n",
      "Requirement already satisfied: constantly>=15.1 in c:\\users\\reyta\\anaconda3\\lib\\site-packages (from Twisted>=18.9.0->scrapy) (23.10.4)\n",
      "Requirement already satisfied: hyperlink>=17.1.1 in c:\\users\\reyta\\anaconda3\\lib\\site-packages (from Twisted>=18.9.0->scrapy) (21.0.0)\n",
      "Requirement already satisfied: incremental>=22.10.0 in c:\\users\\reyta\\anaconda3\\lib\\site-packages (from Twisted>=18.9.0->scrapy) (22.10.0)\n",
      "Requirement already satisfied: twisted-iocpsupport<2,>=1.0.2 in c:\\users\\reyta\\anaconda3\\lib\\site-packages (from Twisted>=18.9.0->scrapy) (1.0.2)\n",
      "Requirement already satisfied: typing-extensions>=4.2.0 in c:\\users\\reyta\\anaconda3\\lib\\site-packages (from Twisted>=18.9.0->scrapy) (4.11.0)\n",
      "Requirement already satisfied: idna in c:\\users\\reyta\\anaconda3\\lib\\site-packages (from tldextract->scrapy) (3.7)\n",
      "Requirement already satisfied: requests>=2.1.0 in c:\\users\\reyta\\anaconda3\\lib\\site-packages (from tldextract->scrapy) (2.32.2)\n",
      "Requirement already satisfied: requests-file>=1.4 in c:\\users\\reyta\\anaconda3\\lib\\site-packages (from tldextract->scrapy) (1.5.1)\n",
      "Requirement already satisfied: filelock>=3.0.8 in c:\\users\\reyta\\anaconda3\\lib\\site-packages (from tldextract->scrapy) (3.13.1)\n",
      "Requirement already satisfied: pycparser in c:\\users\\reyta\\anaconda3\\lib\\site-packages (from cffi>=1.12->cryptography>=36.0.0->scrapy) (2.21)\n",
      "Requirement already satisfied: charset-normalizer<4,>=2 in c:\\users\\reyta\\anaconda3\\lib\\site-packages (from requests>=2.1.0->tldextract->scrapy) (2.0.4)\n",
      "Requirement already satisfied: urllib3<3,>=1.21.1 in c:\\users\\reyta\\anaconda3\\lib\\site-packages (from requests>=2.1.0->tldextract->scrapy) (2.2.2)\n",
      "Requirement already satisfied: certifi>=2017.4.17 in c:\\users\\reyta\\anaconda3\\lib\\site-packages (from requests>=2.1.0->tldextract->scrapy) (2024.8.30)\n",
      "Note: you may need to restart the kernel to use updated packages.\n"
     ]
    }
   ],
   "source": [
    "pip install scrapy"
   ]
  },
  {
   "cell_type": "code",
   "execution_count": 14,
   "id": "d8b44527-e580-4bf2-bef7-9521b222fdeb",
   "metadata": {},
   "outputs": [
    {
     "name": "stderr",
     "output_type": "stream",
     "text": [
      "Pages Processed:   0%|          | 0/362 [00:00<?, ?it/s]\n",
      "Days Processed:   0%|          | 0/2 [00:00<?, ?it/s]\u001b[A"
     ]
    },
    {
     "name": "stdout",
     "output_type": "stream",
     "text": [
      "2 December 2024\n"
     ]
    },
    {
     "name": "stderr",
     "output_type": "stream",
     "text": [
      "\n",
      "Days Processed:  50%|█████     | 1/2 [00:01<00:01,  1.52s/it]\u001b[A"
     ]
    },
    {
     "name": "stdout",
     "output_type": "stream",
     "text": [
      "1 December 2024\n"
     ]
    },
    {
     "name": "stderr",
     "output_type": "stream",
     "text": [
      "\n",
      "Days Processed: 100%|██████████| 2/2 [00:03<00:00,  1.74s/it]\u001b[A\n",
      "Pages Processed:   0%|          | 1/362 [00:03<21:16,  3.54s/it]\n",
      "Days Processed:   0%|          | 0/2 [00:00<?, ?it/s]\u001b[A"
     ]
    },
    {
     "name": "stdout",
     "output_type": "stream",
     "text": [
      "30 November 2024\n"
     ]
    },
    {
     "name": "stderr",
     "output_type": "stream",
     "text": [
      "\n",
      "Days Processed:  50%|█████     | 1/2 [00:01<00:01,  1.35s/it]\u001b[A"
     ]
    },
    {
     "name": "stdout",
     "output_type": "stream",
     "text": [
      "29 November 2024\n"
     ]
    },
    {
     "name": "stderr",
     "output_type": "stream",
     "text": [
      "\n",
      "Days Processed: 100%|██████████| 2/2 [00:03<00:00,  1.66s/it]\u001b[A\n",
      "Pages Processed:   1%|          | 2/362 [00:06<20:32,  3.42s/it]\n",
      "Days Processed:   0%|          | 0/2 [00:00<?, ?it/s]\u001b[A"
     ]
    },
    {
     "name": "stdout",
     "output_type": "stream",
     "text": [
      "29 November 2024\n"
     ]
    },
    {
     "name": "stderr",
     "output_type": "stream",
     "text": [
      "\n",
      "Days Processed:  50%|█████     | 1/2 [00:01<00:01,  1.73s/it]\u001b[A"
     ]
    },
    {
     "name": "stdout",
     "output_type": "stream",
     "text": [
      "28 November 2024\n"
     ]
    },
    {
     "name": "stderr",
     "output_type": "stream",
     "text": [
      "\n",
      "Days Processed: 100%|██████████| 2/2 [00:06<00:00,  3.32s/it]\u001b[A\n",
      "Pages Processed:   1%|          | 3/362 [00:13<29:18,  4.90s/it]\n",
      "Days Processed:   0%|          | 0/2 [00:00<?, ?it/s]\u001b[A"
     ]
    },
    {
     "name": "stdout",
     "output_type": "stream",
     "text": [
      "28 November 2024\n"
     ]
    },
    {
     "name": "stderr",
     "output_type": "stream",
     "text": [
      "\n",
      "Days Processed:  50%|█████     | 1/2 [00:01<00:01,  1.87s/it]\u001b[A"
     ]
    },
    {
     "name": "stdout",
     "output_type": "stream",
     "text": [
      "27 November 2024\n"
     ]
    },
    {
     "name": "stderr",
     "output_type": "stream",
     "text": [
      "\n",
      "Days Processed: 100%|██████████| 2/2 [00:07<00:00,  4.01s/it]\u001b[A\n",
      "Pages Processed:   1%|          | 4/362 [00:21<36:16,  6.08s/it]\n",
      "Days Processed:   0%|          | 0/3 [00:00<?, ?it/s]\u001b[A"
     ]
    },
    {
     "name": "stdout",
     "output_type": "stream",
     "text": [
      "27 November 2024\n"
     ]
    },
    {
     "name": "stderr",
     "output_type": "stream",
     "text": [
      "\n",
      "Days Processed:  33%|███▎      | 1/3 [00:02<00:04,  2.47s/it]\u001b[A"
     ]
    },
    {
     "name": "stdout",
     "output_type": "stream",
     "text": [
      "26 November 2024\n"
     ]
    },
    {
     "name": "stderr",
     "output_type": "stream",
     "text": [
      "\n",
      "Days Processed:  67%|██████▋   | 2/3 [00:06<00:03,  3.58s/it]\u001b[A"
     ]
    },
    {
     "name": "stdout",
     "output_type": "stream",
     "text": [
      "25 November 2024\n"
     ]
    },
    {
     "name": "stderr",
     "output_type": "stream",
     "text": [
      "\n",
      "Days Processed: 100%|██████████| 3/3 [00:12<00:00,  4.35s/it]\u001b[A\n",
      "Pages Processed:   1%|▏         | 5/362 [00:33<50:04,  8.42s/it]\n",
      "Days Processed:   0%|          | 0/2 [00:00<?, ?it/s]\u001b[A"
     ]
    },
    {
     "name": "stdout",
     "output_type": "stream",
     "text": [
      "25 November 2024\n"
     ]
    },
    {
     "name": "stderr",
     "output_type": "stream",
     "text": [
      "\n",
      "Days Processed:  50%|█████     | 1/2 [00:02<00:02,  2.20s/it]\u001b[A"
     ]
    },
    {
     "name": "stdout",
     "output_type": "stream",
     "text": [
      "24 November 2024\n"
     ]
    },
    {
     "name": "stderr",
     "output_type": "stream",
     "text": [
      "\n",
      "Days Processed: 100%|██████████| 2/2 [00:06<00:00,  3.60s/it]\u001b[A\n",
      "Pages Processed:   2%|▏         | 6/362 [00:41<47:35,  8.02s/it]\n",
      "Days Processed:   0%|          | 0/3 [00:00<?, ?it/s]\u001b[A"
     ]
    },
    {
     "name": "stdout",
     "output_type": "stream",
     "text": [
      "24 November 2024\n"
     ]
    },
    {
     "name": "stderr",
     "output_type": "stream",
     "text": [
      "\n",
      "Days Processed:  33%|███▎      | 1/3 [00:02<00:04,  2.43s/it]\u001b[A"
     ]
    },
    {
     "name": "stdout",
     "output_type": "stream",
     "text": [
      "23 November 2024\n"
     ]
    },
    {
     "name": "stderr",
     "output_type": "stream",
     "text": [
      "\n",
      "Days Processed:  67%|██████▋   | 2/3 [00:04<00:02,  2.48s/it]\u001b[A"
     ]
    },
    {
     "name": "stdout",
     "output_type": "stream",
     "text": [
      "22 November 2024\n"
     ]
    },
    {
     "name": "stderr",
     "output_type": "stream",
     "text": [
      "\n",
      "Days Processed: 100%|██████████| 3/3 [00:09<00:00,  3.38s/it]\u001b[A\n",
      "Pages Processed:   2%|▏         | 7/362 [00:51<51:06,  8.64s/it]\n",
      "Days Processed:   0%|          | 0/2 [00:00<?, ?it/s]\u001b[A"
     ]
    },
    {
     "name": "stdout",
     "output_type": "stream",
     "text": [
      "22 November 2024\n"
     ]
    },
    {
     "name": "stderr",
     "output_type": "stream",
     "text": [
      "\n",
      "Days Processed:  50%|█████     | 1/2 [00:02<00:02,  2.07s/it]\u001b[A"
     ]
    },
    {
     "name": "stdout",
     "output_type": "stream",
     "text": [
      "21 November 2024\n"
     ]
    },
    {
     "name": "stderr",
     "output_type": "stream",
     "text": [
      "\n",
      "Days Processed: 100%|██████████| 2/2 [00:08<00:00,  4.65s/it]\u001b[A\n",
      "Pages Processed:   2%|▏         | 8/362 [01:00<51:43,  8.77s/it]\n",
      "Days Processed:   0%|          | 0/2 [00:00<?, ?it/s]\u001b[A"
     ]
    },
    {
     "name": "stdout",
     "output_type": "stream",
     "text": [
      "21 November 2024\n"
     ]
    },
    {
     "name": "stderr",
     "output_type": "stream",
     "text": [
      "\n",
      "Days Processed:  50%|█████     | 1/2 [00:02<00:02,  2.79s/it]\u001b[A"
     ]
    },
    {
     "name": "stdout",
     "output_type": "stream",
     "text": [
      "20 November 2024\n"
     ]
    },
    {
     "name": "stderr",
     "output_type": "stream",
     "text": [
      "\n",
      "Days Processed: 100%|██████████| 2/2 [00:08<00:00,  4.59s/it]\u001b[A\n",
      "Pages Processed:   2%|▏         | 9/362 [01:09<52:12,  8.87s/it]\n",
      "Days Processed:   0%|          | 0/2 [00:00<?, ?it/s]\u001b[A"
     ]
    },
    {
     "name": "stdout",
     "output_type": "stream",
     "text": [
      "20 November 2024\n"
     ]
    },
    {
     "name": "stderr",
     "output_type": "stream",
     "text": [
      "\n",
      "Days Processed:  50%|█████     | 1/2 [00:02<00:02,  2.19s/it]\u001b[A"
     ]
    },
    {
     "name": "stdout",
     "output_type": "stream",
     "text": [
      "19 November 2024\n"
     ]
    },
    {
     "name": "stderr",
     "output_type": "stream",
     "text": [
      "\n",
      "Days Processed: 100%|██████████| 2/2 [00:07<00:00,  4.26s/it]\u001b[A\n",
      "Pages Processed:   3%|▎         | 10/362 [01:17<51:11,  8.73s/it]\n",
      "Days Processed:   0%|          | 0/2 [00:00<?, ?it/s]\u001b[A"
     ]
    },
    {
     "name": "stdout",
     "output_type": "stream",
     "text": [
      "19 November 2024\n"
     ]
    },
    {
     "name": "stderr",
     "output_type": "stream",
     "text": [
      "\n",
      "Days Processed:  50%|█████     | 1/2 [00:02<00:02,  2.59s/it]\u001b[A"
     ]
    },
    {
     "name": "stdout",
     "output_type": "stream",
     "text": [
      "18 November 2024\n"
     ]
    },
    {
     "name": "stderr",
     "output_type": "stream",
     "text": [
      "\n",
      "Days Processed: 100%|██████████| 2/2 [00:08<00:00,  4.33s/it]\u001b[A\n",
      "Pages Processed:   3%|▎         | 11/362 [01:26<50:53,  8.70s/it]\n",
      "Days Processed:   0%|          | 0/2 [00:00<?, ?it/s]\u001b[A"
     ]
    },
    {
     "name": "stdout",
     "output_type": "stream",
     "text": [
      "18 November 2024\n"
     ]
    },
    {
     "name": "stderr",
     "output_type": "stream",
     "text": [
      "\n",
      "Days Processed:  50%|█████     | 1/2 [00:02<00:02,  2.48s/it]\u001b[A"
     ]
    },
    {
     "name": "stdout",
     "output_type": "stream",
     "text": [
      "17 November 2024\n"
     ]
    },
    {
     "name": "stderr",
     "output_type": "stream",
     "text": [
      "\n",
      "Days Processed: 100%|██████████| 2/2 [00:07<00:00,  4.09s/it]\u001b[A\n",
      "Pages Processed:   3%|▎         | 12/362 [01:34<49:46,  8.53s/it]\n",
      "Days Processed:   0%|          | 0/2 [00:00<?, ?it/s]\u001b[A"
     ]
    },
    {
     "name": "stdout",
     "output_type": "stream",
     "text": [
      "17 November 2024\n"
     ]
    },
    {
     "name": "stderr",
     "output_type": "stream",
     "text": [
      "\n",
      "Days Processed:  50%|█████     | 1/2 [00:02<00:02,  2.88s/it]\u001b[A"
     ]
    },
    {
     "name": "stdout",
     "output_type": "stream",
     "text": [
      "16 November 2024\n"
     ]
    },
    {
     "name": "stderr",
     "output_type": "stream",
     "text": [
      "\n",
      "Days Processed: 100%|██████████| 2/2 [00:06<00:00,  3.03s/it]\u001b[A\n",
      "Pages Processed:   4%|▎         | 13/362 [01:41<46:05,  7.92s/it]\n",
      "Days Processed:   0%|          | 0/3 [00:00<?, ?it/s]\u001b[A"
     ]
    },
    {
     "name": "stdout",
     "output_type": "stream",
     "text": [
      "16 November 2024\n"
     ]
    },
    {
     "name": "stderr",
     "output_type": "stream",
     "text": [
      "\n",
      "Days Processed:  33%|███▎      | 1/3 [00:01<00:02,  1.19s/it]\u001b[A"
     ]
    },
    {
     "name": "stdout",
     "output_type": "stream",
     "text": [
      "15 November 2024\n"
     ]
    },
    {
     "name": "stderr",
     "output_type": "stream",
     "text": [
      "\n",
      "Days Processed:  67%|██████▋   | 2/3 [00:05<00:02,  2.93s/it]\u001b[A"
     ]
    },
    {
     "name": "stdout",
     "output_type": "stream",
     "text": [
      "14 November 2024\n"
     ]
    },
    {
     "name": "stderr",
     "output_type": "stream",
     "text": [
      "\n",
      "Days Processed: 100%|██████████| 3/3 [00:10<00:00,  3.78s/it]\u001b[A\n",
      "Pages Processed:   4%|▍         | 14/362 [01:51<50:41,  8.74s/it]\n",
      "Days Processed:   0%|          | 0/2 [00:00<?, ?it/s]\u001b[A"
     ]
    },
    {
     "name": "stdout",
     "output_type": "stream",
     "text": [
      "14 November 2024\n"
     ]
    },
    {
     "name": "stderr",
     "output_type": "stream",
     "text": [
      "\n",
      "Days Processed:  50%|█████     | 1/2 [00:01<00:01,  1.76s/it]\u001b[A"
     ]
    },
    {
     "name": "stdout",
     "output_type": "stream",
     "text": [
      "13 November 2024\n"
     ]
    },
    {
     "name": "stderr",
     "output_type": "stream",
     "text": [
      "\n",
      "Days Processed: 100%|██████████| 2/2 [00:08<00:00,  4.71s/it]\u001b[A\n",
      "Pages Processed:   4%|▍         | 15/362 [02:00<50:59,  8.82s/it]\n",
      "Days Processed:   0%|          | 0/2 [00:00<?, ?it/s]\u001b[A"
     ]
    },
    {
     "name": "stdout",
     "output_type": "stream",
     "text": [
      "13 November 2024\n"
     ]
    },
    {
     "name": "stderr",
     "output_type": "stream",
     "text": [
      "\n",
      "Days Processed:  50%|█████     | 1/2 [00:04<00:04,  4.24s/it]\u001b[A"
     ]
    },
    {
     "name": "stdout",
     "output_type": "stream",
     "text": [
      "12 November 2024\n"
     ]
    },
    {
     "name": "stderr",
     "output_type": "stream",
     "text": [
      "\n",
      "Days Processed: 100%|██████████| 2/2 [00:09<00:00,  4.57s/it]\u001b[A\n",
      "Pages Processed:   4%|▍         | 16/362 [02:10<52:21,  9.08s/it]\n",
      "Days Processed:   0%|          | 0/2 [00:00<?, ?it/s]\u001b[A"
     ]
    },
    {
     "name": "stdout",
     "output_type": "stream",
     "text": [
      "12 November 2024\n"
     ]
    },
    {
     "name": "stderr",
     "output_type": "stream",
     "text": [
      "\n",
      "Days Processed:  50%|█████     | 1/2 [00:02<00:02,  2.87s/it]\u001b[A"
     ]
    },
    {
     "name": "stdout",
     "output_type": "stream",
     "text": [
      "11 November 2024\n"
     ]
    },
    {
     "name": "stderr",
     "output_type": "stream",
     "text": [
      "\n",
      "Days Processed: 100%|██████████| 2/2 [00:08<00:00,  4.58s/it]\u001b[A\n",
      "Pages Processed:   5%|▍         | 17/362 [02:19<52:20,  9.10s/it]\n",
      "Days Processed:   0%|          | 0/2 [00:00<?, ?it/s]\u001b[A"
     ]
    },
    {
     "name": "stdout",
     "output_type": "stream",
     "text": [
      "11 November 2024\n"
     ]
    },
    {
     "name": "stderr",
     "output_type": "stream",
     "text": [
      "\n",
      "Days Processed:  50%|█████     | 1/2 [00:02<00:02,  2.18s/it]\u001b[A"
     ]
    },
    {
     "name": "stdout",
     "output_type": "stream",
     "text": [
      "10 November 2024\n"
     ]
    },
    {
     "name": "stderr",
     "output_type": "stream",
     "text": [
      "\n",
      "Days Processed: 100%|██████████| 2/2 [00:07<00:00,  4.13s/it]\u001b[A\n",
      "Pages Processed:   5%|▍         | 18/362 [02:27<50:33,  8.82s/it]\n",
      "Days Processed:   0%|          | 0/3 [00:00<?, ?it/s]\u001b[A"
     ]
    },
    {
     "name": "stdout",
     "output_type": "stream",
     "text": [
      "10 November 2024\n"
     ]
    },
    {
     "name": "stderr",
     "output_type": "stream",
     "text": [
      "\n",
      "Days Processed:  33%|███▎      | 1/3 [00:02<00:04,  2.48s/it]\u001b[A"
     ]
    },
    {
     "name": "stdout",
     "output_type": "stream",
     "text": [
      "9 November 2024\n"
     ]
    },
    {
     "name": "stderr",
     "output_type": "stream",
     "text": [
      "\n",
      "Days Processed:  67%|██████▋   | 2/3 [00:07<00:03,  3.88s/it]\u001b[A"
     ]
    },
    {
     "name": "stdout",
     "output_type": "stream",
     "text": [
      "8 November 2024\n"
     ]
    },
    {
     "name": "stderr",
     "output_type": "stream",
     "text": [
      "\n",
      "Days Processed: 100%|██████████| 3/3 [00:14<00:00,  5.31s/it]\u001b[A\n",
      "Pages Processed:   5%|▌         | 19/362 [02:42<1:00:47, 10.63s/it]\n",
      "Days Processed:   0%|          | 0/2 [00:00<?, ?it/s]\u001b[A"
     ]
    },
    {
     "name": "stdout",
     "output_type": "stream",
     "text": [
      "8 November 2024\n"
     ]
    },
    {
     "name": "stderr",
     "output_type": "stream",
     "text": [
      "\n",
      "Days Processed:  50%|█████     | 1/2 [00:03<00:03,  3.01s/it]\u001b[A"
     ]
    },
    {
     "name": "stdout",
     "output_type": "stream",
     "text": [
      "7 November 2024\n"
     ]
    },
    {
     "name": "stderr",
     "output_type": "stream",
     "text": [
      "\n",
      "Days Processed: 100%|██████████| 2/2 [00:11<00:00,  6.39s/it]\u001b[A\n",
      "Pages Processed:   6%|▌         | 20/362 [02:54<1:03:27, 11.13s/it]\n",
      "Days Processed:   0%|          | 0/2 [00:00<?, ?it/s]\u001b[A"
     ]
    },
    {
     "name": "stdout",
     "output_type": "stream",
     "text": [
      "7 November 2024\n"
     ]
    },
    {
     "name": "stderr",
     "output_type": "stream",
     "text": [
      "\n",
      "Days Processed:  50%|█████     | 1/2 [00:04<00:04,  4.65s/it]\u001b[A"
     ]
    },
    {
     "name": "stdout",
     "output_type": "stream",
     "text": [
      "6 November 2024\n"
     ]
    },
    {
     "name": "stderr",
     "output_type": "stream",
     "text": [
      "\n",
      "Days Processed: 100%|██████████| 2/2 [00:10<00:00,  5.45s/it]\u001b[A\n",
      "Pages Processed:   6%|▌         | 21/362 [03:05<1:03:20, 11.14s/it]\n",
      "Days Processed:   0%|          | 0/1 [00:00<?, ?it/s]\u001b[A"
     ]
    },
    {
     "name": "stdout",
     "output_type": "stream",
     "text": [
      "6 November 2024\n"
     ]
    },
    {
     "name": "stderr",
     "output_type": "stream",
     "text": [
      "\n",
      "Days Processed: 100%|██████████| 1/1 [00:03<00:00,  3.73s/it]\u001b[A\n",
      "Pages Processed:   6%|▌         | 22/362 [03:10<51:28,  9.08s/it]  \n",
      "Days Processed:   0%|          | 0/2 [00:00<?, ?it/s]\u001b[A"
     ]
    },
    {
     "name": "stdout",
     "output_type": "stream",
     "text": [
      "6 November 2024\n"
     ]
    },
    {
     "name": "stderr",
     "output_type": "stream",
     "text": [
      "\n",
      "Days Processed:  50%|█████     | 1/2 [00:02<00:02,  2.72s/it]\u001b[A"
     ]
    },
    {
     "name": "stdout",
     "output_type": "stream",
     "text": [
      "5 November 2024\n"
     ]
    },
    {
     "name": "stderr",
     "output_type": "stream",
     "text": [
      "\n",
      "Days Processed: 100%|██████████| 2/2 [00:10<00:00,  5.67s/it]\u001b[A\n",
      "Pages Processed:   6%|▋         | 23/362 [03:21<54:26,  9.63s/it]\n",
      "Days Processed:   0%|          | 0/2 [00:00<?, ?it/s]\u001b[A"
     ]
    },
    {
     "name": "stdout",
     "output_type": "stream",
     "text": [
      "5 November 2024\n"
     ]
    },
    {
     "name": "stderr",
     "output_type": "stream",
     "text": [
      "\n",
      "Days Processed:  50%|█████     | 1/2 [00:02<00:02,  2.87s/it]\u001b[A"
     ]
    },
    {
     "name": "stdout",
     "output_type": "stream",
     "text": [
      "4 November 2024\n"
     ]
    },
    {
     "name": "stderr",
     "output_type": "stream",
     "text": [
      "\n",
      "Days Processed: 100%|██████████| 2/2 [00:09<00:00,  4.92s/it]\u001b[A\n",
      "Pages Processed:   7%|▋         | 24/362 [03:30<54:23,  9.66s/it]\n",
      "Days Processed:   0%|          | 0/3 [00:00<?, ?it/s]\u001b[A"
     ]
    },
    {
     "name": "stdout",
     "output_type": "stream",
     "text": [
      "4 November 2024\n"
     ]
    },
    {
     "name": "stderr",
     "output_type": "stream",
     "text": [
      "\n",
      "Days Processed:  33%|███▎      | 1/3 [00:02<00:05,  2.82s/it]\u001b[A"
     ]
    },
    {
     "name": "stdout",
     "output_type": "stream",
     "text": [
      "3 November 2024\n"
     ]
    },
    {
     "name": "stderr",
     "output_type": "stream",
     "text": [
      "\n",
      "Days Processed:  67%|██████▋   | 2/3 [00:07<00:03,  3.87s/it]\u001b[A"
     ]
    },
    {
     "name": "stdout",
     "output_type": "stream",
     "text": [
      "2 November 2024\n"
     ]
    },
    {
     "name": "stderr",
     "output_type": "stream",
     "text": [
      "\n",
      "Days Processed: 100%|██████████| 3/3 [00:12<00:00,  4.24s/it]\u001b[A\n",
      "Pages Processed:   7%|▋         | 25/362 [03:43<59:11, 10.54s/it]\n",
      "Days Processed:   0%|          | 0/2 [00:00<?, ?it/s]\u001b[A"
     ]
    },
    {
     "name": "stdout",
     "output_type": "stream",
     "text": [
      "2 November 2024\n"
     ]
    },
    {
     "name": "stderr",
     "output_type": "stream",
     "text": [
      "\n",
      "Days Processed:  50%|█████     | 1/2 [00:01<00:01,  1.70s/it]\u001b[A"
     ]
    },
    {
     "name": "stdout",
     "output_type": "stream",
     "text": [
      "1 November 2024\n"
     ]
    },
    {
     "name": "stderr",
     "output_type": "stream",
     "text": [
      "\n",
      "Days Processed: 100%|██████████| 2/2 [00:06<00:00,  3.64s/it]\u001b[A\n",
      "Pages Processed:   7%|▋         | 26/362 [03:50<53:29,  9.55s/it]\n",
      "Days Processed:   0%|          | 0/2 [00:00<?, ?it/s]\u001b[A"
     ]
    },
    {
     "name": "stdout",
     "output_type": "stream",
     "text": [
      "1 November 2024\n"
     ]
    },
    {
     "name": "stderr",
     "output_type": "stream",
     "text": [
      "\n",
      "Days Processed:  50%|█████     | 1/2 [00:01<00:01,  1.97s/it]\u001b[A"
     ]
    },
    {
     "name": "stdout",
     "output_type": "stream",
     "text": [
      "31 October 2024\n"
     ]
    },
    {
     "name": "stderr",
     "output_type": "stream",
     "text": [
      "\n",
      "Days Processed: 100%|██████████| 2/2 [00:06<00:00,  3.59s/it]\u001b[A\n",
      "Pages Processed:   7%|▋         | 27/362 [03:57<49:24,  8.85s/it]\n",
      "Days Processed:   0%|          | 0/2 [00:00<?, ?it/s]\u001b[A"
     ]
    },
    {
     "name": "stdout",
     "output_type": "stream",
     "text": [
      "31 October 2024\n"
     ]
    },
    {
     "name": "stderr",
     "output_type": "stream",
     "text": [
      "\n",
      "Days Processed:  50%|█████     | 1/2 [00:02<00:02,  2.33s/it]\u001b[A"
     ]
    },
    {
     "name": "stdout",
     "output_type": "stream",
     "text": [
      "30 October 2024\n"
     ]
    },
    {
     "name": "stderr",
     "output_type": "stream",
     "text": [
      "\n",
      "Days Processed: 100%|██████████| 2/2 [00:08<00:00,  4.70s/it]\u001b[A\n",
      "Pages Processed:   8%|▊         | 28/362 [04:07<49:56,  8.97s/it]\n",
      "Days Processed:   0%|          | 0/2 [00:00<?, ?it/s]\u001b[A"
     ]
    },
    {
     "name": "stdout",
     "output_type": "stream",
     "text": [
      "30 October 2024\n"
     ]
    },
    {
     "name": "stderr",
     "output_type": "stream",
     "text": [
      "\n",
      "Days Processed:  50%|█████     | 1/2 [00:02<00:02,  2.25s/it]\u001b[A"
     ]
    },
    {
     "name": "stdout",
     "output_type": "stream",
     "text": [
      "29 October 2024\n"
     ]
    },
    {
     "name": "stderr",
     "output_type": "stream",
     "text": [
      "\n",
      "Days Processed: 100%|██████████| 2/2 [00:08<00:00,  4.33s/it]\u001b[A\n",
      "Pages Processed:   8%|▊         | 29/362 [04:15<49:05,  8.84s/it]\n",
      "Days Processed:   0%|          | 0/2 [00:00<?, ?it/s]\u001b[A"
     ]
    },
    {
     "name": "stdout",
     "output_type": "stream",
     "text": [
      "29 October 2024\n"
     ]
    },
    {
     "name": "stderr",
     "output_type": "stream",
     "text": [
      "\n",
      "Days Processed:  50%|█████     | 1/2 [00:02<00:02,  2.28s/it]\u001b[A"
     ]
    },
    {
     "name": "stdout",
     "output_type": "stream",
     "text": [
      "28 October 2024\n"
     ]
    },
    {
     "name": "stderr",
     "output_type": "stream",
     "text": [
      "\n",
      "Days Processed: 100%|██████████| 2/2 [00:09<00:00,  5.05s/it]\u001b[A\n",
      "Pages Processed:   8%|▊         | 30/362 [04:25<50:24,  9.11s/it]\n",
      "Days Processed:   0%|          | 0/2 [00:00<?, ?it/s]\u001b[A"
     ]
    },
    {
     "name": "stdout",
     "output_type": "stream",
     "text": [
      "28 October 2024\n"
     ]
    },
    {
     "name": "stderr",
     "output_type": "stream",
     "text": [
      "\n",
      "Days Processed:  50%|█████     | 1/2 [00:02<00:02,  2.36s/it]\u001b[A"
     ]
    },
    {
     "name": "stdout",
     "output_type": "stream",
     "text": [
      "27 October 2024\n"
     ]
    },
    {
     "name": "stderr",
     "output_type": "stream",
     "text": [
      "\n",
      "Days Processed: 100%|██████████| 2/2 [00:07<00:00,  4.27s/it]\u001b[A\n",
      "Pages Processed:   9%|▊         | 31/362 [04:33<49:15,  8.93s/it]\n",
      "Days Processed:   0%|          | 0/2 [00:00<?, ?it/s]\u001b[A"
     ]
    },
    {
     "name": "stdout",
     "output_type": "stream",
     "text": [
      "26 October 2024\n"
     ]
    },
    {
     "name": "stderr",
     "output_type": "stream",
     "text": [
      "\n",
      "Days Processed:  50%|█████     | 1/2 [00:04<00:04,  4.65s/it]\u001b[A"
     ]
    },
    {
     "name": "stdout",
     "output_type": "stream",
     "text": [
      "25 October 2024\n"
     ]
    },
    {
     "name": "stderr",
     "output_type": "stream",
     "text": [
      "\n",
      "Days Processed: 100%|██████████| 2/2 [00:09<00:00,  4.64s/it]\u001b[A\n",
      "Pages Processed:   9%|▉         | 32/362 [04:43<50:35,  9.20s/it]\n",
      "Days Processed:   0%|          | 0/2 [00:00<?, ?it/s]\u001b[A"
     ]
    },
    {
     "name": "stdout",
     "output_type": "stream",
     "text": [
      "25 October 2024\n"
     ]
    },
    {
     "name": "stderr",
     "output_type": "stream",
     "text": [
      "\n",
      "Days Processed:  50%|█████     | 1/2 [00:01<00:01,  1.96s/it]\u001b[A"
     ]
    },
    {
     "name": "stdout",
     "output_type": "stream",
     "text": [
      "24 October 2024\n"
     ]
    },
    {
     "name": "stderr",
     "output_type": "stream",
     "text": [
      "\n",
      "Days Processed: 100%|██████████| 2/2 [00:07<00:00,  4.13s/it]\u001b[A\n",
      "Pages Processed:   9%|▉         | 33/362 [04:51<48:37,  8.87s/it]\n",
      "Days Processed:   0%|          | 0/2 [00:00<?, ?it/s]\u001b[A"
     ]
    },
    {
     "name": "stdout",
     "output_type": "stream",
     "text": [
      "24 October 2024\n"
     ]
    },
    {
     "name": "stderr",
     "output_type": "stream",
     "text": [
      "\n",
      "Days Processed:  50%|█████     | 1/2 [00:03<00:03,  3.14s/it]\u001b[A"
     ]
    },
    {
     "name": "stdout",
     "output_type": "stream",
     "text": [
      "23 October 2024\n"
     ]
    },
    {
     "name": "stderr",
     "output_type": "stream",
     "text": [
      "\n",
      "Days Processed: 100%|██████████| 2/2 [00:08<00:00,  4.71s/it]\u001b[A\n",
      "Pages Processed:   9%|▉         | 34/362 [05:01<49:20,  9.03s/it]\n",
      "Days Processed:   0%|          | 0/2 [00:00<?, ?it/s]\u001b[A"
     ]
    },
    {
     "name": "stdout",
     "output_type": "stream",
     "text": [
      "23 October 2024\n"
     ]
    },
    {
     "name": "stderr",
     "output_type": "stream",
     "text": [
      "\n",
      "Days Processed:  50%|█████     | 1/2 [00:03<00:03,  3.34s/it]\u001b[A"
     ]
    },
    {
     "name": "stdout",
     "output_type": "stream",
     "text": [
      "22 October 2024\n"
     ]
    },
    {
     "name": "stderr",
     "output_type": "stream",
     "text": [
      "\n",
      "Days Processed: 100%|██████████| 2/2 [00:10<00:00,  5.56s/it]\u001b[A\n",
      "Pages Processed:  10%|▉         | 35/362 [05:12<52:21,  9.61s/it]\n",
      "Days Processed:   0%|          | 0/2 [00:00<?, ?it/s]\u001b[A"
     ]
    },
    {
     "name": "stdout",
     "output_type": "stream",
     "text": [
      "22 October 2024\n"
     ]
    },
    {
     "name": "stderr",
     "output_type": "stream",
     "text": [
      "\n",
      "Days Processed:  50%|█████     | 1/2 [00:02<00:02,  2.17s/it]\u001b[A"
     ]
    },
    {
     "name": "stdout",
     "output_type": "stream",
     "text": [
      "21 October 2024\n"
     ]
    },
    {
     "name": "stderr",
     "output_type": "stream",
     "text": [
      "\n",
      "Days Processed: 100%|██████████| 2/2 [00:08<00:00,  4.40s/it]\u001b[A\n",
      "Pages Processed:  10%|▉         | 36/362 [05:20<50:44,  9.34s/it]\n",
      "Days Processed:   0%|          | 0/2 [00:00<?, ?it/s]\u001b[A"
     ]
    },
    {
     "name": "stdout",
     "output_type": "stream",
     "text": [
      "21 October 2024\n"
     ]
    },
    {
     "name": "stderr",
     "output_type": "stream",
     "text": [
      "\n",
      "Days Processed:  50%|█████     | 1/2 [00:01<00:01,  1.85s/it]\u001b[A"
     ]
    },
    {
     "name": "stdout",
     "output_type": "stream",
     "text": [
      "20 October 2024\n"
     ]
    },
    {
     "name": "stderr",
     "output_type": "stream",
     "text": [
      "\n",
      "Days Processed: 100%|██████████| 2/2 [00:07<00:00,  3.90s/it]\u001b[A\n",
      "Pages Processed:  10%|█         | 37/362 [05:28<47:52,  8.84s/it]\n",
      "Days Processed:   0%|          | 0/2 [00:00<?, ?it/s]\u001b[A"
     ]
    },
    {
     "name": "stdout",
     "output_type": "stream",
     "text": [
      "19 October 2024\n"
     ]
    },
    {
     "name": "stderr",
     "output_type": "stream",
     "text": [
      "\n",
      "Days Processed:  50%|█████     | 1/2 [00:04<00:04,  4.13s/it]\u001b[A"
     ]
    },
    {
     "name": "stdout",
     "output_type": "stream",
     "text": [
      "18 October 2024\n"
     ]
    },
    {
     "name": "stderr",
     "output_type": "stream",
     "text": [
      "\n",
      "Days Processed: 100%|██████████| 2/2 [00:09<00:00,  5.09s/it]\u001b[A\n",
      "Pages Processed:  10%|█         | 38/362 [05:38<50:12,  9.30s/it]\n",
      "Days Processed:   0%|          | 0/2 [00:00<?, ?it/s]\u001b[A"
     ]
    },
    {
     "name": "stdout",
     "output_type": "stream",
     "text": [
      "18 October 2024\n"
     ]
    },
    {
     "name": "stderr",
     "output_type": "stream",
     "text": [
      "\n",
      "Days Processed:  50%|█████     | 1/2 [00:02<00:02,  2.27s/it]\u001b[A"
     ]
    },
    {
     "name": "stdout",
     "output_type": "stream",
     "text": [
      "17 October 2024\n"
     ]
    },
    {
     "name": "stderr",
     "output_type": "stream",
     "text": [
      "\n",
      "Days Processed: 100%|██████████| 2/2 [00:09<00:00,  5.24s/it]\u001b[A\n",
      "Pages Processed:  11%|█         | 39/362 [05:49<51:21,  9.54s/it]\n",
      "Days Processed:   0%|          | 0/2 [00:00<?, ?it/s]\u001b[A"
     ]
    },
    {
     "name": "stdout",
     "output_type": "stream",
     "text": [
      "17 October 2024\n"
     ]
    },
    {
     "name": "stderr",
     "output_type": "stream",
     "text": [
      "\n",
      "Days Processed:  50%|█████     | 1/2 [00:02<00:02,  2.22s/it]\u001b[A"
     ]
    },
    {
     "name": "stdout",
     "output_type": "stream",
     "text": [
      "16 October 2024\n"
     ]
    },
    {
     "name": "stderr",
     "output_type": "stream",
     "text": [
      "\n",
      "Days Processed: 100%|██████████| 2/2 [00:07<00:00,  4.13s/it]\u001b[A\n",
      "Pages Processed:  11%|█         | 40/362 [05:57<49:02,  9.14s/it]\n",
      "Days Processed:   0%|          | 0/2 [00:00<?, ?it/s]\u001b[A"
     ]
    },
    {
     "name": "stdout",
     "output_type": "stream",
     "text": [
      "16 October 2024\n"
     ]
    },
    {
     "name": "stderr",
     "output_type": "stream",
     "text": [
      "\n",
      "Days Processed:  50%|█████     | 1/2 [00:02<00:02,  2.12s/it]\u001b[A"
     ]
    },
    {
     "name": "stdout",
     "output_type": "stream",
     "text": [
      "15 October 2024\n"
     ]
    },
    {
     "name": "stderr",
     "output_type": "stream",
     "text": [
      "\n",
      "Days Processed: 100%|██████████| 2/2 [00:06<00:00,  3.45s/it]\u001b[A\n",
      "Pages Processed:  11%|█▏        | 41/362 [06:04<45:28,  8.50s/it]\n",
      "Days Processed:   0%|          | 0/2 [00:00<?, ?it/s]\u001b[A"
     ]
    },
    {
     "name": "stdout",
     "output_type": "stream",
     "text": [
      "15 October 2024\n"
     ]
    },
    {
     "name": "stderr",
     "output_type": "stream",
     "text": [
      "\n",
      "Days Processed:  50%|█████     | 1/2 [00:01<00:01,  1.81s/it]\u001b[A"
     ]
    },
    {
     "name": "stdout",
     "output_type": "stream",
     "text": [
      "14 October 2024\n"
     ]
    },
    {
     "name": "stderr",
     "output_type": "stream",
     "text": [
      "\n",
      "Days Processed: 100%|██████████| 2/2 [00:07<00:00,  4.28s/it]\u001b[A\n",
      "Pages Processed:  12%|█▏        | 42/362 [06:12<45:05,  8.45s/it]\n",
      "Days Processed:   0%|          | 0/3 [00:00<?, ?it/s]\u001b[A"
     ]
    },
    {
     "name": "stdout",
     "output_type": "stream",
     "text": [
      "14 October 2024\n"
     ]
    },
    {
     "name": "stderr",
     "output_type": "stream",
     "text": [
      "\n",
      "Days Processed:  33%|███▎      | 1/3 [00:01<00:03,  2.00s/it]\u001b[A"
     ]
    },
    {
     "name": "stdout",
     "output_type": "stream",
     "text": [
      "13 October 2024\n"
     ]
    },
    {
     "name": "stderr",
     "output_type": "stream",
     "text": [
      "\n",
      "Days Processed:  67%|██████▋   | 2/3 [00:07<00:03,  3.93s/it]\u001b[A"
     ]
    },
    {
     "name": "stdout",
     "output_type": "stream",
     "text": [
      "12 October 2024\n"
     ]
    },
    {
     "name": "stderr",
     "output_type": "stream",
     "text": [
      "\n",
      "Days Processed: 100%|██████████| 3/3 [00:11<00:00,  3.96s/it]\u001b[A\n",
      "Pages Processed:  12%|█▏        | 43/362 [06:24<50:14,  9.45s/it]\n",
      "Days Processed:   0%|          | 0/2 [00:00<?, ?it/s]\u001b[A"
     ]
    },
    {
     "name": "stdout",
     "output_type": "stream",
     "text": [
      "12 October 2024\n"
     ]
    },
    {
     "name": "stderr",
     "output_type": "stream",
     "text": [
      "\n",
      "Days Processed:  50%|█████     | 1/2 [00:01<00:01,  1.41s/it]\u001b[A"
     ]
    },
    {
     "name": "stdout",
     "output_type": "stream",
     "text": [
      "11 October 2024\n"
     ]
    },
    {
     "name": "stderr",
     "output_type": "stream",
     "text": [
      "\n",
      "Days Processed: 100%|██████████| 2/2 [00:07<00:00,  4.40s/it]\u001b[A\n",
      "Pages Processed:  12%|█▏        | 44/362 [06:32<48:25,  9.14s/it]\n",
      "Days Processed:   0%|          | 0/2 [00:00<?, ?it/s]\u001b[A"
     ]
    },
    {
     "name": "stdout",
     "output_type": "stream",
     "text": [
      "11 October 2024\n"
     ]
    },
    {
     "name": "stderr",
     "output_type": "stream",
     "text": [
      "\n",
      "Days Processed:  50%|█████     | 1/2 [00:02<00:02,  2.18s/it]\u001b[A"
     ]
    },
    {
     "name": "stdout",
     "output_type": "stream",
     "text": [
      "10 October 2024\n"
     ]
    },
    {
     "name": "stderr",
     "output_type": "stream",
     "text": [
      "\n",
      "Days Processed: 100%|██████████| 2/2 [00:08<00:00,  4.67s/it]\u001b[A\n",
      "Pages Processed:  12%|█▏        | 45/362 [06:41<48:11,  9.12s/it]\n",
      "Days Processed:   0%|          | 0/2 [00:00<?, ?it/s]\u001b[A"
     ]
    },
    {
     "name": "stdout",
     "output_type": "stream",
     "text": [
      "10 October 2024\n"
     ]
    },
    {
     "name": "stderr",
     "output_type": "stream",
     "text": [
      "\n",
      "Days Processed:  50%|█████     | 1/2 [00:02<00:02,  2.47s/it]\u001b[A"
     ]
    },
    {
     "name": "stdout",
     "output_type": "stream",
     "text": [
      "9 October 2024\n"
     ]
    },
    {
     "name": "stderr",
     "output_type": "stream",
     "text": [
      "\n",
      "Days Processed: 100%|██████████| 2/2 [00:07<00:00,  4.18s/it]\u001b[A\n",
      "Pages Processed:  13%|█▎        | 46/362 [06:50<46:47,  8.88s/it]\n",
      "Days Processed:   0%|          | 0/2 [00:00<?, ?it/s]\u001b[A"
     ]
    },
    {
     "name": "stdout",
     "output_type": "stream",
     "text": [
      "9 October 2024\n"
     ]
    },
    {
     "name": "stderr",
     "output_type": "stream",
     "text": [
      "\n",
      "Days Processed:  50%|█████     | 1/2 [00:02<00:02,  2.49s/it]\u001b[A"
     ]
    },
    {
     "name": "stdout",
     "output_type": "stream",
     "text": [
      "8 October 2024\n"
     ]
    },
    {
     "name": "stderr",
     "output_type": "stream",
     "text": [
      "\n",
      "Days Processed: 100%|██████████| 2/2 [00:06<00:00,  3.59s/it]\u001b[A\n",
      "Pages Processed:  13%|█▎        | 47/362 [06:57<44:14,  8.43s/it]\n",
      "Days Processed:   0%|          | 0/2 [00:00<?, ?it/s]\u001b[A"
     ]
    },
    {
     "name": "stdout",
     "output_type": "stream",
     "text": [
      "8 October 2024\n"
     ]
    },
    {
     "name": "stderr",
     "output_type": "stream",
     "text": [
      "\n",
      "Days Processed:  50%|█████     | 1/2 [00:01<00:01,  1.77s/it]\u001b[A"
     ]
    },
    {
     "name": "stdout",
     "output_type": "stream",
     "text": [
      "7 October 2024\n"
     ]
    },
    {
     "name": "stderr",
     "output_type": "stream",
     "text": [
      "\n",
      "Days Processed: 100%|██████████| 2/2 [00:06<00:00,  3.69s/it]\u001b[A\n",
      "Pages Processed:  13%|█▎        | 48/362 [07:04<42:16,  8.08s/it]\n",
      "Days Processed:   0%|          | 0/3 [00:00<?, ?it/s]\u001b[A"
     ]
    },
    {
     "name": "stdout",
     "output_type": "stream",
     "text": [
      "7 October 2024\n"
     ]
    },
    {
     "name": "stderr",
     "output_type": "stream",
     "text": [
      "\n",
      "Days Processed:  33%|███▎      | 1/3 [00:03<00:06,  3.10s/it]\u001b[A"
     ]
    },
    {
     "name": "stdout",
     "output_type": "stream",
     "text": [
      "6 October 2024\n"
     ]
    },
    {
     "name": "stderr",
     "output_type": "stream",
     "text": [
      "\n",
      "Days Processed:  67%|██████▋   | 2/3 [00:08<00:04,  4.52s/it]\u001b[A"
     ]
    },
    {
     "name": "stdout",
     "output_type": "stream",
     "text": [
      "5 October 2024\n"
     ]
    },
    {
     "name": "stderr",
     "output_type": "stream",
     "text": [
      "\n",
      "Days Processed: 100%|██████████| 3/3 [00:13<00:00,  4.86s/it]\u001b[A\n",
      "Pages Processed:  14%|█▎        | 49/362 [07:19<52:05,  9.98s/it]\n",
      "Days Processed:   0%|          | 0/2 [00:00<?, ?it/s]\u001b[A"
     ]
    },
    {
     "name": "stdout",
     "output_type": "stream",
     "text": [
      "5 October 2024\n"
     ]
    },
    {
     "name": "stderr",
     "output_type": "stream",
     "text": [
      "\n",
      "Days Processed:  50%|█████     | 1/2 [00:01<00:01,  1.62s/it]\u001b[A"
     ]
    },
    {
     "name": "stdout",
     "output_type": "stream",
     "text": [
      "4 October 2024\n"
     ]
    },
    {
     "name": "stderr",
     "output_type": "stream",
     "text": [
      "\n",
      "Days Processed: 100%|██████████| 2/2 [00:06<00:00,  3.75s/it]\u001b[A\n",
      "Pages Processed:  14%|█▍        | 50/362 [07:26<47:50,  9.20s/it]\n",
      "Days Processed:   0%|          | 0/2 [00:00<?, ?it/s]\u001b[A"
     ]
    },
    {
     "name": "stdout",
     "output_type": "stream",
     "text": [
      "4 October 2024\n"
     ]
    },
    {
     "name": "stderr",
     "output_type": "stream",
     "text": [
      "\n",
      "Days Processed:  50%|█████     | 1/2 [00:02<00:02,  2.08s/it]\u001b[A"
     ]
    },
    {
     "name": "stdout",
     "output_type": "stream",
     "text": [
      "3 October 2024\n"
     ]
    },
    {
     "name": "stderr",
     "output_type": "stream",
     "text": [
      "\n",
      "Days Processed: 100%|██████████| 2/2 [00:07<00:00,  4.26s/it]\u001b[A\n",
      "Pages Processed:  14%|█▍        | 51/362 [07:35<46:19,  8.94s/it]\n",
      "Days Processed:   0%|          | 0/2 [00:00<?, ?it/s]\u001b[A"
     ]
    },
    {
     "name": "stdout",
     "output_type": "stream",
     "text": [
      "3 October 2024\n"
     ]
    },
    {
     "name": "stderr",
     "output_type": "stream",
     "text": [
      "\n",
      "Days Processed:  50%|█████     | 1/2 [00:02<00:02,  2.43s/it]\u001b[A"
     ]
    },
    {
     "name": "stdout",
     "output_type": "stream",
     "text": [
      "2 October 2024\n"
     ]
    },
    {
     "name": "stderr",
     "output_type": "stream",
     "text": [
      "\n",
      "Days Processed: 100%|██████████| 2/2 [00:07<00:00,  4.24s/it]\u001b[A\n",
      "Pages Processed:  14%|█▍        | 52/362 [07:43<45:35,  8.83s/it]\n",
      "Days Processed:   0%|          | 0/2 [00:00<?, ?it/s]\u001b[A"
     ]
    },
    {
     "name": "stdout",
     "output_type": "stream",
     "text": [
      "2 October 2024\n"
     ]
    },
    {
     "name": "stderr",
     "output_type": "stream",
     "text": [
      "\n",
      "Days Processed:  50%|█████     | 1/2 [00:02<00:02,  2.02s/it]\u001b[A"
     ]
    },
    {
     "name": "stdout",
     "output_type": "stream",
     "text": [
      "1 October 2024\n"
     ]
    },
    {
     "name": "stderr",
     "output_type": "stream",
     "text": [
      "\n",
      "Days Processed: 100%|██████████| 2/2 [00:07<00:00,  4.01s/it]\u001b[A\n",
      "Pages Processed:  15%|█▍        | 53/362 [07:51<44:02,  8.55s/it]\n",
      "Days Processed:   0%|          | 0/2 [00:00<?, ?it/s]\u001b[A"
     ]
    },
    {
     "name": "stdout",
     "output_type": "stream",
     "text": [
      "30 September 2024\n"
     ]
    },
    {
     "name": "stderr",
     "output_type": "stream",
     "text": [
      "\n",
      "Days Processed:  50%|█████     | 1/2 [00:04<00:04,  4.93s/it]\u001b[A"
     ]
    },
    {
     "name": "stdout",
     "output_type": "stream",
     "text": [
      "29 September 2024\n"
     ]
    },
    {
     "name": "stderr",
     "output_type": "stream",
     "text": [
      "\n",
      "Days Processed: 100%|██████████| 2/2 [00:10<00:00,  5.12s/it]\u001b[A\n",
      "Pages Processed:  15%|█▍        | 54/362 [08:02<47:13,  9.20s/it]\n",
      "Days Processed:   0%|          | 0/2 [00:00<?, ?it/s]\u001b[A"
     ]
    },
    {
     "name": "stdout",
     "output_type": "stream",
     "text": [
      "29 September 2024\n"
     ]
    },
    {
     "name": "stderr",
     "output_type": "stream",
     "text": [
      "\n",
      "Days Processed:  50%|█████     | 1/2 [00:01<00:01,  1.94s/it]\u001b[A"
     ]
    },
    {
     "name": "stdout",
     "output_type": "stream",
     "text": [
      "28 September 2024\n"
     ]
    },
    {
     "name": "stderr",
     "output_type": "stream",
     "text": [
      "\n",
      "Days Processed: 100%|██████████| 2/2 [00:05<00:00,  3.02s/it]\u001b[A\n",
      "Pages Processed:  15%|█▌        | 55/362 [08:08<42:28,  8.30s/it]\n",
      "Days Processed:   0%|          | 0/2 [00:00<?, ?it/s]\u001b[A"
     ]
    },
    {
     "name": "stdout",
     "output_type": "stream",
     "text": [
      "28 September 2024\n"
     ]
    },
    {
     "name": "stderr",
     "output_type": "stream",
     "text": [
      "\n",
      "Days Processed:  50%|█████     | 1/2 [00:01<00:01,  1.51s/it]\u001b[A"
     ]
    },
    {
     "name": "stdout",
     "output_type": "stream",
     "text": [
      "27 September 2024\n"
     ]
    },
    {
     "name": "stderr",
     "output_type": "stream",
     "text": [
      "\n",
      "Days Processed: 100%|██████████| 2/2 [00:07<00:00,  4.10s/it]\u001b[A\n",
      "Pages Processed:  15%|█▌        | 56/362 [08:16<41:48,  8.20s/it]\n",
      "Days Processed:   0%|          | 0/2 [00:00<?, ?it/s]\u001b[A"
     ]
    },
    {
     "name": "stdout",
     "output_type": "stream",
     "text": [
      "27 September 2024\n"
     ]
    },
    {
     "name": "stderr",
     "output_type": "stream",
     "text": [
      "\n",
      "Days Processed:  50%|█████     | 1/2 [00:02<00:02,  2.37s/it]\u001b[A"
     ]
    },
    {
     "name": "stdout",
     "output_type": "stream",
     "text": [
      "26 September 2024\n"
     ]
    },
    {
     "name": "stderr",
     "output_type": "stream",
     "text": [
      "\n",
      "Days Processed: 100%|██████████| 2/2 [00:09<00:00,  5.08s/it]\u001b[A\n",
      "Pages Processed:  16%|█▌        | 57/362 [08:26<44:11,  8.69s/it]\n",
      "Days Processed:   0%|          | 0/2 [00:00<?, ?it/s]\u001b[A"
     ]
    },
    {
     "name": "stdout",
     "output_type": "stream",
     "text": [
      "26 September 2024\n"
     ]
    },
    {
     "name": "stderr",
     "output_type": "stream",
     "text": [
      "\n",
      "Days Processed:  50%|█████     | 1/2 [00:02<00:02,  2.72s/it]\u001b[A"
     ]
    },
    {
     "name": "stdout",
     "output_type": "stream",
     "text": [
      "25 September 2024\n"
     ]
    },
    {
     "name": "stderr",
     "output_type": "stream",
     "text": [
      "\n",
      "Days Processed: 100%|██████████| 2/2 [00:08<00:00,  4.29s/it]\u001b[A\n",
      "Pages Processed:  16%|█▌        | 58/362 [08:34<43:54,  8.66s/it]\n",
      "Days Processed:   0%|          | 0/2 [00:00<?, ?it/s]\u001b[A"
     ]
    },
    {
     "name": "stdout",
     "output_type": "stream",
     "text": [
      "25 September 2024\n"
     ]
    },
    {
     "name": "stderr",
     "output_type": "stream",
     "text": [
      "\n",
      "Days Processed:  50%|█████     | 1/2 [00:01<00:01,  1.85s/it]\u001b[A"
     ]
    },
    {
     "name": "stdout",
     "output_type": "stream",
     "text": [
      "24 September 2024\n"
     ]
    },
    {
     "name": "stderr",
     "output_type": "stream",
     "text": [
      "\n",
      "Days Processed: 100%|██████████| 2/2 [00:07<00:00,  4.06s/it]\u001b[A\n",
      "Pages Processed:  16%|█▋        | 59/362 [08:42<42:40,  8.45s/it]\n",
      "Days Processed:   0%|          | 0/3 [00:00<?, ?it/s]\u001b[A"
     ]
    },
    {
     "name": "stdout",
     "output_type": "stream",
     "text": [
      "24 September 2024\n"
     ]
    },
    {
     "name": "stderr",
     "output_type": "stream",
     "text": [
      "\n",
      "Days Processed:  33%|███▎      | 1/3 [00:02<00:04,  2.29s/it]\u001b[A"
     ]
    },
    {
     "name": "stdout",
     "output_type": "stream",
     "text": [
      "23 September 2024\n"
     ]
    },
    {
     "name": "stderr",
     "output_type": "stream",
     "text": [
      "\n",
      "Days Processed:  67%|██████▋   | 2/3 [00:07<00:04,  4.16s/it]\u001b[A"
     ]
    },
    {
     "name": "stdout",
     "output_type": "stream",
     "text": [
      "22 September 2024\n"
     ]
    },
    {
     "name": "stderr",
     "output_type": "stream",
     "text": [
      "\n",
      "Days Processed: 100%|██████████| 3/3 [00:13<00:00,  4.98s/it]\u001b[A\n",
      "Pages Processed:  17%|█▋        | 60/362 [08:57<51:18, 10.19s/it]\n",
      "Days Processed:   0%|          | 0/2 [00:00<?, ?it/s]\u001b[A"
     ]
    },
    {
     "name": "stdout",
     "output_type": "stream",
     "text": [
      "22 September 2024\n"
     ]
    },
    {
     "name": "stderr",
     "output_type": "stream",
     "text": [
      "\n",
      "Days Processed:  50%|█████     | 1/2 [00:03<00:03,  3.43s/it]\u001b[A"
     ]
    },
    {
     "name": "stdout",
     "output_type": "stream",
     "text": [
      "21 September 2024\n"
     ]
    },
    {
     "name": "stderr",
     "output_type": "stream",
     "text": [
      "\n",
      "Days Processed: 100%|██████████| 2/2 [00:06<00:00,  3.42s/it]\u001b[A\n",
      "Pages Processed:  17%|█▋        | 61/362 [09:04<47:07,  9.39s/it]\n",
      "Days Processed:   0%|          | 0/2 [00:00<?, ?it/s]\u001b[A"
     ]
    },
    {
     "name": "stdout",
     "output_type": "stream",
     "text": [
      "21 September 2024\n"
     ]
    },
    {
     "name": "stderr",
     "output_type": "stream",
     "text": [
      "\n",
      "Days Processed:  50%|█████     | 1/2 [00:01<00:01,  1.21s/it]\u001b[A"
     ]
    },
    {
     "name": "stdout",
     "output_type": "stream",
     "text": [
      "20 September 2024\n"
     ]
    },
    {
     "name": "stderr",
     "output_type": "stream",
     "text": [
      "\n",
      "Days Processed: 100%|██████████| 2/2 [00:07<00:00,  4.04s/it]\u001b[A\n",
      "Pages Processed:  17%|█▋        | 62/362 [09:12<44:26,  8.89s/it]\n",
      "Days Processed:   0%|          | 0/2 [00:00<?, ?it/s]\u001b[A"
     ]
    },
    {
     "name": "stdout",
     "output_type": "stream",
     "text": [
      "20 September 2024\n"
     ]
    },
    {
     "name": "stderr",
     "output_type": "stream",
     "text": [
      "\n",
      "Days Processed:  50%|█████     | 1/2 [00:02<00:02,  2.77s/it]\u001b[A"
     ]
    },
    {
     "name": "stdout",
     "output_type": "stream",
     "text": [
      "19 September 2024\n"
     ]
    },
    {
     "name": "stderr",
     "output_type": "stream",
     "text": [
      "\n",
      "Days Processed: 100%|██████████| 2/2 [00:09<00:00,  5.39s/it]\u001b[A\n",
      "Pages Processed:  17%|█▋        | 63/362 [09:22<46:37,  9.36s/it]\n",
      "Days Processed:   0%|          | 0/2 [00:00<?, ?it/s]\u001b[A"
     ]
    },
    {
     "name": "stdout",
     "output_type": "stream",
     "text": [
      "19 September 2024\n"
     ]
    },
    {
     "name": "stderr",
     "output_type": "stream",
     "text": [
      "\n",
      "Days Processed:  50%|█████     | 1/2 [00:03<00:03,  3.86s/it]\u001b[A"
     ]
    },
    {
     "name": "stdout",
     "output_type": "stream",
     "text": [
      "18 September 2024\n"
     ]
    },
    {
     "name": "stderr",
     "output_type": "stream",
     "text": [
      "\n",
      "Days Processed: 100%|██████████| 2/2 [00:08<00:00,  4.27s/it]\u001b[A\n",
      "Pages Processed:  18%|█▊        | 64/362 [09:31<45:47,  9.22s/it]\n",
      "Days Processed:   0%|          | 0/2 [00:00<?, ?it/s]\u001b[A"
     ]
    },
    {
     "name": "stdout",
     "output_type": "stream",
     "text": [
      "18 September 2024\n"
     ]
    },
    {
     "name": "stderr",
     "output_type": "stream",
     "text": [
      "\n",
      "Days Processed:  50%|█████     | 1/2 [00:02<00:02,  2.57s/it]\u001b[A"
     ]
    },
    {
     "name": "stdout",
     "output_type": "stream",
     "text": [
      "17 September 2024\n"
     ]
    },
    {
     "name": "stderr",
     "output_type": "stream",
     "text": [
      "\n",
      "Days Processed: 100%|██████████| 2/2 [00:08<00:00,  4.74s/it]\u001b[A\n",
      "Pages Processed:  18%|█▊        | 65/362 [09:40<45:47,  9.25s/it]\n",
      "Days Processed:   0%|          | 0/2 [00:00<?, ?it/s]\u001b[A"
     ]
    },
    {
     "name": "stdout",
     "output_type": "stream",
     "text": [
      "17 September 2024\n"
     ]
    },
    {
     "name": "stderr",
     "output_type": "stream",
     "text": [
      "\n",
      "Days Processed:  50%|█████     | 1/2 [00:02<00:02,  2.75s/it]\u001b[A"
     ]
    },
    {
     "name": "stdout",
     "output_type": "stream",
     "text": [
      "16 September 2024\n"
     ]
    },
    {
     "name": "stderr",
     "output_type": "stream",
     "text": [
      "\n",
      "Days Processed: 100%|██████████| 2/2 [00:07<00:00,  4.11s/it]\u001b[A\n",
      "Pages Processed:  18%|█▊        | 66/362 [09:49<44:14,  8.97s/it]\n",
      "Days Processed:   0%|          | 0/2 [00:00<?, ?it/s]\u001b[A"
     ]
    },
    {
     "name": "stdout",
     "output_type": "stream",
     "text": [
      "15 September 2024\n"
     ]
    },
    {
     "name": "stderr",
     "output_type": "stream",
     "text": [
      "\n",
      "Days Processed:  50%|█████     | 1/2 [00:04<00:04,  4.48s/it]\u001b[A"
     ]
    },
    {
     "name": "stdout",
     "output_type": "stream",
     "text": [
      "14 September 2024\n"
     ]
    },
    {
     "name": "stderr",
     "output_type": "stream",
     "text": [
      "\n",
      "Days Processed: 100%|██████████| 2/2 [00:07<00:00,  3.42s/it]\u001b[A\n",
      "Pages Processed:  19%|█▊        | 67/362 [09:57<42:21,  8.61s/it]\n",
      "Days Processed:   0%|          | 0/2 [00:00<?, ?it/s]\u001b[A"
     ]
    },
    {
     "name": "stdout",
     "output_type": "stream",
     "text": [
      "14 September 2024\n"
     ]
    },
    {
     "name": "stderr",
     "output_type": "stream",
     "text": [
      "\n",
      "Days Processed:  50%|█████     | 1/2 [00:02<00:02,  2.13s/it]\u001b[A"
     ]
    },
    {
     "name": "stdout",
     "output_type": "stream",
     "text": [
      "13 September 2024\n"
     ]
    },
    {
     "name": "stderr",
     "output_type": "stream",
     "text": [
      "\n",
      "Days Processed: 100%|██████████| 2/2 [00:07<00:00,  4.25s/it]\u001b[A\n",
      "Pages Processed:  19%|█▉        | 68/362 [10:05<41:56,  8.56s/it]\n",
      "Days Processed: 0it [00:00, ?it/s]\u001b[A\n",
      "Pages Processed:  19%|█▉        | 69/362 [10:05<29:29,  6.04s/it]\n",
      "Days Processed:   0%|          | 0/2 [00:00<?, ?it/s]\u001b[A\n",
      "Days Processed:  50%|█████     | 1/2 [00:00<00:00,  6.54it/s]\u001b[A"
     ]
    },
    {
     "name": "stdout",
     "output_type": "stream",
     "text": [
      "nan\n",
      "11 September 2024\n"
     ]
    },
    {
     "name": "stderr",
     "output_type": "stream",
     "text": [
      "\n",
      "Days Processed: 100%|██████████| 2/2 [00:05<00:00,  3.44s/it]\u001b[A\n",
      "Pages Processed:  19%|█▉        | 70/362 [10:12<29:55,  6.15s/it]\n",
      "Days Processed: 0it [00:00, ?it/s]\u001b[A\n",
      "Pages Processed:  20%|█▉        | 71/362 [10:12<21:06,  4.35s/it]\n",
      "Days Processed:   0%|          | 0/2 [00:00<?, ?it/s]\u001b[A\n",
      "Days Processed:  50%|█████     | 1/2 [00:00<00:00,  6.48it/s]\u001b[A"
     ]
    },
    {
     "name": "stdout",
     "output_type": "stream",
     "text": [
      "nan\n",
      "9 September 2024\n"
     ]
    },
    {
     "name": "stderr",
     "output_type": "stream",
     "text": [
      "\n",
      "Days Processed: 100%|██████████| 2/2 [00:04<00:00,  2.47s/it]\u001b[A\n",
      "Pages Processed:  20%|█▉        | 72/362 [10:16<21:36,  4.47s/it]\n",
      "Days Processed:   0%|          | 0/3 [00:00<?, ?it/s]\u001b[A"
     ]
    },
    {
     "name": "stdout",
     "output_type": "stream",
     "text": [
      "9 September 2024\n"
     ]
    },
    {
     "name": "stderr",
     "output_type": "stream",
     "text": [
      "\n",
      "Days Processed:  33%|███▎      | 1/3 [00:02<00:05,  2.58s/it]\u001b[A"
     ]
    },
    {
     "name": "stdout",
     "output_type": "stream",
     "text": [
      "8 September 2024\n"
     ]
    },
    {
     "name": "stderr",
     "output_type": "stream",
     "text": [
      "\n",
      "Days Processed:  67%|██████▋   | 2/3 [00:06<00:03,  3.62s/it]\u001b[A"
     ]
    },
    {
     "name": "stdout",
     "output_type": "stream",
     "text": [
      "7 September 2024\n"
     ]
    },
    {
     "name": "stderr",
     "output_type": "stream",
     "text": [
      "\n",
      "Days Processed: 100%|██████████| 3/3 [00:10<00:00,  3.71s/it]\u001b[A\n",
      "Pages Processed:  20%|██        | 73/362 [10:28<31:22,  6.51s/it]\n",
      "Days Processed:   0%|          | 0/2 [00:00<?, ?it/s]\u001b[A"
     ]
    },
    {
     "name": "stdout",
     "output_type": "stream",
     "text": [
      "7 September 2024\n"
     ]
    },
    {
     "name": "stderr",
     "output_type": "stream",
     "text": [
      "\n",
      "Days Processed:  50%|█████     | 1/2 [00:03<00:03,  3.05s/it]\u001b[A"
     ]
    },
    {
     "name": "stdout",
     "output_type": "stream",
     "text": [
      "6 September 2024\n"
     ]
    },
    {
     "name": "stderr",
     "output_type": "stream",
     "text": [
      "\n",
      "Days Processed: 100%|██████████| 2/2 [00:09<00:00,  4.86s/it]\u001b[A\n",
      "Pages Processed:  20%|██        | 74/362 [10:37<35:53,  7.48s/it]\n",
      "Days Processed:   0%|          | 0/2 [00:00<?, ?it/s]\u001b[A"
     ]
    },
    {
     "name": "stdout",
     "output_type": "stream",
     "text": [
      "6 September 2024\n"
     ]
    },
    {
     "name": "stderr",
     "output_type": "stream",
     "text": [
      "\n",
      "Days Processed:  50%|█████     | 1/2 [00:03<00:03,  3.60s/it]\u001b[A"
     ]
    },
    {
     "name": "stdout",
     "output_type": "stream",
     "text": [
      "5 September 2024\n"
     ]
    },
    {
     "name": "stderr",
     "output_type": "stream",
     "text": [
      "\n",
      "Days Processed: 100%|██████████| 2/2 [00:08<00:00,  4.24s/it]\u001b[A\n",
      "Pages Processed:  21%|██        | 75/362 [10:46<37:36,  7.86s/it]\n",
      "Days Processed:   0%|          | 0/2 [00:00<?, ?it/s]\u001b[A"
     ]
    },
    {
     "name": "stdout",
     "output_type": "stream",
     "text": [
      "5 September 2024\n"
     ]
    },
    {
     "name": "stderr",
     "output_type": "stream",
     "text": [
      "\n",
      "Days Processed:  50%|█████     | 1/2 [00:01<00:01,  1.81s/it]\u001b[A"
     ]
    },
    {
     "name": "stdout",
     "output_type": "stream",
     "text": [
      "4 September 2024\n"
     ]
    },
    {
     "name": "stderr",
     "output_type": "stream",
     "text": [
      "\n",
      "Days Processed: 100%|██████████| 2/2 [00:06<00:00,  3.43s/it]\u001b[A\n",
      "Pages Processed:  21%|██        | 76/362 [10:53<36:08,  7.58s/it]\n",
      "Days Processed: 0it [00:00, ?it/s]\u001b[A\n",
      "Pages Processed:  21%|██▏       | 77/362 [10:53<25:26,  5.36s/it]\n",
      "Days Processed:   0%|          | 0/2 [00:00<?, ?it/s]\u001b[A"
     ]
    },
    {
     "name": "stdout",
     "output_type": "stream",
     "text": [
      "3 September 2024\n"
     ]
    },
    {
     "name": "stderr",
     "output_type": "stream",
     "text": [
      "\n",
      "Days Processed:  50%|█████     | 1/2 [00:04<00:04,  4.53s/it]\u001b[A"
     ]
    },
    {
     "name": "stdout",
     "output_type": "stream",
     "text": [
      "2 September 2024\n"
     ]
    },
    {
     "name": "stderr",
     "output_type": "stream",
     "text": [
      "\n",
      "Days Processed: 100%|██████████| 2/2 [00:08<00:00,  4.20s/it]\u001b[A\n",
      "Pages Processed:  22%|██▏       | 78/362 [11:02<30:29,  6.44s/it]\n",
      "Days Processed: 0it [00:00, ?it/s]\u001b[A\n",
      "Pages Processed:  22%|██▏       | 79/362 [11:02<21:29,  4.56s/it]\n",
      "Days Processed:   0%|          | 0/2 [00:00<?, ?it/s]\u001b[A"
     ]
    },
    {
     "name": "stdout",
     "output_type": "stream",
     "text": [
      "31 August 2024\n"
     ]
    },
    {
     "name": "stderr",
     "output_type": "stream",
     "text": [
      "\n",
      "Days Processed:  50%|█████     | 1/2 [00:03<00:03,  3.90s/it]\u001b[A\n",
      "Days Processed: 100%|██████████| 2/2 [00:04<00:00,  1.70s/it]\u001b[A\n",
      "Pages Processed:  22%|██▏       | 80/362 [11:07<21:49,  4.64s/it]"
     ]
    },
    {
     "name": "stdout",
     "output_type": "stream",
     "text": [
      "nan\n"
     ]
    },
    {
     "name": "stderr",
     "output_type": "stream",
     "text": [
      "\n",
      "Days Processed:   0%|          | 0/2 [00:00<?, ?it/s]\u001b[A\n",
      "Days Processed:  50%|█████     | 1/2 [00:00<00:00,  6.32it/s]\u001b[A"
     ]
    },
    {
     "name": "stdout",
     "output_type": "stream",
     "text": [
      "nan\n",
      "29 August 2024\n"
     ]
    },
    {
     "name": "stderr",
     "output_type": "stream",
     "text": [
      "\n",
      "Days Processed: 100%|██████████| 2/2 [00:04<00:00,  2.73s/it]\u001b[A\n",
      "Pages Processed:  22%|██▏       | 81/362 [11:12<22:29,  4.80s/it]\n",
      "Days Processed: 0it [00:00, ?it/s]\u001b[A\n",
      "Pages Processed:  23%|██▎       | 82/362 [11:13<15:54,  3.41s/it]\n",
      "Days Processed: 0it [00:00, ?it/s]\u001b[A\n",
      "Pages Processed:  23%|██▎       | 83/362 [11:13<11:19,  2.44s/it]\n",
      "Days Processed:   0%|          | 0/3 [00:00<?, ?it/s]\u001b[A"
     ]
    },
    {
     "name": "stdout",
     "output_type": "stream",
     "text": [
      "27 August 2024\n"
     ]
    },
    {
     "name": "stderr",
     "output_type": "stream",
     "text": [
      "\n",
      "Days Processed:  33%|███▎      | 1/3 [00:05<00:11,  5.64s/it]\u001b[A"
     ]
    },
    {
     "name": "stdout",
     "output_type": "stream",
     "text": [
      "26 August 2024\n"
     ]
    },
    {
     "name": "stderr",
     "output_type": "stream",
     "text": [
      "\n",
      "Days Processed:  67%|██████▋   | 2/3 [00:09<00:04,  4.40s/it]\u001b[A"
     ]
    },
    {
     "name": "stdout",
     "output_type": "stream",
     "text": [
      "25 August 2024\n"
     ]
    },
    {
     "name": "stderr",
     "output_type": "stream",
     "text": [
      "\n",
      "Days Processed: 100%|██████████| 3/3 [00:13<00:00,  4.44s/it]\u001b[A\n",
      "Pages Processed:  23%|██▎       | 84/362 [11:27<27:33,  5.95s/it]\n",
      "Days Processed:   0%|          | 0/2 [00:00<?, ?it/s]\u001b[A"
     ]
    },
    {
     "name": "stdout",
     "output_type": "stream",
     "text": [
      "25 August 2024\n"
     ]
    },
    {
     "name": "stderr",
     "output_type": "stream",
     "text": [
      "\n",
      "Days Processed:  50%|█████     | 1/2 [00:03<00:03,  3.20s/it]\u001b[A"
     ]
    },
    {
     "name": "stdout",
     "output_type": "stream",
     "text": [
      "24 August 2024\n"
     ]
    },
    {
     "name": "stderr",
     "output_type": "stream",
     "text": [
      "\n",
      "Days Processed: 100%|██████████| 2/2 [00:06<00:00,  3.51s/it]\u001b[A\n",
      "Pages Processed:  23%|██▎       | 85/362 [11:34<29:31,  6.40s/it]\n",
      "Days Processed:   0%|          | 0/2 [00:00<?, ?it/s]\u001b[A"
     ]
    },
    {
     "name": "stdout",
     "output_type": "stream",
     "text": [
      "24 August 2024\n"
     ]
    },
    {
     "name": "stderr",
     "output_type": "stream",
     "text": [
      "\n",
      "Days Processed:  50%|█████     | 1/2 [00:02<00:02,  2.24s/it]\u001b[A"
     ]
    },
    {
     "name": "stdout",
     "output_type": "stream",
     "text": [
      "23 August 2024\n"
     ]
    },
    {
     "name": "stderr",
     "output_type": "stream",
     "text": [
      "\n",
      "Days Processed: 100%|██████████| 2/2 [00:07<00:00,  3.86s/it]\u001b[A\n",
      "Pages Processed:  24%|██▍       | 86/362 [11:42<31:14,  6.79s/it]\n",
      "Days Processed:   0%|          | 0/2 [00:00<?, ?it/s]\u001b[A"
     ]
    },
    {
     "name": "stdout",
     "output_type": "stream",
     "text": [
      "23 August 2024\n"
     ]
    },
    {
     "name": "stderr",
     "output_type": "stream",
     "text": [
      "\n",
      "Days Processed:  50%|█████     | 1/2 [00:02<00:02,  2.84s/it]\u001b[A"
     ]
    },
    {
     "name": "stdout",
     "output_type": "stream",
     "text": [
      "22 August 2024\n"
     ]
    },
    {
     "name": "stderr",
     "output_type": "stream",
     "text": [
      "\n",
      "Days Processed: 100%|██████████| 2/2 [00:07<00:00,  4.09s/it]\u001b[A\n",
      "Pages Processed:  24%|██▍       | 87/362 [11:50<33:09,  7.23s/it]\n",
      "Days Processed: 0it [00:00, ?it/s]\u001b[A\n",
      "Pages Processed:  24%|██▍       | 88/362 [11:50<23:20,  5.11s/it]\n",
      "Days Processed:   0%|          | 0/3 [00:00<?, ?it/s]\u001b[A"
     ]
    },
    {
     "name": "stdout",
     "output_type": "stream",
     "text": [
      "21 August 2024\n"
     ]
    },
    {
     "name": "stderr",
     "output_type": "stream",
     "text": [
      "\n",
      "Days Processed:  33%|███▎      | 1/3 [00:05<00:10,  5.36s/it]\u001b[A"
     ]
    },
    {
     "name": "stdout",
     "output_type": "stream",
     "text": [
      "20 August 2024\n"
     ]
    },
    {
     "name": "stderr",
     "output_type": "stream",
     "text": [
      "\n",
      "Days Processed:  67%|██████▋   | 2/3 [00:09<00:04,  4.87s/it]\u001b[A\n",
      "Days Processed: 100%|██████████| 3/3 [00:10<00:00,  2.72s/it]\u001b[A\n",
      "Pages Processed:  25%|██▍       | 89/362 [12:01<30:39,  6.74s/it]"
     ]
    },
    {
     "name": "stdout",
     "output_type": "stream",
     "text": [
      "nan\n"
     ]
    },
    {
     "name": "stderr",
     "output_type": "stream",
     "text": [
      "\n",
      "Days Processed: 0it [00:00, ?it/s]\u001b[A\n",
      "Pages Processed:  25%|██▍       | 90/362 [12:01<21:36,  4.77s/it]\n",
      "Days Processed:   0%|          | 0/2 [00:00<?, ?it/s]\u001b[A"
     ]
    },
    {
     "name": "stdout",
     "output_type": "stream",
     "text": [
      "18 August 2024\n"
     ]
    },
    {
     "name": "stderr",
     "output_type": "stream",
     "text": [
      "\n",
      "Days Processed:  50%|█████     | 1/2 [00:04<00:04,  4.43s/it]\u001b[A"
     ]
    },
    {
     "name": "stdout",
     "output_type": "stream",
     "text": [
      "17 August 2024\n"
     ]
    },
    {
     "name": "stderr",
     "output_type": "stream",
     "text": [
      "\n",
      "Days Processed: 100%|██████████| 2/2 [00:08<00:00,  3.99s/it]\u001b[A\n",
      "Pages Processed:  25%|██▌       | 91/362 [12:10<26:44,  5.92s/it]\n",
      "Days Processed:   0%|          | 0/3 [00:00<?, ?it/s]\u001b[A"
     ]
    },
    {
     "name": "stdout",
     "output_type": "stream",
     "text": [
      "17 August 2024\n"
     ]
    },
    {
     "name": "stderr",
     "output_type": "stream",
     "text": [
      "\n",
      "Days Processed:  33%|███▎      | 1/3 [00:02<00:04,  2.43s/it]\u001b[A"
     ]
    },
    {
     "name": "stdout",
     "output_type": "stream",
     "text": [
      "16 August 2024\n"
     ]
    },
    {
     "name": "stderr",
     "output_type": "stream",
     "text": [
      "\n",
      "Days Processed:  67%|██████▋   | 2/3 [00:06<00:03,  3.44s/it]\u001b[A\n",
      "Days Processed: 100%|██████████| 3/3 [00:06<00:00,  1.94s/it]\u001b[A\n",
      "Pages Processed:  25%|██▌       | 92/362 [12:17<28:36,  6.36s/it]"
     ]
    },
    {
     "name": "stdout",
     "output_type": "stream",
     "text": [
      "nan\n"
     ]
    },
    {
     "name": "stderr",
     "output_type": "stream",
     "text": [
      "\n",
      "Days Processed:   0%|          | 0/2 [00:00<?, ?it/s]\u001b[A"
     ]
    },
    {
     "name": "stdout",
     "output_type": "stream",
     "text": [
      "15 August 2024\n"
     ]
    },
    {
     "name": "stderr",
     "output_type": "stream",
     "text": [
      "\n",
      "Days Processed:  50%|█████     | 1/2 [00:03<00:03,  3.22s/it]\u001b[A"
     ]
    },
    {
     "name": "stdout",
     "output_type": "stream",
     "text": [
      "14 August 2024\n"
     ]
    },
    {
     "name": "stderr",
     "output_type": "stream",
     "text": [
      "\n",
      "Days Processed: 100%|██████████| 2/2 [00:07<00:00,  3.73s/it]\u001b[A\n",
      "Pages Processed:  26%|██▌       | 93/362 [12:25<30:25,  6.78s/it]\n",
      "Days Processed:   0%|          | 0/2 [00:00<?, ?it/s]\u001b[A"
     ]
    },
    {
     "name": "stdout",
     "output_type": "stream",
     "text": [
      "14 August 2024\n"
     ]
    },
    {
     "name": "stderr",
     "output_type": "stream",
     "text": [
      "\n",
      "Days Processed:  50%|█████     | 1/2 [00:04<00:04,  4.46s/it]\u001b[A"
     ]
    },
    {
     "name": "stdout",
     "output_type": "stream",
     "text": [
      "13 August 2024\n"
     ]
    },
    {
     "name": "stderr",
     "output_type": "stream",
     "text": [
      "\n",
      "Days Processed: 100%|██████████| 2/2 [00:09<00:00,  4.52s/it]\u001b[A\n",
      "Pages Processed:  26%|██▌       | 94/362 [12:34<33:56,  7.60s/it]\n",
      "Days Processed:   0%|          | 0/2 [00:00<?, ?it/s]\u001b[A"
     ]
    },
    {
     "name": "stdout",
     "output_type": "stream",
     "text": [
      "13 August 2024\n"
     ]
    },
    {
     "name": "stderr",
     "output_type": "stream",
     "text": [
      "\n",
      "Days Processed:  50%|█████     | 1/2 [00:02<00:02,  2.59s/it]\u001b[A"
     ]
    },
    {
     "name": "stdout",
     "output_type": "stream",
     "text": [
      "12 August 2024\n"
     ]
    },
    {
     "name": "stderr",
     "output_type": "stream",
     "text": [
      "\n",
      "Days Processed: 100%|██████████| 2/2 [00:08<00:00,  4.50s/it]\u001b[A\n",
      "Pages Processed:  26%|██▌       | 95/362 [12:43<35:36,  8.00s/it]\n",
      "Days Processed:   0%|          | 0/2 [00:00<?, ?it/s]\u001b[A"
     ]
    },
    {
     "name": "stdout",
     "output_type": "stream",
     "text": [
      "12 August 2024\n"
     ]
    },
    {
     "name": "stderr",
     "output_type": "stream",
     "text": [
      "\n",
      "Days Processed:  50%|█████     | 1/2 [00:03<00:03,  3.54s/it]\u001b[A"
     ]
    },
    {
     "name": "stdout",
     "output_type": "stream",
     "text": [
      "11 August 2024\n"
     ]
    },
    {
     "name": "stderr",
     "output_type": "stream",
     "text": [
      "\n",
      "Days Processed: 100%|██████████| 2/2 [00:09<00:00,  4.80s/it]\u001b[A\n",
      "Pages Processed:  27%|██▋       | 96/362 [12:53<37:44,  8.51s/it]\n",
      "Days Processed: 0it [00:00, ?it/s]\u001b[A\n",
      "Pages Processed:  27%|██▋       | 97/362 [12:53<26:34,  6.02s/it]\n",
      "Days Processed: 0it [00:00, ?it/s]\u001b[A\n",
      "Pages Processed:  27%|██▋       | 98/362 [12:53<18:44,  4.26s/it]\n",
      "Days Processed:   0%|          | 0/2 [00:00<?, ?it/s]\u001b[A"
     ]
    },
    {
     "name": "stdout",
     "output_type": "stream",
     "text": [
      "8 August 2024\n"
     ]
    },
    {
     "name": "stderr",
     "output_type": "stream",
     "text": [
      "\n",
      "Days Processed:  50%|█████     | 1/2 [00:04<00:04,  4.36s/it]\u001b[A\n",
      "Days Processed: 100%|██████████| 2/2 [00:04<00:00,  2.03s/it]\u001b[A\n",
      "Pages Processed:  27%|██▋       | 99/362 [12:59<20:03,  4.58s/it]"
     ]
    },
    {
     "name": "stdout",
     "output_type": "stream",
     "text": [
      "nan\n"
     ]
    },
    {
     "name": "stderr",
     "output_type": "stream",
     "text": [
      "\n",
      "Days Processed: 0it [00:00, ?it/s]\u001b[A\n",
      "Pages Processed:  28%|██▊       | 100/362 [12:59<14:12,  3.25s/it]\n",
      "Days Processed:   0%|          | 0/2 [00:00<?, ?it/s]\u001b[A"
     ]
    },
    {
     "name": "stdout",
     "output_type": "stream",
     "text": [
      "6 August 2024\n"
     ]
    },
    {
     "name": "stderr",
     "output_type": "stream",
     "text": [
      "\n",
      "Days Processed:  50%|█████     | 1/2 [00:05<00:05,  5.12s/it]\u001b[A"
     ]
    },
    {
     "name": "stdout",
     "output_type": "stream",
     "text": [
      "5 August 2024\n"
     ]
    },
    {
     "name": "stderr",
     "output_type": "stream",
     "text": [
      "\n",
      "Days Processed: 100%|██████████| 2/2 [00:09<00:00,  4.92s/it]\u001b[A\n",
      "Pages Processed:  28%|██▊       | 101/362 [13:09<23:26,  5.39s/it]\n",
      "Days Processed: 0it [00:00, ?it/s]\u001b[A\n",
      "Pages Processed:  28%|██▊       | 102/362 [13:09<16:33,  3.82s/it]\n",
      "Days Processed: 0it [00:00, ?it/s]\u001b[A\n",
      "Pages Processed:  28%|██▊       | 103/362 [13:10<11:44,  2.72s/it]\n",
      "Days Processed: 0it [00:00, ?it/s]\u001b[A\n",
      "Pages Processed:  29%|██▊       | 104/362 [13:10<08:24,  1.95s/it]\n",
      "Days Processed: 0it [00:00, ?it/s]\u001b[A\n",
      "Pages Processed:  29%|██▉       | 105/362 [13:10<06:04,  1.42s/it]\n",
      "Days Processed: 0it [00:00, ?it/s]\u001b[A\n",
      "Pages Processed:  29%|██▉       | 106/362 [13:10<04:25,  1.04s/it]\n",
      "Days Processed:   0%|          | 0/3 [00:00<?, ?it/s]\u001b[A"
     ]
    },
    {
     "name": "stdout",
     "output_type": "stream",
     "text": [
      "30 July 2024\n"
     ]
    },
    {
     "name": "stderr",
     "output_type": "stream",
     "text": [
      "\n",
      "Days Processed:  33%|███▎      | 1/3 [00:05<00:11,  5.64s/it]\u001b[A"
     ]
    },
    {
     "name": "stdout",
     "output_type": "stream",
     "text": [
      "29 July 2024\n"
     ]
    },
    {
     "name": "stderr",
     "output_type": "stream",
     "text": [
      "\n",
      "Days Processed:  67%|██████▋   | 2/3 [00:10<00:05,  5.25s/it]\u001b[A"
     ]
    },
    {
     "name": "stdout",
     "output_type": "stream",
     "text": [
      "28 July 2024\n"
     ]
    },
    {
     "name": "stderr",
     "output_type": "stream",
     "text": [
      "\n",
      "Days Processed: 100%|██████████| 3/3 [00:15<00:00,  4.94s/it]\u001b[A\n",
      "Pages Processed:  30%|██▉       | 107/362 [13:26<23:03,  5.42s/it]\n",
      "Days Processed: 0it [00:00, ?it/s]\u001b[A\n",
      "Pages Processed:  30%|██▉       | 108/362 [13:26<16:16,  3.85s/it]\n",
      "Days Processed: 0it [00:00, ?it/s]\u001b[A\n",
      "Pages Processed:  30%|███       | 109/362 [13:26<11:39,  2.76s/it]\n",
      "Days Processed: 0it [00:00, ?it/s]\u001b[A\n",
      "Pages Processed:  30%|███       | 110/362 [13:26<08:19,  1.98s/it]\n",
      "Days Processed:   0%|          | 0/2 [00:00<?, ?it/s]\u001b[A"
     ]
    },
    {
     "name": "stdout",
     "output_type": "stream",
     "text": [
      "25 July 2024\n"
     ]
    },
    {
     "name": "stderr",
     "output_type": "stream",
     "text": [
      "\n",
      "Days Processed:  50%|█████     | 1/2 [00:04<00:04,  4.41s/it]\u001b[A\n",
      "Days Processed: 100%|██████████| 2/2 [00:04<00:00,  1.90s/it]\u001b[A\n",
      "Pages Processed:  31%|███       | 111/362 [13:31<12:10,  2.91s/it]"
     ]
    },
    {
     "name": "stdout",
     "output_type": "stream",
     "text": [
      "nan\n"
     ]
    },
    {
     "name": "stderr",
     "output_type": "stream",
     "text": [
      "\n",
      "Days Processed: 0it [00:00, ?it/s]\u001b[A\n",
      "Pages Processed:  31%|███       | 112/362 [13:32<08:41,  2.09s/it]\n",
      "Days Processed:   0%|          | 0/2 [00:00<?, ?it/s]\u001b[A"
     ]
    },
    {
     "name": "stdout",
     "output_type": "stream",
     "text": [
      "23 July 2024\n"
     ]
    },
    {
     "name": "stderr",
     "output_type": "stream",
     "text": [
      "\n",
      "Days Processed:  50%|█████     | 1/2 [00:05<00:05,  5.74s/it]\u001b[A\n",
      "Days Processed: 100%|██████████| 2/2 [00:05<00:00,  2.45s/it]\u001b[A\n",
      "Pages Processed:  31%|███       | 113/362 [13:38<13:59,  3.37s/it]"
     ]
    },
    {
     "name": "stdout",
     "output_type": "stream",
     "text": [
      "nan\n"
     ]
    },
    {
     "name": "stderr",
     "output_type": "stream",
     "text": [
      "\n",
      "Days Processed:   0%|          | 0/3 [00:00<?, ?it/s]\u001b[A\n",
      "Days Processed:  33%|███▎      | 1/3 [00:00<00:00,  7.07it/s]\u001b[A"
     ]
    },
    {
     "name": "stdout",
     "output_type": "stream",
     "text": [
      "nan\n",
      "21 July 2024\n"
     ]
    },
    {
     "name": "stderr",
     "output_type": "stream",
     "text": [
      "\n",
      "Days Processed:  67%|██████▋   | 2/3 [00:04<00:02,  2.64s/it]\u001b[A\n",
      "Days Processed: 100%|██████████| 3/3 [00:04<00:00,  1.51s/it]\u001b[A\n",
      "Pages Processed:  31%|███▏      | 114/362 [13:43<16:11,  3.92s/it]"
     ]
    },
    {
     "name": "stdout",
     "output_type": "stream",
     "text": [
      "nan\n"
     ]
    },
    {
     "name": "stderr",
     "output_type": "stream",
     "text": [
      "\n",
      "Days Processed:   0%|          | 0/2 [00:00<?, ?it/s]\u001b[A"
     ]
    },
    {
     "name": "stdout",
     "output_type": "stream",
     "text": [
      "20 July 2024\n"
     ]
    },
    {
     "name": "stderr",
     "output_type": "stream",
     "text": [
      "\n",
      "Days Processed:  50%|█████     | 1/2 [00:04<00:04,  4.26s/it]\u001b[A\n",
      "Days Processed: 100%|██████████| 2/2 [00:04<00:00,  1.85s/it]\u001b[A\n",
      "Pages Processed:  32%|███▏      | 115/362 [13:48<17:20,  4.21s/it]"
     ]
    },
    {
     "name": "stdout",
     "output_type": "stream",
     "text": [
      "nan\n"
     ]
    },
    {
     "name": "stderr",
     "output_type": "stream",
     "text": [
      "\n",
      "Days Processed: 0it [00:00, ?it/s]\u001b[A\n",
      "Pages Processed:  32%|███▏      | 116/362 [13:48<12:17,  3.00s/it]\n",
      "Days Processed: 0it [00:00, ?it/s]\u001b[A\n",
      "Pages Processed:  32%|███▏      | 117/362 [13:48<08:46,  2.15s/it]\n",
      "Days Processed:   0%|          | 0/2 [00:00<?, ?it/s]\u001b[A"
     ]
    },
    {
     "name": "stdout",
     "output_type": "stream",
     "text": [
      "17 July 2024\n"
     ]
    },
    {
     "name": "stderr",
     "output_type": "stream",
     "text": [
      "\n",
      "Days Processed:  50%|█████     | 1/2 [00:05<00:05,  5.61s/it]\u001b[A"
     ]
    },
    {
     "name": "stdout",
     "output_type": "stream",
     "text": [
      "16 July 2024\n"
     ]
    },
    {
     "name": "stderr",
     "output_type": "stream",
     "text": [
      "\n",
      "Days Processed: 100%|██████████| 2/2 [00:12<00:00,  6.14s/it]\u001b[A\n",
      "Pages Processed:  33%|███▎      | 118/362 [14:02<22:44,  5.59s/it]\n",
      "Days Processed: 0it [00:00, ?it/s]\u001b[A\n",
      "Pages Processed:  33%|███▎      | 119/362 [14:02<16:02,  3.96s/it]\n",
      "Days Processed: 0it [00:00, ?it/s]\u001b[A\n",
      "Pages Processed:  33%|███▎      | 120/362 [14:02<11:23,  2.82s/it]\n",
      "Days Processed: 0it [00:00, ?it/s]\u001b[A\n",
      "Pages Processed:  33%|███▎      | 121/362 [14:02<08:07,  2.02s/it]\n",
      "Days Processed:   0%|          | 0/2 [00:00<?, ?it/s]\u001b[A"
     ]
    },
    {
     "name": "stdout",
     "output_type": "stream",
     "text": [
      "13 July 2024\n"
     ]
    },
    {
     "name": "stderr",
     "output_type": "stream",
     "text": [
      "\n",
      "Days Processed:  50%|█████     | 1/2 [00:03<00:03,  3.41s/it]\u001b[A"
     ]
    },
    {
     "name": "stdout",
     "output_type": "stream",
     "text": [
      "12 July 2024\n"
     ]
    },
    {
     "name": "stderr",
     "output_type": "stream",
     "text": [
      "\n",
      "Days Processed: 100%|██████████| 2/2 [00:08<00:00,  4.38s/it]\u001b[A\n",
      "Pages Processed:  34%|███▎      | 122/362 [14:11<16:24,  4.10s/it]\n",
      "Days Processed: 0it [00:00, ?it/s]\u001b[A\n",
      "Pages Processed:  34%|███▍      | 123/362 [14:12<11:38,  2.92s/it]\n",
      "Days Processed:   0%|          | 0/2 [00:00<?, ?it/s]\u001b[A"
     ]
    },
    {
     "name": "stdout",
     "output_type": "stream",
     "text": [
      "10 July 2024\n"
     ]
    },
    {
     "name": "stderr",
     "output_type": "stream",
     "text": [
      "\n",
      "Days Processed:  50%|█████     | 1/2 [00:04<00:04,  4.63s/it]\u001b[A\n",
      "Days Processed: 100%|██████████| 2/2 [00:04<00:00,  2.00s/it]\u001b[A\n",
      "Pages Processed:  34%|███▍      | 124/362 [14:17<14:22,  3.62s/it]"
     ]
    },
    {
     "name": "stdout",
     "output_type": "stream",
     "text": [
      "nan\n"
     ]
    },
    {
     "name": "stderr",
     "output_type": "stream",
     "text": [
      "\n",
      "Days Processed:   0%|          | 0/2 [00:00<?, ?it/s]\u001b[A"
     ]
    },
    {
     "name": "stdout",
     "output_type": "stream",
     "text": [
      "9 July 2024\n"
     ]
    },
    {
     "name": "stderr",
     "output_type": "stream",
     "text": [
      "\n",
      "Days Processed:  50%|█████     | 1/2 [00:05<00:05,  5.38s/it]\u001b[A"
     ]
    },
    {
     "name": "stdout",
     "output_type": "stream",
     "text": [
      "8 July 2024\n"
     ]
    },
    {
     "name": "stderr",
     "output_type": "stream",
     "text": [
      "\n",
      "Days Processed: 100%|██████████| 2/2 [00:13<00:00,  6.90s/it]\u001b[A\n",
      "Pages Processed:  35%|███▍      | 125/362 [14:31<26:23,  6.68s/it]\n",
      "Days Processed: 0it [00:00, ?it/s]\u001b[A\n",
      "Pages Processed:  35%|███▍      | 126/362 [14:31<18:35,  4.73s/it]\n",
      "Days Processed: 0it [00:00, ?it/s]\u001b[A\n",
      "Pages Processed:  35%|███▌      | 127/362 [14:31<13:09,  3.36s/it]\n",
      "Days Processed: 0it [00:00, ?it/s]\u001b[A\n",
      "Pages Processed:  35%|███▌      | 128/362 [14:31<09:22,  2.40s/it]\n",
      "Days Processed: 0it [00:00, ?it/s]\u001b[A\n",
      "Pages Processed:  36%|███▌      | 129/362 [14:31<06:43,  1.73s/it]\n",
      "Days Processed:   0%|          | 0/2 [00:00<?, ?it/s]\u001b[A"
     ]
    },
    {
     "name": "stdout",
     "output_type": "stream",
     "text": [
      "4 July 2024\n"
     ]
    },
    {
     "name": "stderr",
     "output_type": "stream",
     "text": [
      "\n",
      "Days Processed:  50%|█████     | 1/2 [00:05<00:05,  5.41s/it]\u001b[A"
     ]
    },
    {
     "name": "stdout",
     "output_type": "stream",
     "text": [
      "3 July 2024\n"
     ]
    },
    {
     "name": "stderr",
     "output_type": "stream",
     "text": [
      "\n",
      "Days Processed: 100%|██████████| 2/2 [00:11<00:00,  5.82s/it]\u001b[A\n",
      "Pages Processed:  36%|███▌      | 130/362 [14:43<18:36,  4.81s/it]\n",
      "Days Processed:   0%|          | 0/2 [00:00<?, ?it/s]\u001b[A"
     ]
    },
    {
     "name": "stdout",
     "output_type": "stream",
     "text": [
      "3 July 2024\n"
     ]
    },
    {
     "name": "stderr",
     "output_type": "stream",
     "text": [
      "\n",
      "Days Processed:  50%|█████     | 1/2 [00:03<00:03,  3.41s/it]\u001b[A"
     ]
    },
    {
     "name": "stdout",
     "output_type": "stream",
     "text": [
      "2 July 2024\n"
     ]
    },
    {
     "name": "stderr",
     "output_type": "stream",
     "text": [
      "\n",
      "Days Processed: 100%|██████████| 2/2 [00:07<00:00,  3.98s/it]\u001b[A\n",
      "Pages Processed:  36%|███▌      | 131/362 [14:52<22:32,  5.85s/it]\n",
      "Days Processed: 0it [00:00, ?it/s]\u001b[A\n",
      "Pages Processed:  36%|███▋      | 132/362 [14:52<15:53,  4.15s/it]\n",
      "Days Processed:   0%|          | 0/2 [00:00<?, ?it/s]\u001b[A"
     ]
    },
    {
     "name": "stdout",
     "output_type": "stream",
     "text": [
      "1 July 2024\n"
     ]
    },
    {
     "name": "stderr",
     "output_type": "stream",
     "text": [
      "\n",
      "Days Processed:  50%|█████     | 1/2 [00:05<00:05,  5.28s/it]\u001b[A"
     ]
    },
    {
     "name": "stdout",
     "output_type": "stream",
     "text": [
      "30 June 2024\n"
     ]
    },
    {
     "name": "stderr",
     "output_type": "stream",
     "text": [
      "\n",
      "Days Processed: 100%|██████████| 2/2 [00:09<00:00,  4.92s/it]\u001b[A\n",
      "Pages Processed:  37%|███▋      | 133/362 [15:02<23:01,  6.03s/it]\n",
      "Days Processed: 0it [00:00, ?it/s]\u001b[A\n",
      "Pages Processed:  37%|███▋      | 134/362 [15:02<16:14,  4.27s/it]\n",
      "Days Processed: 0it [00:00, ?it/s]\u001b[A\n",
      "Pages Processed:  37%|███▋      | 135/362 [15:03<11:30,  3.04s/it]\n",
      "Days Processed:   0%|          | 0/2 [00:00<?, ?it/s]\u001b[A\n",
      "Days Processed:  50%|█████     | 1/2 [00:00<00:00,  6.24it/s]\u001b[A"
     ]
    },
    {
     "name": "stdout",
     "output_type": "stream",
     "text": [
      "nan\n",
      "27 June 2024\n"
     ]
    },
    {
     "name": "stderr",
     "output_type": "stream",
     "text": [
      "\n",
      "Days Processed: 100%|██████████| 2/2 [00:05<00:00,  3.08s/it]\u001b[A\n",
      "Pages Processed:  38%|███▊      | 136/362 [15:08<14:37,  3.88s/it]\n",
      "Days Processed:   0%|          | 0/3 [00:00<?, ?it/s]\u001b[A"
     ]
    },
    {
     "name": "stdout",
     "output_type": "stream",
     "text": [
      "27 June 2024\n"
     ]
    },
    {
     "name": "stderr",
     "output_type": "stream",
     "text": [
      "\n",
      "Days Processed:  33%|███▎      | 1/3 [00:04<00:08,  4.33s/it]\u001b[A"
     ]
    },
    {
     "name": "stdout",
     "output_type": "stream",
     "text": [
      "26 June 2024\n"
     ]
    },
    {
     "name": "stderr",
     "output_type": "stream",
     "text": [
      "\n",
      "Days Processed:  67%|██████▋   | 2/3 [00:09<00:04,  4.63s/it]\u001b[A"
     ]
    },
    {
     "name": "stdout",
     "output_type": "stream",
     "text": [
      "25 June 2024\n"
     ]
    },
    {
     "name": "stderr",
     "output_type": "stream",
     "text": [
      "\n",
      "Days Processed: 100%|██████████| 3/3 [00:16<00:00,  6.04s/it]\u001b[A\n",
      "Pages Processed:  38%|███▊      | 137/362 [15:26<30:05,  8.02s/it]\n",
      "Days Processed: 0it [00:00, ?it/s]\u001b[A\n",
      "Pages Processed:  38%|███▊      | 138/362 [15:26<21:09,  5.67s/it]\n",
      "Days Processed: 0it [00:00, ?it/s]\u001b[A\n",
      "Pages Processed:  38%|███▊      | 139/362 [15:26<14:55,  4.02s/it]\n",
      "Days Processed: 0it [00:00, ?it/s]\u001b[A\n",
      "Pages Processed:  39%|███▊      | 140/362 [15:27<10:35,  2.86s/it]\n",
      "Days Processed: 0it [00:00, ?it/s]\u001b[A\n",
      "Pages Processed:  39%|███▉      | 141/362 [15:27<07:33,  2.05s/it]\n",
      "Days Processed:   0%|          | 0/2 [00:00<?, ?it/s]\u001b[A"
     ]
    },
    {
     "name": "stdout",
     "output_type": "stream",
     "text": [
      "21 June 2024\n"
     ]
    },
    {
     "name": "stderr",
     "output_type": "stream",
     "text": [
      "\n",
      "Days Processed:  50%|█████     | 1/2 [00:06<00:06,  6.72s/it]\u001b[A"
     ]
    },
    {
     "name": "stdout",
     "output_type": "stream",
     "text": [
      "20 June 2024\n"
     ]
    },
    {
     "name": "stderr",
     "output_type": "stream",
     "text": [
      "\n",
      "Days Processed: 100%|██████████| 2/2 [00:13<00:00,  6.90s/it]\u001b[A\n",
      "Pages Processed:  39%|███▉      | 142/362 [15:41<21:01,  5.73s/it]\n",
      "Days Processed:   0%|          | 0/2 [00:00<?, ?it/s]\u001b[A"
     ]
    },
    {
     "name": "stdout",
     "output_type": "stream",
     "text": [
      "20 June 2024\n"
     ]
    },
    {
     "name": "stderr",
     "output_type": "stream",
     "text": [
      "\n",
      "Days Processed:  50%|█████     | 1/2 [00:02<00:02,  2.14s/it]\u001b[A"
     ]
    },
    {
     "name": "stdout",
     "output_type": "stream",
     "text": [
      "19 June 2024\n"
     ]
    },
    {
     "name": "stderr",
     "output_type": "stream",
     "text": [
      "\n",
      "Days Processed: 100%|██████████| 2/2 [00:07<00:00,  4.03s/it]\u001b[A\n",
      "Pages Processed:  40%|███▉      | 143/362 [15:49<23:21,  6.40s/it]\n",
      "Days Processed:   0%|          | 0/2 [00:00<?, ?it/s]\u001b[A"
     ]
    },
    {
     "name": "stdout",
     "output_type": "stream",
     "text": [
      "19 June 2024\n"
     ]
    },
    {
     "name": "stderr",
     "output_type": "stream",
     "text": [
      "\n",
      "Days Processed:  50%|█████     | 1/2 [00:02<00:02,  2.70s/it]\u001b[A"
     ]
    },
    {
     "name": "stdout",
     "output_type": "stream",
     "text": [
      "18 June 2024\n"
     ]
    },
    {
     "name": "stderr",
     "output_type": "stream",
     "text": [
      "\n",
      "Days Processed: 100%|██████████| 2/2 [00:07<00:00,  3.84s/it]\u001b[A\n",
      "Pages Processed:  40%|███▉      | 144/362 [15:57<24:49,  6.83s/it]\n",
      "Days Processed:   0%|          | 0/3 [00:00<?, ?it/s]\u001b[A"
     ]
    },
    {
     "name": "stdout",
     "output_type": "stream",
     "text": [
      "18 June 2024\n"
     ]
    },
    {
     "name": "stderr",
     "output_type": "stream",
     "text": [
      "\n",
      "Days Processed:  33%|███▎      | 1/3 [00:03<00:07,  3.70s/it]\u001b[A"
     ]
    },
    {
     "name": "stdout",
     "output_type": "stream",
     "text": [
      "17 June 2024\n"
     ]
    },
    {
     "name": "stderr",
     "output_type": "stream",
     "text": [
      "\n",
      "Days Processed:  67%|██████▋   | 2/3 [00:09<00:05,  5.03s/it]\u001b[A\n",
      "Days Processed: 100%|██████████| 3/3 [00:09<00:00,  2.81s/it]\u001b[A\n",
      "Pages Processed:  40%|████      | 145/362 [16:07<28:33,  7.90s/it]"
     ]
    },
    {
     "name": "stdout",
     "output_type": "stream",
     "text": [
      "nan\n"
     ]
    },
    {
     "name": "stderr",
     "output_type": "stream",
     "text": [
      "\n",
      "Days Processed:   0%|          | 0/2 [00:00<?, ?it/s]\u001b[A"
     ]
    },
    {
     "name": "stdout",
     "output_type": "stream",
     "text": [
      "16 June 2024\n"
     ]
    },
    {
     "name": "stderr",
     "output_type": "stream",
     "text": [
      "\n",
      "Days Processed:  50%|█████     | 1/2 [00:04<00:04,  4.22s/it]\u001b[A\n",
      "Days Processed: 100%|██████████| 2/2 [00:04<00:00,  1.83s/it]\u001b[A\n",
      "Pages Processed:  40%|████      | 146/362 [16:12<25:10,  6.99s/it]"
     ]
    },
    {
     "name": "stdout",
     "output_type": "stream",
     "text": [
      "nan\n"
     ]
    },
    {
     "name": "stderr",
     "output_type": "stream",
     "text": [
      "\n",
      "Days Processed:   0%|          | 0/2 [00:00<?, ?it/s]\u001b[A"
     ]
    },
    {
     "name": "stdout",
     "output_type": "stream",
     "text": [
      "15 June 2024\n"
     ]
    },
    {
     "name": "stderr",
     "output_type": "stream",
     "text": [
      "\n",
      "Days Processed:  50%|█████     | 1/2 [00:03<00:03,  3.57s/it]\u001b[A\n",
      "Days Processed: 100%|██████████| 2/2 [00:03<00:00,  1.56s/it]\u001b[A\n",
      "Pages Processed:  41%|████      | 147/362 [16:16<22:05,  6.17s/it]"
     ]
    },
    {
     "name": "stdout",
     "output_type": "stream",
     "text": [
      "nan\n"
     ]
    },
    {
     "name": "stderr",
     "output_type": "stream",
     "text": [
      "\n",
      "Days Processed:   0%|          | 0/2 [00:00<?, ?it/s]\u001b[A"
     ]
    },
    {
     "name": "stdout",
     "output_type": "stream",
     "text": [
      "14 June 2024\n"
     ]
    },
    {
     "name": "stderr",
     "output_type": "stream",
     "text": [
      "\n",
      "Days Processed:  50%|█████     | 1/2 [00:04<00:04,  4.07s/it]\u001b[A"
     ]
    },
    {
     "name": "stdout",
     "output_type": "stream",
     "text": [
      "13 June 2024\n"
     ]
    },
    {
     "name": "stderr",
     "output_type": "stream",
     "text": [
      "\n",
      "Days Processed: 100%|██████████| 2/2 [00:08<00:00,  4.56s/it]\u001b[A\n",
      "Pages Processed:  41%|████      | 148/362 [16:26<25:46,  7.23s/it]\n",
      "Days Processed: 0it [00:00, ?it/s]\u001b[A\n",
      "Pages Processed:  41%|████      | 149/362 [16:26<18:08,  5.11s/it]\n",
      "Days Processed: 0it [00:00, ?it/s]\u001b[A\n",
      "Pages Processed:  41%|████▏     | 150/362 [16:26<12:49,  3.63s/it]\n",
      "Days Processed: 0it [00:00, ?it/s]\u001b[A\n",
      "Pages Processed:  42%|████▏     | 151/362 [16:27<09:06,  2.59s/it]\n",
      "Days Processed: 0it [00:00, ?it/s]\u001b[A\n",
      "Pages Processed:  42%|████▏     | 152/362 [16:27<06:31,  1.86s/it]\n",
      "Days Processed:   0%|          | 0/3 [00:00<?, ?it/s]\u001b[A"
     ]
    },
    {
     "name": "stdout",
     "output_type": "stream",
     "text": [
      "8 June 2024\n"
     ]
    },
    {
     "name": "stderr",
     "output_type": "stream",
     "text": [
      "\n",
      "Days Processed:  33%|███▎      | 1/3 [00:03<00:06,  3.40s/it]\u001b[A"
     ]
    },
    {
     "name": "stdout",
     "output_type": "stream",
     "text": [
      "7 June 2024\n"
     ]
    },
    {
     "name": "stderr",
     "output_type": "stream",
     "text": [
      "\n",
      "Days Processed:  67%|██████▋   | 2/3 [00:09<00:04,  4.93s/it]\u001b[A\n",
      "Days Processed: 100%|██████████| 3/3 [00:09<00:00,  2.75s/it]\u001b[A\n",
      "Pages Processed:  42%|████▏     | 153/362 [16:37<15:05,  4.33s/it]"
     ]
    },
    {
     "name": "stdout",
     "output_type": "stream",
     "text": [
      "nan\n"
     ]
    },
    {
     "name": "stderr",
     "output_type": "stream",
     "text": [
      "\n",
      "Days Processed: 0it [00:00, ?it/s]\u001b[A\n",
      "Pages Processed:  43%|████▎     | 154/362 [16:37<10:40,  3.08s/it]\n",
      "Days Processed:   0%|          | 0/2 [00:00<?, ?it/s]\u001b[A"
     ]
    },
    {
     "name": "stdout",
     "output_type": "stream",
     "text": [
      "5 June 2024\n"
     ]
    },
    {
     "name": "stderr",
     "output_type": "stream",
     "text": [
      "\n",
      "Days Processed:  50%|█████     | 1/2 [00:04<00:04,  4.09s/it]\u001b[A\n",
      "Days Processed: 100%|██████████| 2/2 [00:04<00:00,  1.78s/it]\u001b[A\n",
      "Pages Processed:  43%|████▎     | 155/362 [16:42<12:22,  3.59s/it]"
     ]
    },
    {
     "name": "stdout",
     "output_type": "stream",
     "text": [
      "nan\n"
     ]
    },
    {
     "name": "stderr",
     "output_type": "stream",
     "text": [
      "\n",
      "Days Processed: 0it [00:00, ?it/s]\u001b[A\n",
      "Pages Processed:  43%|████▎     | 156/362 [16:42<08:47,  2.56s/it]\n",
      "Days Processed:   0%|          | 0/2 [00:00<?, ?it/s]\u001b[A\n",
      "Days Processed:  50%|█████     | 1/2 [00:00<00:00,  6.15it/s]\u001b[A\n",
      "Days Processed: 100%|██████████| 2/2 [00:00<00:00,  6.09it/s]\u001b[A\n",
      "Pages Processed:  43%|████▎     | 157/362 [16:43<07:10,  2.10s/it]"
     ]
    },
    {
     "name": "stdout",
     "output_type": "stream",
     "text": [
      "nan\n",
      "nan\n"
     ]
    },
    {
     "name": "stderr",
     "output_type": "stream",
     "text": [
      "\n",
      "Days Processed:   0%|          | 0/2 [00:00<?, ?it/s]\u001b[A\n",
      "Days Processed:  50%|█████     | 1/2 [00:00<00:00,  6.19it/s]\u001b[A"
     ]
    },
    {
     "name": "stdout",
     "output_type": "stream",
     "text": [
      "nan\n",
      "1 June 2024\n"
     ]
    },
    {
     "name": "stderr",
     "output_type": "stream",
     "text": [
      "\n",
      "Days Processed: 100%|██████████| 2/2 [00:04<00:00,  2.69s/it]\u001b[A\n",
      "Pages Processed:  44%|████▎     | 158/362 [16:48<10:17,  3.03s/it]\n",
      "Days Processed:   0%|          | 0/2 [00:00<?, ?it/s]\u001b[A"
     ]
    },
    {
     "name": "stdout",
     "output_type": "stream",
     "text": [
      "31 May 2024\n"
     ]
    },
    {
     "name": "stderr",
     "output_type": "stream",
     "text": [
      "\n",
      "Days Processed:  50%|█████     | 1/2 [00:04<00:04,  4.75s/it]\u001b[A"
     ]
    },
    {
     "name": "stdout",
     "output_type": "stream",
     "text": [
      "30 May 2024\n"
     ]
    },
    {
     "name": "stderr",
     "output_type": "stream",
     "text": [
      "\n",
      "Days Processed: 100%|██████████| 2/2 [00:09<00:00,  4.61s/it]\u001b[A\n",
      "Pages Processed:  44%|████▍     | 159/362 [16:58<17:03,  5.04s/it]\n",
      "Days Processed: 0it [00:00, ?it/s]\u001b[A\n",
      "Pages Processed:  44%|████▍     | 160/362 [16:58<12:02,  3.58s/it]\n",
      "Days Processed:   0%|          | 0/2 [00:00<?, ?it/s]\u001b[A"
     ]
    },
    {
     "name": "stdout",
     "output_type": "stream",
     "text": [
      "29 May 2024\n"
     ]
    },
    {
     "name": "stderr",
     "output_type": "stream",
     "text": [
      "\n",
      "Days Processed:  50%|█████     | 1/2 [00:04<00:04,  4.24s/it]\u001b[A\n",
      "Days Processed: 100%|██████████| 2/2 [00:04<00:00,  1.84s/it]\u001b[A\n",
      "Pages Processed:  44%|████▍     | 161/362 [17:03<13:20,  3.98s/it]"
     ]
    },
    {
     "name": "stdout",
     "output_type": "stream",
     "text": [
      "nan\n"
     ]
    },
    {
     "name": "stderr",
     "output_type": "stream",
     "text": [
      "\n",
      "Days Processed:   0%|          | 0/2 [00:00<?, ?it/s]\u001b[A"
     ]
    },
    {
     "name": "stdout",
     "output_type": "stream",
     "text": [
      "28 May 2024\n"
     ]
    },
    {
     "name": "stderr",
     "output_type": "stream",
     "text": [
      "\n",
      "Days Processed:  50%|█████     | 1/2 [00:04<00:04,  4.16s/it]\u001b[A"
     ]
    },
    {
     "name": "stdout",
     "output_type": "stream",
     "text": [
      "27 May 2024\n"
     ]
    },
    {
     "name": "stderr",
     "output_type": "stream",
     "text": [
      "\n",
      "Days Processed: 100%|██████████| 2/2 [00:08<00:00,  4.16s/it]\u001b[A\n",
      "Pages Processed:  45%|████▍     | 162/362 [17:12<18:13,  5.47s/it]\n",
      "Days Processed: 0it [00:00, ?it/s]\u001b[A\n",
      "Pages Processed:  45%|████▌     | 163/362 [17:12<12:51,  3.88s/it]\n",
      "Days Processed: 0it [00:00, ?it/s]\u001b[A\n",
      "Pages Processed:  45%|████▌     | 164/362 [17:12<09:06,  2.76s/it]\n",
      "Days Processed:   0%|          | 0/2 [00:00<?, ?it/s]\u001b[A"
     ]
    },
    {
     "name": "stdout",
     "output_type": "stream",
     "text": [
      "24 May 2024\n"
     ]
    },
    {
     "name": "stderr",
     "output_type": "stream",
     "text": [
      "\n",
      "Days Processed:  50%|█████     | 1/2 [00:04<00:04,  4.52s/it]\u001b[A\n",
      "Days Processed: 100%|██████████| 2/2 [00:04<00:00,  1.95s/it]\u001b[A\n",
      "Pages Processed:  46%|████▌     | 165/362 [17:17<11:26,  3.48s/it]"
     ]
    },
    {
     "name": "stdout",
     "output_type": "stream",
     "text": [
      "nan\n"
     ]
    },
    {
     "name": "stderr",
     "output_type": "stream",
     "text": [
      "\n",
      "Days Processed:   0%|          | 0/2 [00:00<?, ?it/s]\u001b[A"
     ]
    },
    {
     "name": "stdout",
     "output_type": "stream",
     "text": [
      "23 May 2024\n"
     ]
    },
    {
     "name": "stderr",
     "output_type": "stream",
     "text": [
      "\n",
      "Days Processed:  50%|█████     | 1/2 [00:04<00:04,  4.74s/it]\u001b[A\n",
      "Days Processed: 100%|██████████| 2/2 [00:04<00:00,  2.04s/it]\u001b[A\n",
      "Pages Processed:  46%|████▌     | 166/362 [17:23<13:13,  4.05s/it]"
     ]
    },
    {
     "name": "stdout",
     "output_type": "stream",
     "text": [
      "nan\n"
     ]
    },
    {
     "name": "stderr",
     "output_type": "stream",
     "text": [
      "\n",
      "Days Processed: 0it [00:00, ?it/s]\u001b[A\n",
      "Pages Processed:  46%|████▌     | 167/362 [17:23<09:22,  2.88s/it]\n",
      "Days Processed:   0%|          | 0/2 [00:00<?, ?it/s]\u001b[A\n",
      "Days Processed:  50%|█████     | 1/2 [00:00<00:00,  6.33it/s]\u001b[A\n",
      "Days Processed: 100%|██████████| 2/2 [00:00<00:00,  6.06it/s]\u001b[A\n",
      "Pages Processed:  46%|████▋     | 168/362 [17:24<07:19,  2.27s/it]"
     ]
    },
    {
     "name": "stdout",
     "output_type": "stream",
     "text": [
      "nan\n",
      "nan\n"
     ]
    },
    {
     "name": "stderr",
     "output_type": "stream",
     "text": [
      "\n",
      "Days Processed:   0%|          | 0/2 [00:00<?, ?it/s]\u001b[A"
     ]
    },
    {
     "name": "stdout",
     "output_type": "stream",
     "text": [
      "20 May 2024\n"
     ]
    },
    {
     "name": "stderr",
     "output_type": "stream",
     "text": [
      "\n",
      "Days Processed:  50%|█████     | 1/2 [00:05<00:05,  5.33s/it]\u001b[A\n",
      "Days Processed: 100%|██████████| 2/2 [00:05<00:00,  2.29s/it]\u001b[A\n",
      "Pages Processed:  47%|████▋     | 169/362 [17:30<10:54,  3.39s/it]"
     ]
    },
    {
     "name": "stdout",
     "output_type": "stream",
     "text": [
      "nan\n"
     ]
    },
    {
     "name": "stderr",
     "output_type": "stream",
     "text": [
      "\n",
      "Days Processed: 0it [00:00, ?it/s]\u001b[A\n",
      "Pages Processed:  47%|████▋     | 170/362 [17:30<07:44,  2.42s/it]\n",
      "Days Processed:   0%|          | 0/2 [00:00<?, ?it/s]\u001b[A"
     ]
    },
    {
     "name": "stdout",
     "output_type": "stream",
     "text": [
      "18 May 2024\n"
     ]
    },
    {
     "name": "stderr",
     "output_type": "stream",
     "text": [
      "\n",
      "Days Processed:  50%|█████     | 1/2 [00:04<00:04,  4.22s/it]\u001b[A\n",
      "Days Processed: 100%|██████████| 2/2 [00:04<00:00,  1.83s/it]\u001b[A\n",
      "Pages Processed:  47%|████▋     | 171/362 [17:35<10:02,  3.16s/it]"
     ]
    },
    {
     "name": "stdout",
     "output_type": "stream",
     "text": [
      "nan\n"
     ]
    },
    {
     "name": "stderr",
     "output_type": "stream",
     "text": [
      "\n",
      "Days Processed:   0%|          | 0/2 [00:00<?, ?it/s]\u001b[A"
     ]
    },
    {
     "name": "stdout",
     "output_type": "stream",
     "text": [
      "17 May 2024\n"
     ]
    },
    {
     "name": "stderr",
     "output_type": "stream",
     "text": [
      "\n",
      "Days Processed:  50%|█████     | 1/2 [00:04<00:04,  4.12s/it]\u001b[A"
     ]
    },
    {
     "name": "stdout",
     "output_type": "stream",
     "text": [
      "16 May 2024\n"
     ]
    },
    {
     "name": "stderr",
     "output_type": "stream",
     "text": [
      "\n",
      "Days Processed: 100%|██████████| 2/2 [00:10<00:00,  5.18s/it]\u001b[A\n",
      "Pages Processed:  48%|████▊     | 172/362 [17:45<16:59,  5.37s/it]\n",
      "Days Processed: 0it [00:00, ?it/s]\u001b[A\n",
      "Pages Processed:  48%|████▊     | 173/362 [17:46<12:02,  3.82s/it]\n",
      "Days Processed:   0%|          | 0/2 [00:00<?, ?it/s]\u001b[A"
     ]
    },
    {
     "name": "stdout",
     "output_type": "stream",
     "text": [
      "14 May 2024\n"
     ]
    },
    {
     "name": "stderr",
     "output_type": "stream",
     "text": [
      "\n",
      "Days Processed:  50%|█████     | 1/2 [00:05<00:05,  5.35s/it]\u001b[A\n",
      "Days Processed: 100%|██████████| 2/2 [00:05<00:00,  2.30s/it]\u001b[A\n",
      "Pages Processed:  48%|████▊     | 174/362 [17:52<14:51,  4.74s/it]"
     ]
    },
    {
     "name": "stdout",
     "output_type": "stream",
     "text": [
      "nan\n"
     ]
    },
    {
     "name": "stderr",
     "output_type": "stream",
     "text": [
      "\n",
      "Days Processed:   0%|          | 0/2 [00:00<?, ?it/s]\u001b[A"
     ]
    },
    {
     "name": "stdout",
     "output_type": "stream",
     "text": [
      "13 May 2024\n"
     ]
    },
    {
     "name": "stderr",
     "output_type": "stream",
     "text": [
      "\n",
      "Days Processed:  50%|█████     | 1/2 [00:04<00:04,  4.30s/it]\u001b[A"
     ]
    },
    {
     "name": "stdout",
     "output_type": "stream",
     "text": [
      "12 May 2024\n"
     ]
    },
    {
     "name": "stderr",
     "output_type": "stream",
     "text": [
      "\n",
      "Days Processed: 100%|██████████| 2/2 [00:08<00:00,  4.08s/it]\u001b[A\n",
      "Pages Processed:  48%|████▊     | 175/362 [18:01<18:29,  5.93s/it]\n",
      "Days Processed: 0it [00:00, ?it/s]\u001b[A\n",
      "Pages Processed:  49%|████▊     | 176/362 [18:01<13:01,  4.20s/it]\n",
      "Days Processed:   0%|          | 0/3 [00:00<?, ?it/s]\u001b[A"
     ]
    },
    {
     "name": "stdout",
     "output_type": "stream",
     "text": [
      "11 May 2024\n"
     ]
    },
    {
     "name": "stderr",
     "output_type": "stream",
     "text": [
      "\n",
      "Days Processed:  33%|███▎      | 1/3 [00:04<00:08,  4.35s/it]\u001b[A\n",
      "Days Processed:  67%|██████▋   | 2/3 [00:04<00:01,  1.89s/it]\u001b[A"
     ]
    },
    {
     "name": "stdout",
     "output_type": "stream",
     "text": [
      "nan\n",
      "9 May 2024\n"
     ]
    },
    {
     "name": "stderr",
     "output_type": "stream",
     "text": [
      "\n",
      "Days Processed: 100%|██████████| 3/3 [00:08<00:00,  2.82s/it]\u001b[A\n",
      "Pages Processed:  49%|████▉     | 177/362 [18:10<17:21,  5.63s/it]\n",
      "Days Processed: 0it [00:00, ?it/s]\u001b[A\n",
      "Pages Processed:  49%|████▉     | 178/362 [18:10<12:13,  3.99s/it]\n",
      "Days Processed: 0it [00:00, ?it/s]\u001b[A\n",
      "Pages Processed:  49%|████▉     | 179/362 [18:11<08:39,  2.84s/it]\n",
      "Days Processed:   0%|          | 0/2 [00:00<?, ?it/s]\u001b[A"
     ]
    },
    {
     "name": "stdout",
     "output_type": "stream",
     "text": [
      "7 May 2024\n"
     ]
    },
    {
     "name": "stderr",
     "output_type": "stream",
     "text": [
      "\n",
      "Days Processed:  50%|█████     | 1/2 [00:04<00:04,  4.31s/it]\u001b[A"
     ]
    },
    {
     "name": "stdout",
     "output_type": "stream",
     "text": [
      "6 May 2024\n"
     ]
    },
    {
     "name": "stderr",
     "output_type": "stream",
     "text": [
      "\n",
      "Days Processed: 100%|██████████| 2/2 [00:09<00:00,  4.63s/it]\u001b[A\n",
      "Pages Processed:  50%|████▉     | 180/362 [18:20<14:50,  4.89s/it]\n",
      "Days Processed: 0it [00:00, ?it/s]\u001b[A\n",
      "Pages Processed:  50%|█████     | 181/362 [18:20<10:28,  3.47s/it]\n",
      "Days Processed:   0%|          | 0/2 [00:00<?, ?it/s]\u001b[A\n",
      "Days Processed:  50%|█████     | 1/2 [00:00<00:00,  6.41it/s]\u001b[A\n",
      "Days Processed: 100%|██████████| 2/2 [00:00<00:00,  6.33it/s]\u001b[A\n",
      "Pages Processed:  50%|█████     | 182/362 [18:21<08:01,  2.67s/it]"
     ]
    },
    {
     "name": "stdout",
     "output_type": "stream",
     "text": [
      "nan\n",
      "nan\n"
     ]
    },
    {
     "name": "stderr",
     "output_type": "stream",
     "text": [
      "\n",
      "Days Processed:   0%|          | 0/2 [00:00<?, ?it/s]\u001b[A"
     ]
    },
    {
     "name": "stdout",
     "output_type": "stream",
     "text": [
      "4 May 2024\n"
     ]
    },
    {
     "name": "stderr",
     "output_type": "stream",
     "text": [
      "\n",
      "Days Processed:  50%|█████     | 1/2 [00:03<00:03,  3.60s/it]\u001b[A"
     ]
    },
    {
     "name": "stdout",
     "output_type": "stream",
     "text": [
      "3 May 2024\n"
     ]
    },
    {
     "name": "stderr",
     "output_type": "stream",
     "text": [
      "\n",
      "Days Processed: 100%|██████████| 2/2 [00:07<00:00,  3.76s/it]\u001b[A\n",
      "Pages Processed:  51%|█████     | 183/362 [18:29<12:42,  4.26s/it]\n",
      "Days Processed:   0%|          | 0/3 [00:00<?, ?it/s]\u001b[A"
     ]
    },
    {
     "name": "stdout",
     "output_type": "stream",
     "text": [
      "3 May 2024\n"
     ]
    },
    {
     "name": "stderr",
     "output_type": "stream",
     "text": [
      "\n",
      "Days Processed:  33%|███▎      | 1/3 [00:03<00:06,  3.43s/it]\u001b[A"
     ]
    },
    {
     "name": "stdout",
     "output_type": "stream",
     "text": [
      "2 May 2024\n"
     ]
    },
    {
     "name": "stderr",
     "output_type": "stream",
     "text": [
      "\n",
      "Days Processed:  67%|██████▋   | 2/3 [00:07<00:04,  4.09s/it]\u001b[A"
     ]
    },
    {
     "name": "stdout",
     "output_type": "stream",
     "text": [
      "1 May 2024\n"
     ]
    },
    {
     "name": "stderr",
     "output_type": "stream",
     "text": [
      "\n",
      "Days Processed: 100%|██████████| 3/3 [00:12<00:00,  4.45s/it]\u001b[A\n",
      "Pages Processed:  51%|█████     | 184/362 [18:43<20:41,  6.98s/it]\n",
      "Days Processed:   0%|          | 0/1 [00:00<?, ?it/s]\u001b[A"
     ]
    },
    {
     "name": "stdout",
     "output_type": "stream",
     "text": [
      "1 May 2024\n"
     ]
    },
    {
     "name": "stderr",
     "output_type": "stream",
     "text": [
      "\n",
      "Days Processed: 100%|██████████| 1/1 [00:03<00:00,  3.38s/it]\u001b[A\n",
      "Pages Processed:  51%|█████     | 185/362 [18:46<17:50,  6.05s/it]\n",
      "Days Processed:   0%|          | 0/2 [00:00<?, ?it/s]\u001b[A"
     ]
    },
    {
     "name": "stdout",
     "output_type": "stream",
     "text": [
      "30 April 2024\n"
     ]
    },
    {
     "name": "stderr",
     "output_type": "stream",
     "text": [
      "\n",
      "Days Processed:  50%|█████     | 1/2 [00:05<00:05,  5.98s/it]\u001b[A"
     ]
    },
    {
     "name": "stdout",
     "output_type": "stream",
     "text": [
      "29 April 2024\n"
     ]
    },
    {
     "name": "stderr",
     "output_type": "stream",
     "text": [
      "\n",
      "Days Processed: 100%|██████████| 2/2 [00:11<00:00,  5.98s/it]\u001b[A\n",
      "Pages Processed:  51%|█████▏    | 186/362 [18:59<23:24,  7.98s/it]\n",
      "Days Processed: 0it [00:00, ?it/s]\u001b[A\n",
      "Pages Processed:  52%|█████▏    | 187/362 [18:59<16:25,  5.63s/it]\n",
      "Days Processed:   0%|          | 0/2 [00:00<?, ?it/s]\u001b[A"
     ]
    },
    {
     "name": "stdout",
     "output_type": "stream",
     "text": [
      "28 April 2024\n"
     ]
    },
    {
     "name": "stderr",
     "output_type": "stream",
     "text": [
      "\n",
      "Days Processed:  50%|█████     | 1/2 [00:04<00:04,  4.44s/it]\u001b[A\n",
      "Days Processed: 100%|██████████| 2/2 [00:04<00:00,  1.92s/it]\u001b[A\n",
      "Pages Processed:  52%|█████▏    | 188/362 [19:04<15:51,  5.47s/it]"
     ]
    },
    {
     "name": "stdout",
     "output_type": "stream",
     "text": [
      "nan\n"
     ]
    },
    {
     "name": "stderr",
     "output_type": "stream",
     "text": [
      "\n",
      "Days Processed: 0it [00:00, ?it/s]\u001b[A\n",
      "Pages Processed:  52%|█████▏    | 189/362 [19:04<11:11,  3.88s/it]\n",
      "Days Processed: 0it [00:00, ?it/s]\u001b[A\n",
      "Pages Processed:  52%|█████▏    | 190/362 [19:04<07:55,  2.76s/it]\n",
      "Days Processed: 0it [00:00, ?it/s]\u001b[A\n",
      "Pages Processed:  53%|█████▎    | 191/362 [19:05<05:39,  1.98s/it]\n",
      "Days Processed:   0%|          | 0/2 [00:00<?, ?it/s]\u001b[A"
     ]
    },
    {
     "name": "stdout",
     "output_type": "stream",
     "text": [
      "24 April 2024\n"
     ]
    },
    {
     "name": "stderr",
     "output_type": "stream",
     "text": [
      "\n",
      "Days Processed:  50%|█████     | 1/2 [00:04<00:04,  4.30s/it]\u001b[A\n",
      "Days Processed: 100%|██████████| 2/2 [00:04<00:00,  1.87s/it]\u001b[A\n",
      "Pages Processed:  53%|█████▎    | 192/362 [19:10<08:08,  2.88s/it]"
     ]
    },
    {
     "name": "stdout",
     "output_type": "stream",
     "text": [
      "nan\n"
     ]
    },
    {
     "name": "stderr",
     "output_type": "stream",
     "text": [
      "\n",
      "Days Processed:   0%|          | 0/2 [00:00<?, ?it/s]\u001b[A\n",
      "Days Processed:  50%|█████     | 1/2 [00:00<00:00,  6.28it/s]\u001b[A"
     ]
    },
    {
     "name": "stdout",
     "output_type": "stream",
     "text": [
      "nan\n",
      "22 April 2024\n"
     ]
    },
    {
     "name": "stderr",
     "output_type": "stream",
     "text": [
      "\n",
      "Days Processed: 100%|██████████| 2/2 [00:04<00:00,  2.56s/it]\u001b[A\n",
      "Pages Processed:  53%|█████▎    | 193/362 [19:15<09:51,  3.50s/it]\n",
      "Days Processed: 0it [00:00, ?it/s]\u001b[A\n",
      "Pages Processed:  54%|█████▎    | 194/362 [19:15<07:00,  2.50s/it]\n",
      "Days Processed:   0%|          | 0/3 [00:00<?, ?it/s]\u001b[A"
     ]
    },
    {
     "name": "stdout",
     "output_type": "stream",
     "text": [
      "21 April 2024\n"
     ]
    },
    {
     "name": "stderr",
     "output_type": "stream",
     "text": [
      "\n",
      "Days Processed:  33%|███▎      | 1/3 [00:05<00:10,  5.47s/it]\u001b[A"
     ]
    },
    {
     "name": "stdout",
     "output_type": "stream",
     "text": [
      "20 April 2024\n"
     ]
    },
    {
     "name": "stderr",
     "output_type": "stream",
     "text": [
      "\n",
      "Days Processed:  67%|██████▋   | 2/3 [00:08<00:04,  4.19s/it]\u001b[A\n",
      "Days Processed: 100%|██████████| 3/3 [00:08<00:00,  2.35s/it]\u001b[A\n",
      "Pages Processed:  54%|█████▍    | 195/362 [19:24<12:44,  4.58s/it]"
     ]
    },
    {
     "name": "stdout",
     "output_type": "stream",
     "text": [
      "nan\n"
     ]
    },
    {
     "name": "stderr",
     "output_type": "stream",
     "text": [
      "\n",
      "Days Processed:   0%|          | 0/2 [00:00<?, ?it/s]\u001b[A"
     ]
    },
    {
     "name": "stdout",
     "output_type": "stream",
     "text": [
      "19 April 2024\n"
     ]
    },
    {
     "name": "stderr",
     "output_type": "stream",
     "text": [
      "\n",
      "Days Processed:  50%|█████     | 1/2 [00:05<00:05,  5.84s/it]\u001b[A"
     ]
    },
    {
     "name": "stdout",
     "output_type": "stream",
     "text": [
      "18 April 2024\n"
     ]
    },
    {
     "name": "stderr",
     "output_type": "stream",
     "text": [
      "\n",
      "Days Processed: 100%|██████████| 2/2 [00:10<00:00,  5.27s/it]\u001b[A\n",
      "Pages Processed:  54%|█████▍    | 196/362 [19:35<18:14,  6.59s/it]\n",
      "Days Processed:   0%|          | 0/2 [00:00<?, ?it/s]\u001b[A"
     ]
    },
    {
     "name": "stdout",
     "output_type": "stream",
     "text": [
      "18 April 2024\n"
     ]
    },
    {
     "name": "stderr",
     "output_type": "stream",
     "text": [
      "\n",
      "Days Processed:  50%|█████     | 1/2 [00:02<00:02,  2.95s/it]\u001b[A"
     ]
    },
    {
     "name": "stdout",
     "output_type": "stream",
     "text": [
      "17 April 2024\n"
     ]
    },
    {
     "name": "stderr",
     "output_type": "stream",
     "text": [
      "\n",
      "Days Processed: 100%|██████████| 2/2 [00:07<00:00,  3.82s/it]\u001b[A\n",
      "Pages Processed:  54%|█████▍    | 197/362 [19:43<19:12,  6.99s/it]\n",
      "Days Processed: 0it [00:00, ?it/s]\u001b[A\n",
      "Pages Processed:  55%|█████▍    | 198/362 [19:43<13:29,  4.94s/it]\n",
      "Days Processed:   0%|          | 0/2 [00:00<?, ?it/s]\u001b[A\n",
      "Days Processed:  50%|█████     | 1/2 [00:00<00:00,  6.44it/s]\u001b[A"
     ]
    },
    {
     "name": "stdout",
     "output_type": "stream",
     "text": [
      "nan\n",
      "15 April 2024\n"
     ]
    },
    {
     "name": "stderr",
     "output_type": "stream",
     "text": [
      "\n",
      "Days Processed: 100%|██████████| 2/2 [00:04<00:00,  2.46s/it]\u001b[A\n",
      "Pages Processed:  55%|█████▍    | 199/362 [19:48<13:14,  4.87s/it]\n",
      "Days Processed: 0it [00:00, ?it/s]\u001b[A\n",
      "Pages Processed:  55%|█████▌    | 200/362 [19:48<09:20,  3.46s/it]\n",
      "Days Processed:   0%|          | 0/2 [00:00<?, ?it/s]\u001b[A"
     ]
    },
    {
     "name": "stdout",
     "output_type": "stream",
     "text": [
      "13 April 2024\n"
     ]
    },
    {
     "name": "stderr",
     "output_type": "stream",
     "text": [
      "\n",
      "Days Processed:  50%|█████     | 1/2 [00:04<00:04,  4.93s/it]\u001b[A\n",
      "Days Processed: 100%|██████████| 2/2 [00:05<00:00,  2.12s/it]\u001b[A\n",
      "Pages Processed:  56%|█████▌    | 201/362 [19:54<10:59,  4.10s/it]"
     ]
    },
    {
     "name": "stdout",
     "output_type": "stream",
     "text": [
      "nan\n"
     ]
    },
    {
     "name": "stderr",
     "output_type": "stream",
     "text": [
      "\n",
      "Days Processed: 0it [00:00, ?it/s]\u001b[A\n",
      "Pages Processed:  56%|█████▌    | 202/362 [19:54<07:58,  2.99s/it]\n",
      "Days Processed:   0%|          | 0/2 [00:00<?, ?it/s]\u001b[A"
     ]
    },
    {
     "name": "stdout",
     "output_type": "stream",
     "text": [
      "11 April 2024\n"
     ]
    },
    {
     "name": "stderr",
     "output_type": "stream",
     "text": [
      "\n",
      "Days Processed:  50%|█████     | 1/2 [00:04<00:04,  4.96s/it]\u001b[A\n",
      "Days Processed: 100%|██████████| 2/2 [00:05<00:00,  2.13s/it]\u001b[A\n",
      "Pages Processed:  56%|█████▌    | 203/362 [20:00<10:08,  3.83s/it]"
     ]
    },
    {
     "name": "stdout",
     "output_type": "stream",
     "text": [
      "nan\n"
     ]
    },
    {
     "name": "stderr",
     "output_type": "stream",
     "text": [
      "\n",
      "Days Processed: 0it [00:00, ?it/s]\u001b[A\n",
      "Pages Processed:  56%|█████▋    | 204/362 [20:00<07:11,  2.73s/it]\n",
      "Days Processed:   0%|          | 0/2 [00:00<?, ?it/s]\u001b[A\n",
      "Days Processed:  50%|█████     | 1/2 [00:00<00:00,  6.05it/s]\u001b[A"
     ]
    },
    {
     "name": "stdout",
     "output_type": "stream",
     "text": [
      "nan\n",
      "7 April 2024\n"
     ]
    },
    {
     "name": "stderr",
     "output_type": "stream",
     "text": [
      "\n",
      "Days Processed: 100%|██████████| 2/2 [00:04<00:00,  2.72s/it]\u001b[A\n",
      "Pages Processed:  57%|█████▋    | 205/362 [20:05<09:03,  3.46s/it]\n",
      "Days Processed:   0%|          | 0/2 [00:00<?, ?it/s]\u001b[A"
     ]
    },
    {
     "name": "stdout",
     "output_type": "stream",
     "text": [
      "7 April 2024\n"
     ]
    },
    {
     "name": "stderr",
     "output_type": "stream",
     "text": [
      "\n",
      "Days Processed:  50%|█████     | 1/2 [00:03<00:03,  3.59s/it]\u001b[A"
     ]
    },
    {
     "name": "stdout",
     "output_type": "stream",
     "text": [
      "6 April 2024\n"
     ]
    },
    {
     "name": "stderr",
     "output_type": "stream",
     "text": [
      "\n",
      "Days Processed: 100%|██████████| 2/2 [00:07<00:00,  3.58s/it]\u001b[A\n",
      "Pages Processed:  57%|█████▋    | 206/362 [20:13<12:15,  4.72s/it]\n",
      "Days Processed: 0it [00:00, ?it/s]\u001b[A\n",
      "Pages Processed:  57%|█████▋    | 207/362 [20:13<08:39,  3.35s/it]\n",
      "Days Processed: 0it [00:00, ?it/s]\u001b[A\n",
      "Pages Processed:  57%|█████▋    | 208/362 [20:13<06:08,  2.39s/it]\n",
      "Days Processed:   0%|          | 0/2 [00:00<?, ?it/s]\u001b[A\n",
      "Days Processed:  50%|█████     | 1/2 [00:00<00:00,  6.37it/s]\u001b[A\n",
      "Days Processed: 100%|██████████| 2/2 [00:00<00:00,  6.44it/s]\u001b[A\n",
      "Pages Processed:  58%|█████▊    | 209/362 [20:14<04:57,  1.94s/it]"
     ]
    },
    {
     "name": "stdout",
     "output_type": "stream",
     "text": [
      "nan\n",
      "nan\n"
     ]
    },
    {
     "name": "stderr",
     "output_type": "stream",
     "text": [
      "\n",
      "Days Processed:   0%|          | 0/2 [00:00<?, ?it/s]\u001b[A"
     ]
    },
    {
     "name": "stdout",
     "output_type": "stream",
     "text": [
      "2 April 2024\n"
     ]
    },
    {
     "name": "stderr",
     "output_type": "stream",
     "text": [
      "\n",
      "Days Processed:  50%|█████     | 1/2 [00:05<00:05,  5.01s/it]\u001b[A"
     ]
    },
    {
     "name": "stdout",
     "output_type": "stream",
     "text": [
      "1 April 2024\n"
     ]
    },
    {
     "name": "stderr",
     "output_type": "stream",
     "text": [
      "\n",
      "Days Processed: 100%|██████████| 2/2 [00:08<00:00,  4.24s/it]\u001b[A\n",
      "Pages Processed:  58%|█████▊    | 210/362 [20:24<10:27,  4.13s/it]\n",
      "Days Processed:   0%|          | 0/3 [00:00<?, ?it/s]\u001b[A"
     ]
    },
    {
     "name": "stdout",
     "output_type": "stream",
     "text": [
      "1 April 2024\n"
     ]
    },
    {
     "name": "stderr",
     "output_type": "stream",
     "text": [
      "\n",
      "Days Processed:  33%|███▎      | 1/3 [00:03<00:06,  3.18s/it]\u001b[A"
     ]
    },
    {
     "name": "stdout",
     "output_type": "stream",
     "text": [
      "31 March 2024\n"
     ]
    },
    {
     "name": "stderr",
     "output_type": "stream",
     "text": [
      "\n",
      "Days Processed:  67%|██████▋   | 2/3 [00:08<00:04,  4.33s/it]\u001b[A"
     ]
    },
    {
     "name": "stdout",
     "output_type": "stream",
     "text": [
      "30 March 2024\n"
     ]
    },
    {
     "name": "stderr",
     "output_type": "stream",
     "text": [
      "\n",
      "Days Processed: 100%|██████████| 3/3 [00:11<00:00,  4.03s/it]\u001b[A\n",
      "Pages Processed:  58%|█████▊    | 211/362 [20:36<16:41,  6.63s/it]\n",
      "Days Processed: 0it [00:00, ?it/s]\u001b[A\n",
      "Pages Processed:  59%|█████▊    | 212/362 [20:36<11:44,  4.69s/it]\n",
      "Days Processed: 0it [00:00, ?it/s]\u001b[A\n",
      "Pages Processed:  59%|█████▉    | 213/362 [20:36<08:16,  3.33s/it]\n",
      "Days Processed:   0%|          | 0/2 [00:00<?, ?it/s]\u001b[A"
     ]
    },
    {
     "name": "stdout",
     "output_type": "stream",
     "text": [
      "28 March 2024\n"
     ]
    },
    {
     "name": "stderr",
     "output_type": "stream",
     "text": [
      "\n",
      "Days Processed:  50%|█████     | 1/2 [00:07<00:07,  7.69s/it]\u001b[A"
     ]
    },
    {
     "name": "stdout",
     "output_type": "stream",
     "text": [
      "27 March 2024\n"
     ]
    },
    {
     "name": "stderr",
     "output_type": "stream",
     "text": [
      "\n",
      "Days Processed: 100%|██████████| 2/2 [00:13<00:00,  6.31s/it]\u001b[A\n",
      "Pages Processed:  59%|█████▉    | 214/362 [20:50<15:52,  6.44s/it]\n",
      "Days Processed: 0it [00:00, ?it/s]\u001b[A\n",
      "Pages Processed:  59%|█████▉    | 215/362 [20:50<11:09,  4.55s/it]\n",
      "Days Processed:   0%|          | 0/2 [00:00<?, ?it/s]\u001b[A\n",
      "Days Processed:  50%|█████     | 1/2 [00:00<00:00,  4.61it/s]\u001b[A"
     ]
    },
    {
     "name": "stdout",
     "output_type": "stream",
     "text": [
      "nan\n"
     ]
    },
    {
     "name": "stderr",
     "output_type": "stream",
     "text": [
      "\n",
      "Days Processed: 100%|██████████| 2/2 [00:00<00:00,  4.81it/s]\u001b[A\n",
      "Pages Processed:  60%|█████▉    | 216/362 [20:51<08:24,  3.46s/it]"
     ]
    },
    {
     "name": "stdout",
     "output_type": "stream",
     "text": [
      "nan\n"
     ]
    },
    {
     "name": "stderr",
     "output_type": "stream",
     "text": [
      "\n",
      "Days Processed:   0%|          | 0/3 [00:00<?, ?it/s]\u001b[A"
     ]
    },
    {
     "name": "stdout",
     "output_type": "stream",
     "text": [
      "25 March 2024\n"
     ]
    },
    {
     "name": "stderr",
     "output_type": "stream",
     "text": [
      "\n",
      "Days Processed:  33%|███▎      | 1/3 [00:06<00:13,  6.50s/it]\u001b[A"
     ]
    },
    {
     "name": "stdout",
     "output_type": "stream",
     "text": [
      "24 March 2024\n"
     ]
    },
    {
     "name": "stderr",
     "output_type": "stream",
     "text": [
      "\n",
      "Days Processed:  67%|██████▋   | 2/3 [00:10<00:04,  4.77s/it]\u001b[A"
     ]
    },
    {
     "name": "stdout",
     "output_type": "stream",
     "text": [
      "23 March 2024\n"
     ]
    },
    {
     "name": "stderr",
     "output_type": "stream",
     "text": [
      "\n",
      "Days Processed: 100%|██████████| 3/3 [00:12<00:00,  3.86s/it]\u001b[A\n",
      "Pages Processed:  60%|█████▉    | 217/362 [21:05<15:33,  6.44s/it]\n",
      "Days Processed: 0it [00:00, ?it/s]\u001b[A\n",
      "Pages Processed:  60%|██████    | 218/362 [21:05<10:56,  4.56s/it]\n",
      "Days Processed: 0it [00:00, ?it/s]\u001b[A\n",
      "Pages Processed:  60%|██████    | 219/362 [21:05<07:42,  3.24s/it]\n",
      "Days Processed:   0%|          | 0/2 [00:00<?, ?it/s]\u001b[A"
     ]
    },
    {
     "name": "stdout",
     "output_type": "stream",
     "text": [
      "20 March 2024\n"
     ]
    },
    {
     "name": "stderr",
     "output_type": "stream",
     "text": [
      "\n",
      "Days Processed:  50%|█████     | 1/2 [00:04<00:04,  4.17s/it]\u001b[A\n",
      "Days Processed: 100%|██████████| 2/2 [00:04<00:00,  1.81s/it]\u001b[A\n",
      "Pages Processed:  61%|██████    | 220/362 [21:10<08:46,  3.71s/it]"
     ]
    },
    {
     "name": "stdout",
     "output_type": "stream",
     "text": [
      "nan\n"
     ]
    },
    {
     "name": "stderr",
     "output_type": "stream",
     "text": [
      "\n",
      "Days Processed: 0it [00:00, ?it/s]\u001b[A\n",
      "Pages Processed:  61%|██████    | 221/362 [21:10<06:12,  2.64s/it]\n",
      "Days Processed: 0it [00:00, ?it/s]\u001b[A\n",
      "Pages Processed:  61%|██████▏   | 222/362 [21:10<04:25,  1.90s/it]\n",
      "Days Processed:   0%|          | 0/3 [00:00<?, ?it/s]\u001b[A\n",
      "Days Processed:  33%|███▎      | 1/3 [00:00<00:00,  5.05it/s]\u001b[A"
     ]
    },
    {
     "name": "stdout",
     "output_type": "stream",
     "text": [
      "nan\n",
      "16 March 2024\n"
     ]
    },
    {
     "name": "stderr",
     "output_type": "stream",
     "text": [
      "\n",
      "Days Processed:  67%|██████▋   | 2/3 [00:03<00:02,  2.04s/it]\u001b[A\n",
      "Days Processed: 100%|██████████| 3/3 [00:03<00:00,  1.18s/it]\u001b[A\n",
      "Pages Processed:  62%|██████▏   | 223/362 [21:14<05:58,  2.58s/it]"
     ]
    },
    {
     "name": "stdout",
     "output_type": "stream",
     "text": [
      "nan\n"
     ]
    },
    {
     "name": "stderr",
     "output_type": "stream",
     "text": [
      "\n",
      "Days Processed: 0it [00:00, ?it/s]\u001b[A\n",
      "Pages Processed:  62%|██████▏   | 224/362 [21:14<04:15,  1.85s/it]\n",
      "Days Processed:   0%|          | 0/2 [00:00<?, ?it/s]\u001b[A\n",
      "Days Processed:  50%|█████     | 1/2 [00:00<00:00,  6.75it/s]\u001b[A\n"
     ]
    },
    {
     "name": "stdout",
     "output_type": "stream",
     "text": [
      "nan\n",
      "nan\n"
     ]
    },
    {
     "name": "stderr",
     "output_type": "stream",
     "text": [
      "Days Processed: 100%|██████████| 2/2 [00:00<00:00,  5.87it/s]\u001b[A\n",
      "Pages Processed:  62%|██████▏   | 225/362 [21:15<03:33,  1.56s/it]\n",
      "Days Processed:   0%|          | 0/2 [00:00<?, ?it/s]\u001b[A\n",
      "Days Processed:  50%|█████     | 1/2 [00:00<00:00,  6.51it/s]\u001b[A\n",
      "Days Processed: 100%|██████████| 2/2 [00:00<00:00,  6.40it/s]\u001b[A\n",
      "Pages Processed:  62%|██████▏   | 226/362 [21:16<03:01,  1.33s/it]"
     ]
    },
    {
     "name": "stdout",
     "output_type": "stream",
     "text": [
      "nan\n",
      "nan\n"
     ]
    },
    {
     "name": "stderr",
     "output_type": "stream",
     "text": [
      "\n",
      "Days Processed:   0%|          | 0/2 [00:00<?, ?it/s]\u001b[A\n",
      "Days Processed:  50%|█████     | 1/2 [00:00<00:00,  6.23it/s]\u001b[A"
     ]
    },
    {
     "name": "stdout",
     "output_type": "stream",
     "text": [
      "nan\n",
      "10 March 2024\n"
     ]
    },
    {
     "name": "stderr",
     "output_type": "stream",
     "text": [
      "\n",
      "Days Processed: 100%|██████████| 2/2 [00:04<00:00,  2.78s/it]\u001b[A\n",
      "Pages Processed:  63%|██████▎   | 227/362 [21:21<05:38,  2.51s/it]\n",
      "Days Processed: 0it [00:00, ?it/s]\u001b[A\n",
      "Pages Processed:  63%|██████▎   | 228/362 [21:21<04:01,  1.80s/it]\n",
      "Days Processed: 0it [00:00, ?it/s]\u001b[A\n",
      "Pages Processed:  63%|██████▎   | 229/362 [21:22<02:54,  1.31s/it]\n",
      "Days Processed:   0%|          | 0/2 [00:00<?, ?it/s]\u001b[A"
     ]
    },
    {
     "name": "stdout",
     "output_type": "stream",
     "text": [
      "8 March 2024\n"
     ]
    },
    {
     "name": "stderr",
     "output_type": "stream",
     "text": [
      "\n",
      "Days Processed:  50%|█████     | 1/2 [00:05<00:05,  5.36s/it]\u001b[A"
     ]
    },
    {
     "name": "stdout",
     "output_type": "stream",
     "text": [
      "7 March 2024\n"
     ]
    },
    {
     "name": "stderr",
     "output_type": "stream",
     "text": [
      "\n",
      "Days Processed: 100%|██████████| 2/2 [00:11<00:00,  5.64s/it]\u001b[A\n",
      "Pages Processed:  64%|██████▎   | 230/362 [21:33<09:46,  4.45s/it]\n",
      "Days Processed: 0it [00:00, ?it/s]\u001b[A\n",
      "Pages Processed:  64%|██████▍   | 231/362 [21:33<06:54,  3.16s/it]\n",
      "Days Processed:   0%|          | 0/2 [00:00<?, ?it/s]\u001b[A"
     ]
    },
    {
     "name": "stdout",
     "output_type": "stream",
     "text": [
      "5 March 2024\n"
     ]
    },
    {
     "name": "stderr",
     "output_type": "stream",
     "text": [
      "\n",
      "Days Processed:  50%|█████     | 1/2 [00:04<00:04,  4.41s/it]\u001b[A"
     ]
    },
    {
     "name": "stdout",
     "output_type": "stream",
     "text": [
      "4 March 2024\n"
     ]
    },
    {
     "name": "stderr",
     "output_type": "stream",
     "text": [
      "\n",
      "Days Processed: 100%|██████████| 2/2 [00:08<00:00,  4.06s/it]\u001b[A\n",
      "Pages Processed:  64%|██████▍   | 232/362 [21:42<10:26,  4.82s/it]\n",
      "Days Processed:   0%|          | 0/2 [00:00<?, ?it/s]\u001b[A"
     ]
    },
    {
     "name": "stdout",
     "output_type": "stream",
     "text": [
      "4 March 2024\n"
     ]
    },
    {
     "name": "stderr",
     "output_type": "stream",
     "text": [
      "\n",
      "Days Processed:  50%|█████     | 1/2 [00:02<00:02,  2.72s/it]\u001b[A"
     ]
    },
    {
     "name": "stdout",
     "output_type": "stream",
     "text": [
      "3 March 2024\n"
     ]
    },
    {
     "name": "stderr",
     "output_type": "stream",
     "text": [
      "\n",
      "Days Processed: 100%|██████████| 2/2 [00:08<00:00,  4.24s/it]\u001b[A\n",
      "Pages Processed:  64%|██████▍   | 233/362 [21:51<12:43,  5.92s/it]\n",
      "Days Processed:   0%|          | 0/2 [00:00<?, ?it/s]\u001b[A"
     ]
    },
    {
     "name": "stdout",
     "output_type": "stream",
     "text": [
      "3 March 2024\n"
     ]
    },
    {
     "name": "stderr",
     "output_type": "stream",
     "text": [
      "\n",
      "Days Processed:  50%|█████     | 1/2 [00:02<00:02,  2.78s/it]\u001b[A"
     ]
    },
    {
     "name": "stdout",
     "output_type": "stream",
     "text": [
      "2 March 2024\n"
     ]
    },
    {
     "name": "stderr",
     "output_type": "stream",
     "text": [
      "\n",
      "Days Processed: 100%|██████████| 2/2 [00:06<00:00,  3.36s/it]\u001b[A\n",
      "Pages Processed:  65%|██████▍   | 234/362 [21:58<13:21,  6.26s/it]\n",
      "Days Processed: 0it [00:00, ?it/s]\u001b[A\n",
      "Pages Processed:  65%|██████▍   | 235/362 [21:58<09:23,  4.43s/it]\n",
      "Days Processed:   0%|          | 0/2 [00:00<?, ?it/s]\u001b[A"
     ]
    },
    {
     "name": "stdout",
     "output_type": "stream",
     "text": [
      "29 February 2024\n"
     ]
    },
    {
     "name": "stderr",
     "output_type": "stream",
     "text": [
      "\n",
      "Days Processed:  50%|█████     | 1/2 [00:05<00:05,  5.20s/it]\u001b[A\n",
      "Days Processed: 100%|██████████| 2/2 [00:05<00:00,  2.23s/it]\u001b[A\n",
      "Pages Processed:  65%|██████▌   | 236/362 [22:04<10:11,  4.86s/it]"
     ]
    },
    {
     "name": "stdout",
     "output_type": "stream",
     "text": [
      "nan\n"
     ]
    },
    {
     "name": "stderr",
     "output_type": "stream",
     "text": [
      "\n",
      "Days Processed:   0%|          | 0/2 [00:00<?, ?it/s]\u001b[A"
     ]
    },
    {
     "name": "stdout",
     "output_type": "stream",
     "text": [
      "28 February 2024\n"
     ]
    },
    {
     "name": "stderr",
     "output_type": "stream",
     "text": [
      "\n",
      "Days Processed:  50%|█████     | 1/2 [00:07<00:07,  7.87s/it]\u001b[A\n",
      "Days Processed: 100%|██████████| 2/2 [00:08<00:00,  3.33s/it]\u001b[A\n",
      "Pages Processed:  65%|██████▌   | 237/362 [22:12<12:24,  5.95s/it]"
     ]
    },
    {
     "name": "stdout",
     "output_type": "stream",
     "text": [
      "nan\n"
     ]
    },
    {
     "name": "stderr",
     "output_type": "stream",
     "text": [
      "\n",
      "Days Processed: 0it [00:00, ?it/s]\u001b[A\n",
      "Pages Processed:  66%|██████▌   | 238/362 [22:12<08:42,  4.22s/it]\n",
      "Days Processed:   0%|          | 0/2 [00:00<?, ?it/s]\u001b[A"
     ]
    },
    {
     "name": "stdout",
     "output_type": "stream",
     "text": [
      "26 February 2024\n"
     ]
    },
    {
     "name": "stderr",
     "output_type": "stream",
     "text": [
      "\n",
      "Days Processed:  50%|█████     | 1/2 [00:04<00:04,  4.77s/it]\u001b[A"
     ]
    },
    {
     "name": "stdout",
     "output_type": "stream",
     "text": [
      "25 February 2024\n"
     ]
    },
    {
     "name": "stderr",
     "output_type": "stream",
     "text": [
      "\n",
      "Days Processed: 100%|██████████| 2/2 [00:10<00:00,  5.46s/it]\u001b[A\n",
      "Pages Processed:  66%|██████▌   | 239/362 [22:24<12:56,  6.31s/it]\n",
      "Days Processed:   0%|          | 0/2 [00:00<?, ?it/s]\u001b[A"
     ]
    },
    {
     "name": "stdout",
     "output_type": "stream",
     "text": [
      "25 February 2024\n"
     ]
    },
    {
     "name": "stderr",
     "output_type": "stream",
     "text": [
      "\n",
      "Days Processed:  50%|█████     | 1/2 [00:03<00:03,  3.97s/it]\u001b[A"
     ]
    },
    {
     "name": "stdout",
     "output_type": "stream",
     "text": [
      "24 February 2024\n"
     ]
    },
    {
     "name": "stderr",
     "output_type": "stream",
     "text": [
      "\n",
      "Days Processed: 100%|██████████| 2/2 [00:07<00:00,  3.82s/it]\u001b[A\n",
      "Pages Processed:  66%|██████▋   | 240/362 [22:32<13:59,  6.88s/it]\n",
      "Days Processed:   0%|          | 0/2 [00:00<?, ?it/s]\u001b[A"
     ]
    },
    {
     "name": "stdout",
     "output_type": "stream",
     "text": [
      "24 February 2024\n"
     ]
    },
    {
     "name": "stderr",
     "output_type": "stream",
     "text": [
      "\n",
      "Days Processed:  50%|█████     | 1/2 [00:02<00:02,  2.40s/it]\u001b[A"
     ]
    },
    {
     "name": "stdout",
     "output_type": "stream",
     "text": [
      "23 February 2024\n"
     ]
    },
    {
     "name": "stderr",
     "output_type": "stream",
     "text": [
      "\n",
      "Days Processed: 100%|██████████| 2/2 [00:08<00:00,  4.84s/it]\u001b[A\n",
      "Pages Processed:  67%|██████▋   | 241/362 [22:41<15:26,  7.65s/it]\n",
      "Days Processed:   0%|          | 0/2 [00:00<?, ?it/s]\u001b[A"
     ]
    },
    {
     "name": "stdout",
     "output_type": "stream",
     "text": [
      "23 February 2024\n"
     ]
    },
    {
     "name": "stderr",
     "output_type": "stream",
     "text": [
      "\n",
      "Days Processed:  50%|█████     | 1/2 [00:03<00:03,  3.83s/it]\u001b[A"
     ]
    },
    {
     "name": "stdout",
     "output_type": "stream",
     "text": [
      "22 February 2024\n"
     ]
    },
    {
     "name": "stderr",
     "output_type": "stream",
     "text": [
      "\n",
      "Days Processed: 100%|██████████| 2/2 [00:10<00:00,  5.43s/it]\u001b[A\n",
      "Pages Processed:  67%|██████▋   | 242/362 [22:52<17:13,  8.62s/it]\n",
      "Days Processed:   0%|          | 0/2 [00:00<?, ?it/s]\u001b[A"
     ]
    },
    {
     "name": "stdout",
     "output_type": "stream",
     "text": [
      "22 February 2024\n"
     ]
    },
    {
     "name": "stderr",
     "output_type": "stream",
     "text": [
      "\n",
      "Days Processed:  50%|█████     | 1/2 [00:03<00:03,  3.41s/it]\u001b[A"
     ]
    },
    {
     "name": "stdout",
     "output_type": "stream",
     "text": [
      "21 February 2024\n"
     ]
    },
    {
     "name": "stderr",
     "output_type": "stream",
     "text": [
      "\n",
      "Days Processed: 100%|██████████| 2/2 [00:09<00:00,  4.92s/it]\u001b[A\n",
      "Pages Processed:  67%|██████▋   | 243/362 [23:02<17:54,  9.03s/it]\n",
      "Days Processed:   0%|          | 0/2 [00:00<?, ?it/s]\u001b[A"
     ]
    },
    {
     "name": "stdout",
     "output_type": "stream",
     "text": [
      "21 February 2024\n"
     ]
    },
    {
     "name": "stderr",
     "output_type": "stream",
     "text": [
      "\n",
      "Days Processed:  50%|█████     | 1/2 [00:03<00:03,  3.03s/it]\u001b[A"
     ]
    },
    {
     "name": "stdout",
     "output_type": "stream",
     "text": [
      "20 February 2024\n"
     ]
    },
    {
     "name": "stderr",
     "output_type": "stream",
     "text": [
      "\n",
      "Days Processed: 100%|██████████| 2/2 [00:09<00:00,  5.05s/it]\u001b[A\n",
      "Pages Processed:  67%|██████▋   | 244/362 [23:12<18:19,  9.32s/it]\n",
      "Days Processed:   0%|          | 0/2 [00:00<?, ?it/s]\u001b[A"
     ]
    },
    {
     "name": "stdout",
     "output_type": "stream",
     "text": [
      "20 February 2024\n"
     ]
    },
    {
     "name": "stderr",
     "output_type": "stream",
     "text": [
      "\n",
      "Days Processed:  50%|█████     | 1/2 [00:02<00:02,  2.31s/it]\u001b[A"
     ]
    },
    {
     "name": "stdout",
     "output_type": "stream",
     "text": [
      "19 February 2024\n"
     ]
    },
    {
     "name": "stderr",
     "output_type": "stream",
     "text": [
      "\n",
      "Days Processed: 100%|██████████| 2/2 [00:06<00:00,  3.61s/it]\u001b[A\n",
      "Pages Processed:  68%|██████▊   | 245/362 [23:19<17:00,  8.72s/it]\n",
      "Days Processed: 0it [00:00, ?it/s]\u001b[A\n",
      "Pages Processed:  68%|██████▊   | 246/362 [23:20<11:53,  6.15s/it]\n",
      "Days Processed: 0it [00:00, ?it/s]\u001b[A\n",
      "Pages Processed:  68%|██████▊   | 247/362 [23:20<08:20,  4.36s/it]\n",
      "Days Processed:   0%|          | 0/2 [00:00<?, ?it/s]\u001b[A"
     ]
    },
    {
     "name": "stdout",
     "output_type": "stream",
     "text": [
      "16 February 2024\n"
     ]
    },
    {
     "name": "stderr",
     "output_type": "stream",
     "text": [
      "\n",
      "Days Processed:  50%|█████     | 1/2 [00:05<00:05,  5.51s/it]\u001b[A\n",
      "Days Processed: 100%|██████████| 2/2 [00:05<00:00,  2.36s/it]\u001b[A\n",
      "Pages Processed:  69%|██████▊   | 248/362 [23:26<09:18,  4.90s/it]"
     ]
    },
    {
     "name": "stdout",
     "output_type": "stream",
     "text": [
      "nan\n"
     ]
    },
    {
     "name": "stderr",
     "output_type": "stream",
     "text": [
      "\n",
      "Days Processed:   0%|          | 0/2 [00:00<?, ?it/s]\u001b[A"
     ]
    },
    {
     "name": "stdout",
     "output_type": "stream",
     "text": [
      "15 February 2024\n"
     ]
    },
    {
     "name": "stderr",
     "output_type": "stream",
     "text": [
      "\n",
      "Days Processed:  50%|█████     | 1/2 [00:05<00:05,  5.32s/it]\u001b[A"
     ]
    },
    {
     "name": "stdout",
     "output_type": "stream",
     "text": [
      "14 February 2024\n"
     ]
    },
    {
     "name": "stderr",
     "output_type": "stream",
     "text": [
      "\n",
      "Days Processed: 100%|██████████| 2/2 [00:09<00:00,  4.80s/it]\u001b[A\n",
      "Pages Processed:  69%|██████▉   | 249/362 [23:36<12:16,  6.52s/it]\n",
      "Days Processed: 0it [00:00, ?it/s]\u001b[A\n",
      "Pages Processed:  69%|██████▉   | 250/362 [23:36<08:36,  4.61s/it]\n",
      "Days Processed:   0%|          | 0/2 [00:00<?, ?it/s]\u001b[A"
     ]
    },
    {
     "name": "stdout",
     "output_type": "stream",
     "text": [
      "12 February 2024\n"
     ]
    },
    {
     "name": "stderr",
     "output_type": "stream",
     "text": [
      "\n",
      "Days Processed:  50%|█████     | 1/2 [00:04<00:04,  4.81s/it]\u001b[A\n",
      "Days Processed: 100%|██████████| 2/2 [00:04<00:00,  2.07s/it]\u001b[A\n",
      "Pages Processed:  69%|██████▉   | 251/362 [23:42<09:00,  4.87s/it]"
     ]
    },
    {
     "name": "stdout",
     "output_type": "stream",
     "text": [
      "nan\n"
     ]
    },
    {
     "name": "stderr",
     "output_type": "stream",
     "text": [
      "\n",
      "Days Processed:   0%|          | 0/3 [00:00<?, ?it/s]\u001b[A"
     ]
    },
    {
     "name": "stdout",
     "output_type": "stream",
     "text": [
      "11 February 2024\n"
     ]
    },
    {
     "name": "stderr",
     "output_type": "stream",
     "text": [
      "\n",
      "Days Processed:  33%|███▎      | 1/3 [00:06<00:13,  6.60s/it]\u001b[A"
     ]
    },
    {
     "name": "stdout",
     "output_type": "stream",
     "text": [
      "10 February 2024\n"
     ]
    },
    {
     "name": "stderr",
     "output_type": "stream",
     "text": [
      "\n",
      "Days Processed:  67%|██████▋   | 2/3 [00:09<00:04,  4.26s/it]\u001b[A"
     ]
    },
    {
     "name": "stdout",
     "output_type": "stream",
     "text": [
      "9 February 2024\n"
     ]
    },
    {
     "name": "stderr",
     "output_type": "stream",
     "text": [
      "\n",
      "Days Processed: 100%|██████████| 3/3 [00:14<00:00,  4.65s/it]\u001b[A\n",
      "Pages Processed:  70%|██████▉   | 252/362 [23:57<14:23,  7.85s/it]\n",
      "Days Processed:   0%|          | 0/2 [00:00<?, ?it/s]\u001b[A"
     ]
    },
    {
     "name": "stdout",
     "output_type": "stream",
     "text": [
      "9 February 2024\n"
     ]
    },
    {
     "name": "stderr",
     "output_type": "stream",
     "text": [
      "\n",
      "Days Processed:  50%|█████     | 1/2 [00:02<00:02,  2.34s/it]\u001b[A"
     ]
    },
    {
     "name": "stdout",
     "output_type": "stream",
     "text": [
      "8 February 2024\n"
     ]
    },
    {
     "name": "stderr",
     "output_type": "stream",
     "text": [
      "\n",
      "Days Processed: 100%|██████████| 2/2 [00:08<00:00,  4.36s/it]\u001b[A\n",
      "Pages Processed:  70%|██████▉   | 253/362 [24:05<14:40,  8.07s/it]\n",
      "Days Processed:   0%|          | 0/2 [00:00<?, ?it/s]\u001b[A"
     ]
    },
    {
     "name": "stdout",
     "output_type": "stream",
     "text": [
      "8 February 2024\n"
     ]
    },
    {
     "name": "stderr",
     "output_type": "stream",
     "text": [
      "\n",
      "Days Processed:  50%|█████     | 1/2 [00:02<00:02,  2.38s/it]\u001b[A"
     ]
    },
    {
     "name": "stdout",
     "output_type": "stream",
     "text": [
      "7 February 2024\n"
     ]
    },
    {
     "name": "stderr",
     "output_type": "stream",
     "text": [
      "\n",
      "Days Processed: 100%|██████████| 2/2 [00:08<00:00,  4.30s/it]\u001b[A\n",
      "Pages Processed:  70%|███████   | 254/362 [24:14<14:45,  8.20s/it]\n",
      "Days Processed: 0it [00:00, ?it/s]\u001b[A\n",
      "Pages Processed:  70%|███████   | 255/362 [24:14<10:19,  5.79s/it]\n",
      "Days Processed:   0%|          | 0/2 [00:00<?, ?it/s]\u001b[A"
     ]
    },
    {
     "name": "stdout",
     "output_type": "stream",
     "text": [
      "6 February 2024\n"
     ]
    },
    {
     "name": "stderr",
     "output_type": "stream",
     "text": [
      "\n",
      "Days Processed:  50%|█████     | 1/2 [00:04<00:04,  4.47s/it]\u001b[A"
     ]
    },
    {
     "name": "stdout",
     "output_type": "stream",
     "text": [
      "5 February 2024\n"
     ]
    },
    {
     "name": "stderr",
     "output_type": "stream",
     "text": [
      "\n",
      "Days Processed: 100%|██████████| 2/2 [00:08<00:00,  4.27s/it]\u001b[A\n",
      "Pages Processed:  71%|███████   | 256/362 [24:23<11:58,  6.78s/it]\n",
      "Days Processed:   0%|          | 0/2 [00:00<?, ?it/s]\u001b[A"
     ]
    },
    {
     "name": "stdout",
     "output_type": "stream",
     "text": [
      "5 February 2024\n"
     ]
    },
    {
     "name": "stderr",
     "output_type": "stream",
     "text": [
      "\n",
      "Days Processed:  50%|█████     | 1/2 [00:02<00:02,  2.61s/it]\u001b[A\n",
      "Days Processed: 100%|██████████| 2/2 [00:02<00:00,  1.17s/it]\u001b[A\n",
      "Pages Processed:  71%|███████   | 257/362 [24:26<10:01,  5.73s/it]"
     ]
    },
    {
     "name": "stdout",
     "output_type": "stream",
     "text": [
      "nan\n"
     ]
    },
    {
     "name": "stderr",
     "output_type": "stream",
     "text": [
      "\n",
      "Days Processed: 0it [00:00, ?it/s]\u001b[A\n",
      "Pages Processed:  71%|███████▏  | 258/362 [24:26<07:01,  4.06s/it]\n",
      "Days Processed:   0%|          | 0/2 [00:00<?, ?it/s]\u001b[A"
     ]
    },
    {
     "name": "stdout",
     "output_type": "stream",
     "text": [
      "2 February 2024\n"
     ]
    },
    {
     "name": "stderr",
     "output_type": "stream",
     "text": [
      "\n",
      "Days Processed:  50%|█████     | 1/2 [00:04<00:04,  4.15s/it]\u001b[A"
     ]
    },
    {
     "name": "stdout",
     "output_type": "stream",
     "text": [
      "1 February 2024\n"
     ]
    },
    {
     "name": "stderr",
     "output_type": "stream",
     "text": [
      "\n",
      "Days Processed: 100%|██████████| 2/2 [00:09<00:00,  4.93s/it]\u001b[A\n",
      "Pages Processed:  72%|███████▏  | 259/362 [24:37<10:06,  5.89s/it]\n",
      "Days Processed:   0%|          | 0/2 [00:00<?, ?it/s]\u001b[A"
     ]
    },
    {
     "name": "stdout",
     "output_type": "stream",
     "text": [
      "1 February 2024\n"
     ]
    },
    {
     "name": "stderr",
     "output_type": "stream",
     "text": [
      "\n",
      "Days Processed:  50%|█████     | 1/2 [00:04<00:04,  4.42s/it]\u001b[A"
     ]
    },
    {
     "name": "stdout",
     "output_type": "stream",
     "text": [
      "31 January 2024\n"
     ]
    },
    {
     "name": "stderr",
     "output_type": "stream",
     "text": [
      "\n",
      "Days Processed: 100%|██████████| 2/2 [00:10<00:00,  5.21s/it]\u001b[A\n",
      "Pages Processed:  72%|███████▏  | 260/362 [24:47<12:30,  7.36s/it]\n",
      "Days Processed: 0it [00:00, ?it/s]\u001b[A\n",
      "Pages Processed:  72%|███████▏  | 261/362 [24:48<08:45,  5.20s/it]\n",
      "Days Processed:   0%|          | 0/2 [00:00<?, ?it/s]\u001b[A"
     ]
    },
    {
     "name": "stdout",
     "output_type": "stream",
     "text": [
      "30 January 2024\n"
     ]
    },
    {
     "name": "stderr",
     "output_type": "stream",
     "text": [
      "\n",
      "Days Processed:  50%|█████     | 1/2 [00:05<00:05,  5.12s/it]\u001b[A\n",
      "Days Processed: 100%|██████████| 2/2 [00:05<00:00,  2.20s/it]\u001b[A\n",
      "Pages Processed:  72%|███████▏  | 262/362 [24:53<08:58,  5.38s/it]"
     ]
    },
    {
     "name": "stdout",
     "output_type": "stream",
     "text": [
      "nan\n"
     ]
    },
    {
     "name": "stderr",
     "output_type": "stream",
     "text": [
      "\n",
      "Days Processed:   0%|          | 0/2 [00:00<?, ?it/s]\u001b[A"
     ]
    },
    {
     "name": "stdout",
     "output_type": "stream",
     "text": [
      "29 January 2024\n"
     ]
    },
    {
     "name": "stderr",
     "output_type": "stream",
     "text": [
      "\n",
      "Days Processed:  50%|█████     | 1/2 [00:04<00:04,  4.46s/it]\u001b[A"
     ]
    },
    {
     "name": "stdout",
     "output_type": "stream",
     "text": [
      "28 January 2024\n"
     ]
    },
    {
     "name": "stderr",
     "output_type": "stream",
     "text": [
      "\n",
      "Days Processed: 100%|██████████| 2/2 [00:08<00:00,  4.44s/it]\u001b[A\n",
      "Pages Processed:  73%|███████▎  | 263/362 [25:03<10:52,  6.59s/it]\n",
      "Days Processed: 0it [00:00, ?it/s]\u001b[A\n",
      "Pages Processed:  73%|███████▎  | 264/362 [25:03<07:37,  4.66s/it]\n",
      "Days Processed: 0it [00:00, ?it/s]\u001b[A\n",
      "Pages Processed:  73%|███████▎  | 265/362 [25:03<05:21,  3.32s/it]\n",
      "Days Processed:   0%|          | 0/2 [00:00<?, ?it/s]\u001b[A"
     ]
    },
    {
     "name": "stdout",
     "output_type": "stream",
     "text": [
      "25 January 2024\n"
     ]
    },
    {
     "name": "stderr",
     "output_type": "stream",
     "text": [
      "\n",
      "Days Processed:  50%|█████     | 1/2 [00:07<00:07,  7.01s/it]\u001b[A\n",
      "Days Processed: 100%|██████████| 2/2 [00:07<00:00,  2.98s/it]\u001b[A\n",
      "Pages Processed:  73%|███████▎  | 266/362 [25:11<07:22,  4.61s/it]"
     ]
    },
    {
     "name": "stdout",
     "output_type": "stream",
     "text": [
      "nan\n"
     ]
    },
    {
     "name": "stderr",
     "output_type": "stream",
     "text": [
      "\n",
      "Days Processed: 0it [00:00, ?it/s]\u001b[A\n",
      "Pages Processed:  74%|███████▍  | 267/362 [25:11<05:11,  3.28s/it]\n",
      "Days Processed:   0%|          | 0/2 [00:00<?, ?it/s]\u001b[A\n",
      "Days Processed:  50%|█████     | 1/2 [00:00<00:00,  6.48it/s]\u001b[A"
     ]
    },
    {
     "name": "stdout",
     "output_type": "stream",
     "text": [
      "nan\n",
      "22 January 2024\n"
     ]
    },
    {
     "name": "stderr",
     "output_type": "stream",
     "text": [
      "\n",
      "Days Processed: 100%|██████████| 2/2 [00:07<00:00,  4.22s/it]\u001b[A\n",
      "Pages Processed:  74%|███████▍  | 268/362 [25:19<07:12,  4.60s/it]\n",
      "Days Processed: 0it [00:00, ?it/s]\u001b[A\n",
      "Pages Processed:  74%|███████▍  | 269/362 [25:19<05:04,  3.27s/it]\n",
      "Days Processed: 0it [00:00, ?it/s]\u001b[A\n",
      "Pages Processed:  75%|███████▍  | 270/362 [25:19<03:35,  2.34s/it]\n",
      "Days Processed:   0%|          | 0/2 [00:00<?, ?it/s]\u001b[A"
     ]
    },
    {
     "name": "stdout",
     "output_type": "stream",
     "text": [
      "20 January 2024\n"
     ]
    },
    {
     "name": "stderr",
     "output_type": "stream",
     "text": [
      "\n",
      "Days Processed:  50%|█████     | 1/2 [00:04<00:04,  4.03s/it]\u001b[A"
     ]
    },
    {
     "name": "stdout",
     "output_type": "stream",
     "text": [
      "19 January 2024\n"
     ]
    },
    {
     "name": "stderr",
     "output_type": "stream",
     "text": [
      "\n",
      "Days Processed: 100%|██████████| 2/2 [00:09<00:00,  4.66s/it]\u001b[A\n",
      "Pages Processed:  75%|███████▍  | 271/362 [25:29<06:52,  4.53s/it]\n",
      "Days Processed: 0it [00:00, ?it/s]\u001b[A\n",
      "Pages Processed:  75%|███████▌  | 272/362 [25:29<04:49,  3.22s/it]\n",
      "Days Processed: 0it [00:00, ?it/s]\u001b[A\n",
      "Pages Processed:  75%|███████▌  | 273/362 [25:29<03:24,  2.30s/it]\n",
      "Days Processed:   0%|          | 0/2 [00:00<?, ?it/s]\u001b[A"
     ]
    },
    {
     "name": "stdout",
     "output_type": "stream",
     "text": [
      "16 January 2024\n"
     ]
    },
    {
     "name": "stderr",
     "output_type": "stream",
     "text": [
      "\n",
      "Days Processed:  50%|█████     | 1/2 [00:06<00:06,  6.21s/it]\u001b[A\n",
      "Days Processed: 100%|██████████| 2/2 [00:06<00:00,  2.66s/it]\u001b[A\n",
      "Pages Processed:  76%|███████▌  | 274/362 [25:36<05:22,  3.67s/it]"
     ]
    },
    {
     "name": "stdout",
     "output_type": "stream",
     "text": [
      "nan\n"
     ]
    },
    {
     "name": "stderr",
     "output_type": "stream",
     "text": [
      "\n",
      "Days Processed: 0it [00:00, ?it/s]\u001b[A\n",
      "Pages Processed:  76%|███████▌  | 275/362 [25:36<03:47,  2.62s/it]\n",
      "Days Processed:   0%|          | 0/3 [00:00<?, ?it/s]\u001b[A\n",
      "Days Processed:  33%|███▎      | 1/3 [00:00<00:00,  4.92it/s]\u001b[A"
     ]
    },
    {
     "name": "stdout",
     "output_type": "stream",
     "text": [
      "nan\n",
      "13 January 2024\n"
     ]
    },
    {
     "name": "stderr",
     "output_type": "stream",
     "text": [
      "\n",
      "Days Processed:  67%|██████▋   | 2/3 [00:03<00:01,  1.92s/it]\u001b[A"
     ]
    },
    {
     "name": "stdout",
     "output_type": "stream",
     "text": [
      "12 January 2024\n"
     ]
    },
    {
     "name": "stderr",
     "output_type": "stream",
     "text": [
      "\n",
      "Days Processed: 100%|██████████| 3/3 [00:08<00:00,  3.29s/it]\u001b[A\n",
      "Pages Processed:  76%|███████▌  | 276/362 [25:45<06:23,  4.45s/it]\n",
      "Days Processed: 0it [00:00, ?it/s]\u001b[A\n",
      "Pages Processed:  77%|███████▋  | 277/362 [25:45<04:29,  3.17s/it]\n",
      "Days Processed:   0%|          | 0/2 [00:00<?, ?it/s]\u001b[A"
     ]
    },
    {
     "name": "stdout",
     "output_type": "stream",
     "text": [
      "11 January 2024\n"
     ]
    },
    {
     "name": "stderr",
     "output_type": "stream",
     "text": [
      "\n",
      "Days Processed:  50%|█████     | 1/2 [00:04<00:04,  4.75s/it]\u001b[A"
     ]
    },
    {
     "name": "stdout",
     "output_type": "stream",
     "text": [
      "10 January 2024\n"
     ]
    },
    {
     "name": "stderr",
     "output_type": "stream",
     "text": [
      "\n",
      "Days Processed: 100%|██████████| 2/2 [00:09<00:00,  4.61s/it]\u001b[A\n",
      "Pages Processed:  77%|███████▋  | 278/362 [25:55<07:12,  5.15s/it]\n",
      "Days Processed: 0it [00:00, ?it/s]\u001b[A\n",
      "Pages Processed:  77%|███████▋  | 279/362 [25:55<05:02,  3.65s/it]\n",
      "Days Processed:   0%|          | 0/2 [00:00<?, ?it/s]\u001b[A\n",
      "Days Processed:  50%|█████     | 1/2 [00:00<00:00,  6.69it/s]\u001b[A"
     ]
    },
    {
     "name": "stdout",
     "output_type": "stream",
     "text": [
      "nan\n",
      "8 January 2024\n"
     ]
    },
    {
     "name": "stderr",
     "output_type": "stream",
     "text": [
      "\n",
      "Days Processed: 100%|██████████| 2/2 [00:04<00:00,  2.85s/it]\u001b[A\n",
      "Pages Processed:  77%|███████▋  | 280/362 [26:00<05:41,  4.17s/it]\n",
      "Days Processed: 0it [00:00, ?it/s]\u001b[A\n",
      "Pages Processed:  78%|███████▊  | 281/362 [26:00<04:00,  2.97s/it]\n",
      "Days Processed: 0it [00:00, ?it/s]\u001b[A\n",
      "Pages Processed:  78%|███████▊  | 282/362 [26:00<02:50,  2.13s/it]\n",
      "Days Processed: 0it [00:00, ?it/s]\u001b[A\n",
      "Pages Processed:  78%|███████▊  | 283/362 [26:01<02:01,  1.54s/it]\n",
      "Days Processed:   0%|          | 0/2 [00:00<?, ?it/s]\u001b[A"
     ]
    },
    {
     "name": "stdout",
     "output_type": "stream",
     "text": [
      "4 January 2024\n"
     ]
    },
    {
     "name": "stderr",
     "output_type": "stream",
     "text": [
      "\n",
      "Days Processed:  50%|█████     | 1/2 [00:04<00:04,  4.57s/it]\u001b[A\n",
      "Days Processed: 100%|██████████| 2/2 [00:04<00:00,  1.98s/it]\u001b[A\n",
      "Pages Processed:  78%|███████▊  | 284/362 [26:06<03:28,  2.68s/it]"
     ]
    },
    {
     "name": "stdout",
     "output_type": "stream",
     "text": [
      "nan\n"
     ]
    },
    {
     "name": "stderr",
     "output_type": "stream",
     "text": [
      "\n",
      "Days Processed:   0%|          | 0/3 [00:00<?, ?it/s]\u001b[A"
     ]
    },
    {
     "name": "stdout",
     "output_type": "stream",
     "text": [
      "3 January 2024\n"
     ]
    },
    {
     "name": "stderr",
     "output_type": "stream",
     "text": [
      "\n",
      "Days Processed:  33%|███▎      | 1/3 [00:04<00:09,  4.64s/it]\u001b[A\n",
      "Days Processed:  67%|██████▋   | 2/3 [00:04<00:02,  2.00s/it]\u001b[A\n",
      "Days Processed: 100%|██████████| 3/3 [00:04<00:00,  1.16s/it]\u001b[A\n",
      "Pages Processed:  79%|███████▊  | 285/362 [26:12<04:41,  3.65s/it]"
     ]
    },
    {
     "name": "stdout",
     "output_type": "stream",
     "text": [
      "nan\n",
      "nan\n"
     ]
    },
    {
     "name": "stderr",
     "output_type": "stream",
     "text": [
      "\n",
      "Days Processed:   0%|          | 0/2 [00:00<?, ?it/s]\u001b[A\n",
      "Days Processed:  50%|█████     | 1/2 [00:00<00:00,  6.44it/s]\u001b[A\n",
      "Days Processed: 100%|██████████| 2/2 [00:00<00:00,  6.41it/s]\u001b[A\n",
      "Pages Processed:  79%|███████▉  | 286/362 [26:13<03:35,  2.84s/it]"
     ]
    },
    {
     "name": "stdout",
     "output_type": "stream",
     "text": [
      "nan\n",
      "nan\n"
     ]
    },
    {
     "name": "stderr",
     "output_type": "stream",
     "text": [
      "\n",
      "Days Processed:   0%|          | 0/3 [00:00<?, ?it/s]\u001b[A"
     ]
    },
    {
     "name": "stdout",
     "output_type": "stream",
     "text": [
      "31 December 2023\n"
     ]
    },
    {
     "name": "stderr",
     "output_type": "stream",
     "text": [
      "\n",
      "Days Processed:  33%|███▎      | 1/3 [00:04<00:08,  4.21s/it]\u001b[A\n",
      "Days Processed:  67%|██████▋   | 2/3 [00:04<00:01,  1.87s/it]\u001b[A\n",
      "Days Processed: 100%|██████████| 3/3 [00:04<00:00,  1.09s/it]\u001b[A\n",
      "Pages Processed:  79%|███████▉  | 287/362 [26:18<04:24,  3.52s/it]"
     ]
    },
    {
     "name": "stdout",
     "output_type": "stream",
     "text": [
      "nan\n",
      "nan\n"
     ]
    },
    {
     "name": "stderr",
     "output_type": "stream",
     "text": [
      "\n",
      "Days Processed:   0%|          | 0/2 [00:00<?, ?it/s]\u001b[A\n",
      "Days Processed:  50%|█████     | 1/2 [00:00<00:00,  6.53it/s]\u001b[A"
     ]
    },
    {
     "name": "stdout",
     "output_type": "stream",
     "text": [
      "nan\n",
      "28 December 2023\n"
     ]
    },
    {
     "name": "stderr",
     "output_type": "stream",
     "text": [
      "\n",
      "Days Processed: 100%|██████████| 2/2 [00:03<00:00,  2.00s/it]\u001b[A\n",
      "Pages Processed:  80%|███████▉  | 288/362 [26:22<04:29,  3.65s/it]\n",
      "Days Processed:   0%|          | 0/3 [00:00<?, ?it/s]\u001b[A"
     ]
    },
    {
     "name": "stdout",
     "output_type": "stream",
     "text": [
      "28 December 2023\n"
     ]
    },
    {
     "name": "stderr",
     "output_type": "stream",
     "text": [
      "\n",
      "Days Processed:  33%|███▎      | 1/3 [00:02<00:04,  2.48s/it]\u001b[A"
     ]
    },
    {
     "name": "stdout",
     "output_type": "stream",
     "text": [
      "27 December 2023\n"
     ]
    },
    {
     "name": "stderr",
     "output_type": "stream",
     "text": [
      "\n",
      "Days Processed:  67%|██████▋   | 2/3 [00:05<00:02,  2.75s/it]\u001b[A"
     ]
    },
    {
     "name": "stdout",
     "output_type": "stream",
     "text": [
      "26 December 2023\n"
     ]
    },
    {
     "name": "stderr",
     "output_type": "stream",
     "text": [
      "\n",
      "Days Processed: 100%|██████████| 3/3 [00:08<00:00,  2.83s/it]\u001b[A\n",
      "Pages Processed:  80%|███████▉  | 289/362 [26:31<06:19,  5.20s/it]\n",
      "Days Processed:   0%|          | 0/3 [00:00<?, ?it/s]\u001b[A"
     ]
    },
    {
     "name": "stdout",
     "output_type": "stream",
     "text": [
      "26 December 2023\n"
     ]
    },
    {
     "name": "stderr",
     "output_type": "stream",
     "text": [
      "\n",
      "Days Processed:  33%|███▎      | 1/3 [00:03<00:06,  3.12s/it]\u001b[A"
     ]
    },
    {
     "name": "stdout",
     "output_type": "stream",
     "text": [
      "25 December 2023\n"
     ]
    },
    {
     "name": "stderr",
     "output_type": "stream",
     "text": [
      "\n",
      "Days Processed:  67%|██████▋   | 2/3 [00:06<00:03,  3.56s/it]\u001b[A\n",
      "Days Processed: 100%|██████████| 3/3 [00:07<00:00,  2.01s/it]\u001b[A\n",
      "Pages Processed:  80%|████████  | 290/362 [26:38<07:06,  5.92s/it]"
     ]
    },
    {
     "name": "stdout",
     "output_type": "stream",
     "text": [
      "nan\n"
     ]
    },
    {
     "name": "stderr",
     "output_type": "stream",
     "text": [
      "\n",
      "Days Processed:   0%|          | 0/3 [00:00<?, ?it/s]\u001b[A"
     ]
    },
    {
     "name": "stdout",
     "output_type": "stream",
     "text": [
      "24 December 2023\n"
     ]
    },
    {
     "name": "stderr",
     "output_type": "stream",
     "text": [
      "\n",
      "Days Processed:  33%|███▎      | 1/3 [00:03<00:07,  3.82s/it]\u001b[A"
     ]
    },
    {
     "name": "stdout",
     "output_type": "stream",
     "text": [
      "23 December 2023\n"
     ]
    },
    {
     "name": "stderr",
     "output_type": "stream",
     "text": [
      "\n",
      "Days Processed:  67%|██████▋   | 2/3 [00:07<00:03,  3.68s/it]\u001b[A\n",
      "Days Processed: 100%|██████████| 3/3 [00:07<00:00,  2.08s/it]\u001b[A\n",
      "Pages Processed:  80%|████████  | 291/362 [26:46<07:46,  6.56s/it]"
     ]
    },
    {
     "name": "stdout",
     "output_type": "stream",
     "text": [
      "nan\n"
     ]
    },
    {
     "name": "stderr",
     "output_type": "stream",
     "text": [
      "\n",
      "Days Processed:   0%|          | 0/2 [00:00<?, ?it/s]\u001b[A\n",
      "Days Processed:  50%|█████     | 1/2 [00:00<00:00,  6.37it/s]\u001b[A"
     ]
    },
    {
     "name": "stdout",
     "output_type": "stream",
     "text": [
      "nan\n",
      "21 December 2023\n"
     ]
    },
    {
     "name": "stderr",
     "output_type": "stream",
     "text": [
      "\n",
      "Days Processed: 100%|██████████| 2/2 [00:05<00:00,  3.04s/it]\u001b[A\n",
      "Pages Processed:  81%|████████  | 292/362 [26:52<07:23,  6.33s/it]\n",
      "Days Processed:   0%|          | 0/2 [00:00<?, ?it/s]\u001b[A"
     ]
    },
    {
     "name": "stdout",
     "output_type": "stream",
     "text": [
      "21 December 2023\n"
     ]
    },
    {
     "name": "stderr",
     "output_type": "stream",
     "text": [
      "\n",
      "Days Processed:  50%|█████     | 1/2 [00:03<00:03,  3.48s/it]\u001b[A"
     ]
    },
    {
     "name": "stdout",
     "output_type": "stream",
     "text": [
      "20 December 2023\n"
     ]
    },
    {
     "name": "stderr",
     "output_type": "stream",
     "text": [
      "\n",
      "Days Processed: 100%|██████████| 2/2 [00:09<00:00,  4.89s/it]\u001b[A\n",
      "Pages Processed:  81%|████████  | 293/362 [27:02<08:30,  7.40s/it]\n",
      "Days Processed:   0%|          | 0/2 [00:00<?, ?it/s]\u001b[A"
     ]
    },
    {
     "name": "stdout",
     "output_type": "stream",
     "text": [
      "20 December 2023\n"
     ]
    },
    {
     "name": "stderr",
     "output_type": "stream",
     "text": [
      "\n",
      "Days Processed:  50%|█████     | 1/2 [00:02<00:02,  2.01s/it]\u001b[A"
     ]
    },
    {
     "name": "stdout",
     "output_type": "stream",
     "text": [
      "19 December 2023\n"
     ]
    },
    {
     "name": "stderr",
     "output_type": "stream",
     "text": [
      "\n",
      "Days Processed: 100%|██████████| 2/2 [00:07<00:00,  4.03s/it]\u001b[A\n",
      "Pages Processed:  81%|████████  | 294/362 [27:10<08:36,  7.59s/it]\n",
      "Days Processed:   0%|          | 0/2 [00:00<?, ?it/s]\u001b[A"
     ]
    },
    {
     "name": "stdout",
     "output_type": "stream",
     "text": [
      "19 December 2023\n"
     ]
    },
    {
     "name": "stderr",
     "output_type": "stream",
     "text": [
      "\n",
      "Days Processed:  50%|█████     | 1/2 [00:05<00:05,  5.57s/it]\u001b[A"
     ]
    },
    {
     "name": "stdout",
     "output_type": "stream",
     "text": [
      "18 December 2023\n"
     ]
    },
    {
     "name": "stderr",
     "output_type": "stream",
     "text": [
      "\n",
      "Days Processed: 100%|██████████| 2/2 [00:11<00:00,  5.97s/it]\u001b[A\n",
      "Pages Processed:  81%|████████▏ | 295/362 [27:22<10:03,  9.01s/it]\n",
      "Days Processed:   0%|          | 0/2 [00:00<?, ?it/s]\u001b[A"
     ]
    },
    {
     "name": "stdout",
     "output_type": "stream",
     "text": [
      "18 December 2023\n"
     ]
    },
    {
     "name": "stderr",
     "output_type": "stream",
     "text": [
      "\n",
      "Days Processed:  50%|█████     | 1/2 [00:02<00:02,  2.94s/it]\u001b[A"
     ]
    },
    {
     "name": "stdout",
     "output_type": "stream",
     "text": [
      "17 December 2023\n"
     ]
    },
    {
     "name": "stderr",
     "output_type": "stream",
     "text": [
      "\n",
      "Days Processed: 100%|██████████| 2/2 [00:09<00:00,  4.79s/it]\u001b[A\n",
      "Pages Processed:  82%|████████▏ | 296/362 [27:32<10:04,  9.16s/it]\n",
      "Days Processed: 0it [00:00, ?it/s]\u001b[A\n",
      "Pages Processed:  82%|████████▏ | 297/362 [27:32<07:04,  6.54s/it]\n",
      "Days Processed:   0%|          | 0/2 [00:00<?, ?it/s]\u001b[A"
     ]
    },
    {
     "name": "stdout",
     "output_type": "stream",
     "text": [
      "15 December 2023\n"
     ]
    },
    {
     "name": "stderr",
     "output_type": "stream",
     "text": [
      "\n",
      "Days Processed:  50%|█████     | 1/2 [00:05<00:05,  5.45s/it]\u001b[A"
     ]
    },
    {
     "name": "stdout",
     "output_type": "stream",
     "text": [
      "14 December 2023\n"
     ]
    },
    {
     "name": "stderr",
     "output_type": "stream",
     "text": [
      "\n",
      "Days Processed: 100%|██████████| 2/2 [00:09<00:00,  4.77s/it]\u001b[A\n",
      "Pages Processed:  82%|████████▏ | 298/362 [27:43<08:09,  7.65s/it]\n",
      "Days Processed: 0it [00:00, ?it/s]\u001b[A\n",
      "Pages Processed:  83%|████████▎ | 299/362 [27:43<05:41,  5.42s/it]\n",
      "Days Processed:   0%|          | 0/2 [00:00<?, ?it/s]\u001b[A"
     ]
    },
    {
     "name": "stdout",
     "output_type": "stream",
     "text": [
      "13 December 2023\n"
     ]
    },
    {
     "name": "stderr",
     "output_type": "stream",
     "text": [
      "\n",
      "Days Processed:  50%|█████     | 1/2 [00:06<00:06,  6.40s/it]\u001b[A\n",
      "Days Processed: 100%|██████████| 2/2 [00:06<00:00,  2.73s/it]\u001b[A\n",
      "Pages Processed:  83%|████████▎ | 300/362 [27:50<06:08,  5.94s/it]"
     ]
    },
    {
     "name": "stdout",
     "output_type": "stream",
     "text": [
      "nan\n"
     ]
    },
    {
     "name": "stderr",
     "output_type": "stream",
     "text": [
      "\n",
      "Days Processed: 0it [00:00, ?it/s]\u001b[A\n",
      "Pages Processed:  83%|████████▎ | 301/362 [27:50<04:16,  4.21s/it]\n",
      "Days Processed: 0it [00:00, ?it/s]\u001b[A\n",
      "Pages Processed:  83%|████████▎ | 302/362 [27:50<03:00,  3.00s/it]\n",
      "Days Processed:   0%|          | 0/2 [00:00<?, ?it/s]\u001b[A"
     ]
    },
    {
     "name": "stdout",
     "output_type": "stream",
     "text": [
      "10 December 2023\n"
     ]
    },
    {
     "name": "stderr",
     "output_type": "stream",
     "text": [
      "\n",
      "Days Processed:  50%|█████     | 1/2 [00:05<00:05,  5.15s/it]\u001b[A\n",
      "Days Processed: 100%|██████████| 2/2 [00:05<00:00,  2.21s/it]\u001b[A\n",
      "Pages Processed:  84%|████████▎ | 303/362 [27:56<03:46,  3.84s/it]"
     ]
    },
    {
     "name": "stdout",
     "output_type": "stream",
     "text": [
      "nan\n"
     ]
    },
    {
     "name": "stderr",
     "output_type": "stream",
     "text": [
      "\n",
      "Days Processed: 0it [00:00, ?it/s]\u001b[A\n",
      "Pages Processed:  84%|████████▍ | 304/362 [27:56<02:38,  2.74s/it]\n",
      "Days Processed:   0%|          | 0/2 [00:00<?, ?it/s]\u001b[A\n",
      "Days Processed:  50%|█████     | 1/2 [00:00<00:00,  6.18it/s]\u001b[A"
     ]
    },
    {
     "name": "stdout",
     "output_type": "stream",
     "text": [
      "nan\n",
      "7 December 2023\n"
     ]
    },
    {
     "name": "stderr",
     "output_type": "stream",
     "text": [
      "\n",
      "Days Processed: 100%|██████████| 2/2 [00:05<00:00,  3.06s/it]\u001b[A\n",
      "Pages Processed:  84%|████████▍ | 305/362 [28:02<03:27,  3.63s/it]\n",
      "Days Processed: 0it [00:00, ?it/s]\u001b[A\n",
      "Pages Processed:  85%|████████▍ | 306/362 [28:02<02:25,  2.59s/it]\n",
      "Days Processed:   0%|          | 0/2 [00:00<?, ?it/s]\u001b[A\n",
      "Days Processed:  50%|█████     | 1/2 [00:00<00:00,  6.75it/s]\u001b[A\n",
      "Days Processed: 100%|██████████| 2/2 [00:00<00:00,  6.75it/s]\u001b[A\n",
      "Pages Processed:  85%|████████▍ | 307/362 [28:03<01:52,  2.04s/it]"
     ]
    },
    {
     "name": "stdout",
     "output_type": "stream",
     "text": [
      "nan\n",
      "nan\n"
     ]
    },
    {
     "name": "stderr",
     "output_type": "stream",
     "text": [
      "\n",
      "Days Processed:   0%|          | 0/2 [00:00<?, ?it/s]\u001b[A"
     ]
    },
    {
     "name": "stdout",
     "output_type": "stream",
     "text": [
      "5 December 2023\n"
     ]
    },
    {
     "name": "stderr",
     "output_type": "stream",
     "text": [
      "\n",
      "Days Processed:  50%|█████     | 1/2 [00:04<00:04,  4.71s/it]\u001b[A\n",
      "Days Processed: 100%|██████████| 2/2 [00:04<00:00,  2.03s/it]\u001b[A\n",
      "Pages Processed:  85%|████████▌ | 308/362 [28:08<02:43,  3.04s/it]"
     ]
    },
    {
     "name": "stdout",
     "output_type": "stream",
     "text": [
      "nan\n"
     ]
    },
    {
     "name": "stderr",
     "output_type": "stream",
     "text": [
      "\n",
      "Days Processed: 0it [00:00, ?it/s]\u001b[A\n",
      "Pages Processed:  85%|████████▌ | 309/362 [28:08<01:55,  2.17s/it]\n",
      "Days Processed: 0it [00:00, ?it/s]\u001b[A\n",
      "Pages Processed:  86%|████████▌ | 310/362 [28:09<01:25,  1.64s/it]\n",
      "Days Processed:   0%|          | 0/2 [00:00<?, ?it/s]\u001b[A\n",
      "Days Processed:  50%|█████     | 1/2 [00:00<00:00,  6.66it/s]\u001b[A"
     ]
    },
    {
     "name": "stdout",
     "output_type": "stream",
     "text": [
      "nan\n",
      "30 November 2023\n"
     ]
    },
    {
     "name": "stderr",
     "output_type": "stream",
     "text": [
      "\n",
      "Days Processed: 100%|██████████| 2/2 [00:04<00:00,  2.91s/it]\u001b[A\n",
      "Pages Processed:  86%|████████▌ | 311/362 [28:14<02:22,  2.79s/it]\n",
      "Days Processed: 0it [00:00, ?it/s]\u001b[A\n",
      "Pages Processed:  86%|████████▌ | 312/362 [28:14<01:40,  2.00s/it]\n",
      "Days Processed:   0%|          | 0/2 [00:00<?, ?it/s]\u001b[A"
     ]
    },
    {
     "name": "stdout",
     "output_type": "stream",
     "text": [
      "29 November 2023\n"
     ]
    },
    {
     "name": "stderr",
     "output_type": "stream",
     "text": [
      "\n",
      "Days Processed:  50%|█████     | 1/2 [00:03<00:03,  3.81s/it]\u001b[A\n",
      "Days Processed: 100%|██████████| 2/2 [00:04<00:00,  1.68s/it]\u001b[A\n",
      "Pages Processed:  86%|████████▋ | 313/362 [28:19<02:14,  2.75s/it]"
     ]
    },
    {
     "name": "stdout",
     "output_type": "stream",
     "text": [
      "nan\n"
     ]
    },
    {
     "name": "stderr",
     "output_type": "stream",
     "text": [
      "\n",
      "Days Processed:   0%|          | 0/3 [00:00<?, ?it/s]\u001b[A"
     ]
    },
    {
     "name": "stdout",
     "output_type": "stream",
     "text": [
      "28 November 2023\n"
     ]
    },
    {
     "name": "stderr",
     "output_type": "stream",
     "text": [
      "\n",
      "Days Processed:  33%|███▎      | 1/3 [00:04<00:08,  4.36s/it]\u001b[A"
     ]
    },
    {
     "name": "stdout",
     "output_type": "stream",
     "text": [
      "27 November 2023\n"
     ]
    },
    {
     "name": "stderr",
     "output_type": "stream",
     "text": [
      "\n",
      "Days Processed:  67%|██████▋   | 2/3 [00:09<00:04,  4.63s/it]\u001b[A"
     ]
    },
    {
     "name": "stdout",
     "output_type": "stream",
     "text": [
      "26 November 2023\n"
     ]
    },
    {
     "name": "stderr",
     "output_type": "stream",
     "text": [
      "\n",
      "Days Processed: 100%|██████████| 3/3 [00:14<00:00,  4.92s/it]\u001b[A\n",
      "Pages Processed:  87%|████████▋ | 314/362 [28:34<05:07,  6.40s/it]\n",
      "Days Processed:   0%|          | 0/2 [00:00<?, ?it/s]\u001b[A"
     ]
    },
    {
     "name": "stdout",
     "output_type": "stream",
     "text": [
      "26 November 2023\n"
     ]
    },
    {
     "name": "stderr",
     "output_type": "stream",
     "text": [
      "\n",
      "Days Processed:  50%|█████     | 1/2 [00:03<00:03,  3.80s/it]\u001b[A"
     ]
    },
    {
     "name": "stdout",
     "output_type": "stream",
     "text": [
      "25 November 2023\n"
     ]
    },
    {
     "name": "stderr",
     "output_type": "stream",
     "text": [
      "\n",
      "Days Processed: 100%|██████████| 2/2 [00:08<00:00,  4.07s/it]\u001b[A\n",
      "Pages Processed:  87%|████████▋ | 315/362 [28:42<05:31,  7.05s/it]\n",
      "Days Processed:   0%|          | 0/2 [00:00<?, ?it/s]\u001b[A"
     ]
    },
    {
     "name": "stdout",
     "output_type": "stream",
     "text": [
      "25 November 2023\n"
     ]
    },
    {
     "name": "stderr",
     "output_type": "stream",
     "text": [
      "\n",
      "Days Processed:  50%|█████     | 1/2 [00:02<00:02,  2.05s/it]\u001b[A"
     ]
    },
    {
     "name": "stdout",
     "output_type": "stream",
     "text": [
      "24 November 2023\n"
     ]
    },
    {
     "name": "stderr",
     "output_type": "stream",
     "text": [
      "\n",
      "Days Processed: 100%|██████████| 2/2 [00:07<00:00,  4.28s/it]\u001b[A\n",
      "Pages Processed:  87%|████████▋ | 316/362 [28:51<05:42,  7.45s/it]\n",
      "Days Processed: 0it [00:00, ?it/s]\u001b[A\n",
      "Pages Processed:  88%|████████▊ | 317/362 [28:51<03:57,  5.28s/it]\n",
      "Days Processed:   0%|          | 0/2 [00:00<?, ?it/s]\u001b[A"
     ]
    },
    {
     "name": "stdout",
     "output_type": "stream",
     "text": [
      "23 November 2023\n"
     ]
    },
    {
     "name": "stderr",
     "output_type": "stream",
     "text": [
      "\n",
      "Days Processed:  50%|█████     | 1/2 [00:06<00:06,  6.23s/it]\u001b[A"
     ]
    },
    {
     "name": "stdout",
     "output_type": "stream",
     "text": [
      "22 November 2023\n"
     ]
    },
    {
     "name": "stderr",
     "output_type": "stream",
     "text": [
      "\n",
      "Days Processed: 100%|██████████| 2/2 [00:10<00:00,  5.07s/it]\u001b[A\n",
      "Pages Processed:  88%|████████▊ | 318/362 [29:02<05:09,  7.02s/it]\n",
      "Days Processed: 0it [00:00, ?it/s]\u001b[A\n",
      "Pages Processed:  88%|████████▊ | 319/362 [29:02<03:34,  4.99s/it]\n",
      "Days Processed:   0%|          | 0/2 [00:00<?, ?it/s]\u001b[A"
     ]
    },
    {
     "name": "stdout",
     "output_type": "stream",
     "text": [
      "20 November 2023\n"
     ]
    },
    {
     "name": "stderr",
     "output_type": "stream",
     "text": [
      "\n",
      "Days Processed:  50%|█████     | 1/2 [00:04<00:04,  4.34s/it]\u001b[A\n",
      "Days Processed: 100%|██████████| 2/2 [00:04<00:00,  1.88s/it]\u001b[A\n",
      "Pages Processed:  88%|████████▊ | 320/362 [29:07<03:29,  5.00s/it]"
     ]
    },
    {
     "name": "stdout",
     "output_type": "stream",
     "text": [
      "nan\n"
     ]
    },
    {
     "name": "stderr",
     "output_type": "stream",
     "text": [
      "\n",
      "Days Processed:   0%|          | 0/2 [00:00<?, ?it/s]\u001b[A\n",
      "Days Processed:  50%|█████     | 1/2 [00:00<00:00,  6.68it/s]\u001b[A\n",
      "Days Processed: 100%|██████████| 2/2 [00:00<00:00,  6.57it/s]\u001b[A\n",
      "Pages Processed:  89%|████████▊ | 321/362 [29:08<02:33,  3.74s/it]"
     ]
    },
    {
     "name": "stdout",
     "output_type": "stream",
     "text": [
      "nan\n",
      "nan\n"
     ]
    },
    {
     "name": "stderr",
     "output_type": "stream",
     "text": [
      "\n",
      "Days Processed: 0it [00:00, ?it/s]\u001b[A\n",
      "Pages Processed:  89%|████████▉ | 322/362 [29:08<01:46,  2.67s/it]\n",
      "Days Processed:   0%|          | 0/2 [00:00<?, ?it/s]\u001b[A"
     ]
    },
    {
     "name": "stdout",
     "output_type": "stream",
     "text": [
      "16 November 2023\n"
     ]
    },
    {
     "name": "stderr",
     "output_type": "stream",
     "text": [
      "\n",
      "Days Processed:  50%|█████     | 1/2 [00:04<00:04,  4.67s/it]\u001b[A"
     ]
    },
    {
     "name": "stdout",
     "output_type": "stream",
     "text": [
      "15 November 2023\n"
     ]
    },
    {
     "name": "stderr",
     "output_type": "stream",
     "text": [
      "\n",
      "Days Processed: 100%|██████████| 2/2 [00:09<00:00,  4.61s/it]\u001b[A\n",
      "Pages Processed:  89%|████████▉ | 323/362 [29:18<03:06,  4.79s/it]\n",
      "Days Processed: 0it [00:00, ?it/s]\u001b[A\n",
      "Pages Processed:  90%|████████▉ | 324/362 [29:18<02:09,  3.40s/it]\n",
      "Days Processed:   0%|          | 0/2 [00:00<?, ?it/s]\u001b[A"
     ]
    },
    {
     "name": "stdout",
     "output_type": "stream",
     "text": [
      "14 November 2023\n"
     ]
    },
    {
     "name": "stderr",
     "output_type": "stream",
     "text": [
      "\n",
      "Days Processed:  50%|█████     | 1/2 [00:04<00:04,  4.40s/it]\u001b[A"
     ]
    },
    {
     "name": "stdout",
     "output_type": "stream",
     "text": [
      "13 November 2023\n"
     ]
    },
    {
     "name": "stderr",
     "output_type": "stream",
     "text": [
      "\n",
      "Days Processed: 100%|██████████| 2/2 [00:10<00:00,  5.32s/it]\u001b[A\n",
      "Pages Processed:  90%|████████▉ | 325/362 [29:29<03:28,  5.64s/it]\n",
      "Days Processed: 0it [00:00, ?it/s]\u001b[A\n",
      "Pages Processed:  90%|█████████ | 326/362 [29:29<02:24,  4.00s/it]\n",
      "Days Processed:   0%|          | 0/2 [00:00<?, ?it/s]\u001b[A\n",
      "Days Processed:  50%|█████     | 1/2 [00:00<00:00,  6.17it/s]\u001b[A"
     ]
    },
    {
     "name": "stdout",
     "output_type": "stream",
     "text": [
      "nan\n",
      "11 November 2023\n"
     ]
    },
    {
     "name": "stderr",
     "output_type": "stream",
     "text": [
      "\n",
      "Days Processed: 100%|██████████| 2/2 [00:04<00:00,  2.51s/it]\u001b[A\n",
      "Pages Processed:  90%|█████████ | 327/362 [29:34<02:29,  4.27s/it]\n",
      "Days Processed:   0%|          | 0/3 [00:00<?, ?it/s]\u001b[A"
     ]
    },
    {
     "name": "stdout",
     "output_type": "stream",
     "text": [
      "11 November 2023\n"
     ]
    },
    {
     "name": "stderr",
     "output_type": "stream",
     "text": [
      "\n",
      "Days Processed:  33%|███▎      | 1/3 [00:01<00:03,  1.89s/it]\u001b[A"
     ]
    },
    {
     "name": "stdout",
     "output_type": "stream",
     "text": [
      "10 November 2023\n"
     ]
    },
    {
     "name": "stderr",
     "output_type": "stream",
     "text": [
      "\n",
      "Days Processed:  67%|██████▋   | 2/3 [00:06<00:03,  3.31s/it]\u001b[A\n",
      "Days Processed: 100%|██████████| 3/3 [00:06<00:00,  1.87s/it]\u001b[A\n",
      "Pages Processed:  91%|█████████ | 328/362 [29:41<02:51,  5.04s/it]"
     ]
    },
    {
     "name": "stdout",
     "output_type": "stream",
     "text": [
      "nan\n"
     ]
    },
    {
     "name": "stderr",
     "output_type": "stream",
     "text": [
      "\n",
      "Days Processed: 0it [00:00, ?it/s]\u001b[A\n",
      "Pages Processed:  91%|█████████ | 329/362 [29:41<01:58,  3.58s/it]\n",
      "Days Processed: 0it [00:00, ?it/s]\u001b[A\n",
      "Pages Processed:  91%|█████████ | 330/362 [29:41<01:21,  2.55s/it]\n",
      "Days Processed:   0%|          | 0/2 [00:00<?, ?it/s]\u001b[A"
     ]
    },
    {
     "name": "stdout",
     "output_type": "stream",
     "text": [
      "7 November 2023\n"
     ]
    },
    {
     "name": "stderr",
     "output_type": "stream",
     "text": [
      "\n",
      "Days Processed:  50%|█████     | 1/2 [00:05<00:05,  5.48s/it]\u001b[A"
     ]
    },
    {
     "name": "stdout",
     "output_type": "stream",
     "text": [
      "6 November 2023\n"
     ]
    },
    {
     "name": "stderr",
     "output_type": "stream",
     "text": [
      "\n",
      "Days Processed: 100%|██████████| 2/2 [00:09<00:00,  4.82s/it]\u001b[A\n",
      "Pages Processed:  91%|█████████▏| 331/362 [29:52<02:31,  4.88s/it]\n",
      "Days Processed:   0%|          | 0/2 [00:00<?, ?it/s]\u001b[A"
     ]
    },
    {
     "name": "stdout",
     "output_type": "stream",
     "text": [
      "6 November 2023\n"
     ]
    },
    {
     "name": "stderr",
     "output_type": "stream",
     "text": [
      "\n",
      "Days Processed:  50%|█████     | 1/2 [00:03<00:03,  3.53s/it]\u001b[A\n",
      "Days Processed: 100%|██████████| 2/2 [00:03<00:00,  1.55s/it]\u001b[A\n",
      "Pages Processed:  92%|█████████▏| 332/362 [29:56<02:20,  4.68s/it]"
     ]
    },
    {
     "name": "stdout",
     "output_type": "stream",
     "text": [
      "nan\n"
     ]
    },
    {
     "name": "stderr",
     "output_type": "stream",
     "text": [
      "\n",
      "Days Processed: 0it [00:00, ?it/s]\u001b[A\n",
      "Pages Processed:  92%|█████████▏| 333/362 [29:56<01:36,  3.33s/it]\n",
      "Days Processed:   0%|          | 0/2 [00:00<?, ?it/s]\u001b[A"
     ]
    },
    {
     "name": "stdout",
     "output_type": "stream",
     "text": [
      "3 November 2023\n"
     ]
    },
    {
     "name": "stderr",
     "output_type": "stream",
     "text": [
      "\n",
      "Days Processed:  50%|█████     | 1/2 [00:04<00:04,  4.63s/it]\u001b[A"
     ]
    },
    {
     "name": "stdout",
     "output_type": "stream",
     "text": [
      "2 November 2023\n"
     ]
    },
    {
     "name": "stderr",
     "output_type": "stream",
     "text": [
      "\n",
      "Days Processed: 100%|██████████| 2/2 [00:09<00:00,  4.53s/it]\u001b[A\n",
      "Pages Processed:  92%|█████████▏| 334/362 [30:06<02:25,  5.21s/it]\n",
      "Days Processed: 0it [00:00, ?it/s]\u001b[A\n",
      "Pages Processed:  93%|█████████▎| 335/362 [30:06<01:39,  3.70s/it]\n",
      "Days Processed: 0it [00:00, ?it/s]\u001b[A\n",
      "Pages Processed:  93%|█████████▎| 336/362 [30:06<01:08,  2.64s/it]\n",
      "Days Processed:   0%|          | 0/2 [00:00<?, ?it/s]\u001b[A\n",
      "Days Processed:  50%|█████     | 1/2 [00:00<00:00,  4.21it/s]\u001b[A\n",
      "Days Processed: 100%|██████████| 2/2 [00:00<00:00,  5.29it/s]\u001b[A\n",
      "Pages Processed:  93%|█████████▎| 337/362 [30:07<00:54,  2.17s/it]"
     ]
    },
    {
     "name": "stdout",
     "output_type": "stream",
     "text": [
      "nan\n",
      "nan\n"
     ]
    },
    {
     "name": "stderr",
     "output_type": "stream",
     "text": [
      "\n",
      "Days Processed:   0%|          | 0/2 [00:00<?, ?it/s]\u001b[A"
     ]
    },
    {
     "name": "stdout",
     "output_type": "stream",
     "text": [
      "30 October 2023\n"
     ]
    },
    {
     "name": "stderr",
     "output_type": "stream",
     "text": [
      "\n",
      "Days Processed:  50%|█████     | 1/2 [00:04<00:04,  4.17s/it]\u001b[A"
     ]
    },
    {
     "name": "stdout",
     "output_type": "stream",
     "text": [
      "29 October 2023\n"
     ]
    },
    {
     "name": "stderr",
     "output_type": "stream",
     "text": [
      "\n",
      "Days Processed: 100%|██████████| 2/2 [00:10<00:00,  5.16s/it]\u001b[A\n",
      "Pages Processed:  93%|█████████▎| 338/362 [30:18<01:52,  4.67s/it]\n",
      "Days Processed:   0%|          | 0/3 [00:00<?, ?it/s]\u001b[A"
     ]
    },
    {
     "name": "stdout",
     "output_type": "stream",
     "text": [
      "29 October 2023\n"
     ]
    },
    {
     "name": "stderr",
     "output_type": "stream",
     "text": [
      "\n",
      "Days Processed:  33%|███▎      | 1/3 [00:02<00:05,  2.95s/it]\u001b[A"
     ]
    },
    {
     "name": "stdout",
     "output_type": "stream",
     "text": [
      "28 October 2023\n"
     ]
    },
    {
     "name": "stderr",
     "output_type": "stream",
     "text": [
      "\n",
      "Days Processed:  67%|██████▋   | 2/3 [00:06<00:03,  3.37s/it]\u001b[A\n",
      "Days Processed: 100%|██████████| 3/3 [00:06<00:00,  1.91s/it]\u001b[A\n",
      "Pages Processed:  94%|█████████▎| 339/362 [30:25<02:05,  5.46s/it]"
     ]
    },
    {
     "name": "stdout",
     "output_type": "stream",
     "text": [
      "nan\n"
     ]
    },
    {
     "name": "stderr",
     "output_type": "stream",
     "text": [
      "\n",
      "Days Processed: 0it [00:00, ?it/s]\u001b[A\n",
      "Pages Processed:  94%|█████████▍| 340/362 [30:25<01:25,  3.87s/it]\n",
      "Days Processed:   0%|          | 0/2 [00:00<?, ?it/s]\u001b[A"
     ]
    },
    {
     "name": "stdout",
     "output_type": "stream",
     "text": [
      "26 October 2023\n"
     ]
    },
    {
     "name": "stderr",
     "output_type": "stream",
     "text": [
      "\n",
      "Days Processed:  50%|█████     | 1/2 [00:04<00:04,  4.72s/it]\u001b[A"
     ]
    },
    {
     "name": "stdout",
     "output_type": "stream",
     "text": [
      "25 October 2023\n"
     ]
    },
    {
     "name": "stderr",
     "output_type": "stream",
     "text": [
      "\n",
      "Days Processed: 100%|██████████| 2/2 [00:08<00:00,  4.46s/it]\u001b[A\n",
      "Pages Processed:  94%|█████████▍| 341/362 [30:35<01:56,  5.56s/it]\n",
      "Days Processed: 0it [00:00, ?it/s]\u001b[A\n",
      "Pages Processed:  94%|█████████▍| 342/362 [30:35<01:18,  3.94s/it]\n",
      "Days Processed: 0it [00:00, ?it/s]\u001b[A\n",
      "Pages Processed:  95%|█████████▍| 343/362 [30:35<00:53,  2.81s/it]\n",
      "Days Processed:   0%|          | 0/2 [00:00<?, ?it/s]\u001b[A"
     ]
    },
    {
     "name": "stdout",
     "output_type": "stream",
     "text": [
      "23 October 2023\n"
     ]
    },
    {
     "name": "stderr",
     "output_type": "stream",
     "text": [
      "\n",
      "Days Processed:  50%|█████     | 1/2 [00:06<00:06,  6.44s/it]\u001b[A"
     ]
    },
    {
     "name": "stdout",
     "output_type": "stream",
     "text": [
      "22 October 2023\n"
     ]
    },
    {
     "name": "stderr",
     "output_type": "stream",
     "text": [
      "\n",
      "Days Processed: 100%|██████████| 2/2 [00:10<00:00,  5.07s/it]\u001b[A\n",
      "Pages Processed:  95%|█████████▌| 344/362 [30:46<01:34,  5.28s/it]\n",
      "Days Processed:   0%|          | 0/3 [00:00<?, ?it/s]\u001b[A"
     ]
    },
    {
     "name": "stdout",
     "output_type": "stream",
     "text": [
      "22 October 2023\n"
     ]
    },
    {
     "name": "stderr",
     "output_type": "stream",
     "text": [
      "\n",
      "Days Processed:  33%|███▎      | 1/3 [00:03<00:07,  3.63s/it]\u001b[A"
     ]
    },
    {
     "name": "stdout",
     "output_type": "stream",
     "text": [
      "21 October 2023\n"
     ]
    },
    {
     "name": "stderr",
     "output_type": "stream",
     "text": [
      "\n",
      "Days Processed:  67%|██████▋   | 2/3 [00:06<00:03,  3.20s/it]\u001b[A"
     ]
    },
    {
     "name": "stdout",
     "output_type": "stream",
     "text": [
      "20 October 2023\n"
     ]
    },
    {
     "name": "stderr",
     "output_type": "stream",
     "text": [
      "\n",
      "Days Processed: 100%|██████████| 3/3 [00:12<00:00,  4.36s/it]\u001b[A\n",
      "Pages Processed:  95%|█████████▌| 345/362 [30:59<02:08,  7.55s/it]\n",
      "Days Processed: 0it [00:00, ?it/s]\u001b[A\n",
      "Pages Processed:  96%|█████████▌| 346/362 [30:59<01:25,  5.33s/it]\n",
      "Days Processed:   0%|          | 0/2 [00:00<?, ?it/s]\u001b[A\n",
      "Days Processed:  50%|█████     | 1/2 [00:00<00:00,  6.25it/s]\u001b[A"
     ]
    },
    {
     "name": "stdout",
     "output_type": "stream",
     "text": [
      "nan\n",
      "18 October 2023\n"
     ]
    },
    {
     "name": "stderr",
     "output_type": "stream",
     "text": [
      "\n",
      "Days Processed: 100%|██████████| 2/2 [00:05<00:00,  3.39s/it]\u001b[A\n",
      "Pages Processed:  96%|█████████▌| 347/362 [31:05<01:24,  5.63s/it]\n",
      "Days Processed: 0it [00:00, ?it/s]\u001b[A\n",
      "Pages Processed:  96%|█████████▌| 348/362 [31:05<00:55,  3.99s/it]\n",
      "Days Processed:   0%|          | 0/2 [00:00<?, ?it/s]\u001b[A\n",
      "Days Processed:  50%|█████     | 1/2 [00:00<00:00,  6.36it/s]\u001b[A"
     ]
    },
    {
     "name": "stdout",
     "output_type": "stream",
     "text": [
      "nan\n",
      "16 October 2023\n"
     ]
    },
    {
     "name": "stderr",
     "output_type": "stream",
     "text": [
      "\n",
      "Days Processed: 100%|██████████| 2/2 [00:04<00:00,  2.72s/it]\u001b[A\n",
      "Pages Processed:  96%|█████████▋| 349/362 [31:11<00:56,  4.35s/it]\n",
      "Days Processed: 0it [00:00, ?it/s]\u001b[A\n",
      "Pages Processed:  97%|█████████▋| 350/362 [31:11<00:37,  3.09s/it]\n",
      "Days Processed: 0it [00:00, ?it/s]\u001b[A\n",
      "Pages Processed:  97%|█████████▋| 351/362 [31:11<00:24,  2.21s/it]\n",
      "Days Processed:   0%|          | 0/2 [00:00<?, ?it/s]\u001b[A\n",
      "Days Processed:  50%|█████     | 1/2 [00:00<00:00,  6.31it/s]\u001b[A"
     ]
    },
    {
     "name": "stdout",
     "output_type": "stream",
     "text": [
      "nan\n",
      "13 October 2023\n"
     ]
    },
    {
     "name": "stderr",
     "output_type": "stream",
     "text": [
      "\n",
      "Days Processed: 100%|██████████| 2/2 [00:04<00:00,  2.76s/it]\u001b[A\n",
      "Pages Processed:  97%|█████████▋| 352/362 [31:16<00:31,  3.13s/it]\n",
      "Days Processed:   0%|          | 0/2 [00:00<?, ?it/s]\u001b[A"
     ]
    },
    {
     "name": "stdout",
     "output_type": "stream",
     "text": [
      "13 October 2023\n"
     ]
    },
    {
     "name": "stderr",
     "output_type": "stream",
     "text": [
      "\n",
      "Days Processed:  50%|█████     | 1/2 [00:03<00:03,  3.13s/it]\u001b[A\n",
      "Days Processed: 100%|██████████| 2/2 [00:03<00:00,  1.38s/it]\u001b[A\n",
      "Pages Processed:  98%|█████████▊| 353/362 [31:20<00:30,  3.33s/it]"
     ]
    },
    {
     "name": "stdout",
     "output_type": "stream",
     "text": [
      "nan\n"
     ]
    },
    {
     "name": "stderr",
     "output_type": "stream",
     "text": [
      "\n",
      "Days Processed:   0%|          | 0/2 [00:00<?, ?it/s]\u001b[A\n",
      "Days Processed:  50%|█████     | 1/2 [00:00<00:00,  6.24it/s]\u001b[A"
     ]
    },
    {
     "name": "stdout",
     "output_type": "stream",
     "text": [
      "nan\n",
      "11 October 2023\n"
     ]
    },
    {
     "name": "stderr",
     "output_type": "stream",
     "text": [
      "\n",
      "Days Processed: 100%|██████████| 2/2 [00:04<00:00,  2.77s/it]\u001b[A\n",
      "Pages Processed:  98%|█████████▊| 354/362 [31:26<00:33,  4.22s/it]\n",
      "Days Processed:   0%|          | 0/2 [00:00<?, ?it/s]\u001b[A"
     ]
    },
    {
     "name": "stdout",
     "output_type": "stream",
     "text": [
      "11 October 2023\n"
     ]
    },
    {
     "name": "stderr",
     "output_type": "stream",
     "text": [
      "\n",
      "Days Processed:  50%|█████     | 1/2 [00:02<00:02,  2.18s/it]\u001b[A"
     ]
    },
    {
     "name": "stdout",
     "output_type": "stream",
     "text": [
      "10 October 2023\n"
     ]
    },
    {
     "name": "stderr",
     "output_type": "stream",
     "text": [
      "\n",
      "Days Processed: 100%|██████████| 2/2 [00:07<00:00,  4.29s/it]\u001b[A\n",
      "Pages Processed:  98%|█████████▊| 355/362 [31:35<00:38,  5.49s/it]\n",
      "Days Processed: 0it [00:00, ?it/s]\u001b[A\n",
      "Pages Processed:  98%|█████████▊| 356/362 [31:35<00:23,  3.89s/it]\n",
      "Days Processed: 0it [00:00, ?it/s]\u001b[A\n",
      "Pages Processed:  99%|█████████▊| 357/362 [31:35<00:13,  2.77s/it]\n",
      "Days Processed: 0it [00:00, ?it/s]\u001b[A\n",
      "Pages Processed:  99%|█████████▉| 358/362 [31:35<00:07,  1.99s/it]\n",
      "Days Processed:   0%|          | 0/1 [00:00<?, ?it/s]\u001b[A"
     ]
    },
    {
     "name": "stdout",
     "output_type": "stream",
     "text": [
      "6 October 2023\n"
     ]
    },
    {
     "name": "stderr",
     "output_type": "stream",
     "text": [
      "\n",
      "Days Processed: 100%|██████████| 1/1 [00:05<00:00,  5.90s/it]\u001b[A\n",
      "Pages Processed:  99%|█████████▉| 359/362 [31:42<00:10,  3.40s/it]\n",
      "Days Processed: 0it [00:00, ?it/s]\u001b[A\n",
      "Pages Processed:  99%|█████████▉| 360/362 [31:42<00:04,  2.43s/it]\n",
      "Days Processed: 0it [00:00, ?it/s]\u001b[A\n",
      "Pages Processed: 100%|█████████▉| 361/362 [31:42<00:01,  1.75s/it]\n",
      "Days Processed:   0%|          | 0/2 [00:00<?, ?it/s]\u001b[A"
     ]
    },
    {
     "name": "stdout",
     "output_type": "stream",
     "text": [
      "3 October 2023\n"
     ]
    },
    {
     "name": "stderr",
     "output_type": "stream",
     "text": [
      "\n",
      "Days Processed:  50%|█████     | 1/2 [00:05<00:05,  5.02s/it]\u001b[A"
     ]
    },
    {
     "name": "stdout",
     "output_type": "stream",
     "text": [
      "2 October 2023\n"
     ]
    },
    {
     "name": "stderr",
     "output_type": "stream",
     "text": [
      "\n",
      "Days Processed: 100%|██████████| 2/2 [00:12<00:00,  6.52s/it]\u001b[A\n",
      "Pages Processed: 100%|██████████| 362/362 [31:56<00:00,  5.30s/it]\n"
     ]
    }
   ],
   "source": [
    "# Import a scrapy Selector\n",
    "from scrapy import Selector\n",
    "\n",
    "# Import necessary libraries\n",
    "import requests\n",
    "import pandas as pd\n",
    "import numpy as np\n",
    "from tqdm import tqdm\n",
    "\n",
    "# Create empty lists to fill with scraped data\n",
    "dates = []\n",
    "titles = []\n",
    "writers = []\n",
    "\n",
    "\n",
    "# Iterating thru the pages to get data from\n",
    "for i in tqdm(range(2, 364), desc=\"Pages Processed\"):\n",
    "\n",
    "    # Create the url of the page \n",
    "    url = 'https://www.theguardian.com/commentisfree?page=' + str(i)\n",
    "    \n",
    "    # Sending the http request the get the content of the page\n",
    "    html = requests.get(url).content\n",
    "    sel = Selector(text = html)\n",
    "\n",
    "    # Assign the generalized xpath for the link extensions for the date-spesific pages\n",
    "    xpath_for_date_links ='//div[2]/div/div/a/@href'\n",
    "    date_links = sel.xpath(xpath_for_date_links).extract()\n",
    "\n",
    "\n",
    "    # Iterating thru the link extensions in the date_links \n",
    "    for date_link in tqdm(date_links, desc=\"Days Processed\", leave=False):\n",
    "\n",
    "        # Create the url for the full link to go inside the spesific date page\n",
    "        url1 = 'https://www.theguardian.com' + date_link\n",
    "\n",
    "        # Sending the http request the get the content of the page\n",
    "        html1 = requests.get(url1).content\n",
    "        sel1 = Selector(text = html1)\n",
    "        \n",
    "        \n",
    "        # Get the date as texts found seperately as day, month and year on the page\n",
    "        xpath_for_day ='//*[@id=\"top\"]/div[3]/div/section/div/div[1]/div/div/span[2]/span[1]/text()'\n",
    "        xpath_for_month ='//*[@id=\"top\"]/div[3]/div/section/div/div[1]/div/div/span[2]/span[2]/text()'\n",
    "        xpath_for_year ='//*[@id=\"top\"]/div[3]/div/section/div/div[1]/div/div/span[2]/span[3]/text()'\n",
    "        \n",
    "        day = sel1.xpath(xpath_for_day).extract()\n",
    "        month = sel1.xpath(xpath_for_month).extract()\n",
    "        year = sel1.xpath(xpath_for_year).extract()\n",
    "\n",
    "        # Checking for and missing/blank info and filling them with NaNs to avoid future errors\n",
    "        if not day:\n",
    "                day.append(np.nan)\n",
    "        if not month:\n",
    "                month.append(np.nan)\n",
    "        if not year:\n",
    "                year.append(np.nan)\n",
    "        \n",
    "        if day and isinstance(day[0], str) and isinstance(month[0], str) and isinstance(year[0], str):\n",
    "             \n",
    "            # Creating a merged variable of date\n",
    "            date = day[0] + ' ' + month[0] + ' ' + year[0]\n",
    "\n",
    "        else:\n",
    "            date = np.nan\n",
    "\n",
    "        print(date)\n",
    "\n",
    "        # Assign the generalized xpath for the article links to full article pages\n",
    "        xpath_for_article_links ='//li/div/div/a/@href'\n",
    "        article_links = sel1.xpath(xpath_for_article_links).extract()\n",
    "        \n",
    "        # Iterate thru the article links\n",
    "        for article_link in article_links:\n",
    "            \n",
    "            # Create the url for the link to go inside the full aritcle page\n",
    "            url2 = article_link\n",
    "\n",
    "            # Sending the http request the get the content of the page\n",
    "            html2 = requests.get(url2).content\n",
    "            sel2 = Selector(text = html2)\n",
    "\n",
    "            # Assign the generalized xpaths for the title and writer found as texts on the page\n",
    "            xpath_for_title = '/html/body/main/article/div/div/div[3]/div/div/div[1]/h1/text()'\n",
    "            xpath_for_writer = '/html/body/main/article/div/div/div[3]/div/div/div[1]/div/div/a/text()'\n",
    "\n",
    "            title = sel2.xpath(xpath_for_title).extract()\n",
    "            writer = sel2.xpath(xpath_for_writer).extract()\n",
    "\n",
    "            # Checking for and missing/blank info and filling them with NaNs to avoid future errors\n",
    "            if not title:\n",
    "                title.append(np.nan)\n",
    "            if not writer:\n",
    "                writer.append(np.nan)\n",
    "\n",
    "            # Checking if the title is not NaN and is not already added to the list (some might appear twice on 2 consecutive pages)\n",
    "            if title and isinstance(title[0], str) and title not in titles: \n",
    "\n",
    "                # Checking if the article is about the Palestine-Israel topic\n",
    "                if 'Palestine' in title[0] or 'Israel' in title[0] or 'Gaza' in title[0] or 'Netanyahu' in title[0] or 'Hamas' in title[0]:\n",
    "                    \n",
    "                    # If the article is related, append the date, title and writer of the article\n",
    "                    dates.append(date)\n",
    "                    titles.append(title)\n",
    "                    writers.append(writer)\n",
    "\n",
    "    "
   ]
  },
  {
   "cell_type": "code",
   "execution_count": 24,
   "id": "eb503ec5-3f66-4970-b430-9cf69e5b5eed",
   "metadata": {},
   "outputs": [
    {
     "data": {
      "text/plain": [
       "256"
      ]
     },
     "execution_count": 24,
     "metadata": {},
     "output_type": "execute_result"
    }
   ],
   "source": [
    "len(writers)"
   ]
  },
  {
   "cell_type": "code",
   "execution_count": 26,
   "id": "b3467051-5403-4b93-9a60-232d274598fa",
   "metadata": {},
   "outputs": [
    {
     "data": {
      "text/html": [
       "<div>\n",
       "<style scoped>\n",
       "    .dataframe tbody tr th:only-of-type {\n",
       "        vertical-align: middle;\n",
       "    }\n",
       "\n",
       "    .dataframe tbody tr th {\n",
       "        vertical-align: top;\n",
       "    }\n",
       "\n",
       "    .dataframe thead th {\n",
       "        text-align: right;\n",
       "    }\n",
       "</style>\n",
       "<table border=\"1\" class=\"dataframe\">\n",
       "  <thead>\n",
       "    <tr style=\"text-align: right;\">\n",
       "      <th></th>\n",
       "      <th>date</th>\n",
       "      <th>title</th>\n",
       "      <th>writer</th>\n",
       "    </tr>\n",
       "  </thead>\n",
       "  <tbody>\n",
       "    <tr>\n",
       "      <th>0</th>\n",
       "      <td>30 November 2024</td>\n",
       "      <td>[The Observer view: Shaky ceasefire is no vict...</td>\n",
       "      <td>[Observer editorial]</td>\n",
       "    </tr>\n",
       "    <tr>\n",
       "      <th>1</th>\n",
       "      <td>29 November 2024</td>\n",
       "      <td>[I was suspended from Israel’s Knesset for hig...</td>\n",
       "      <td>[Ofer Cassif]</td>\n",
       "    </tr>\n",
       "    <tr>\n",
       "      <th>2</th>\n",
       "      <td>28 November 2024</td>\n",
       "      <td>[Don’t be naive about the ceasefire in Lebanon...</td>\n",
       "      <td>[Simon Tisdall]</td>\n",
       "    </tr>\n",
       "    <tr>\n",
       "      <th>3</th>\n",
       "      <td>27 November 2024</td>\n",
       "      <td>[The Guardian view on the Lebanon ceasefire: a...</td>\n",
       "      <td>[Editorial]</td>\n",
       "    </tr>\n",
       "    <tr>\n",
       "      <th>4</th>\n",
       "      <td>27 November 2024</td>\n",
       "      <td>[The ceasefire in Lebanon doesn’t ensure a las...</td>\n",
       "      <td>[Bilal Saab]</td>\n",
       "    </tr>\n",
       "    <tr>\n",
       "      <th>...</th>\n",
       "      <td>...</td>\n",
       "      <td>...</td>\n",
       "      <td>...</td>\n",
       "    </tr>\n",
       "    <tr>\n",
       "      <th>251</th>\n",
       "      <td>11 October 2023</td>\n",
       "      <td>[The Israel crisis is horrific. Republicans sa...</td>\n",
       "      <td>[Andrew Gawthorpe]</td>\n",
       "    </tr>\n",
       "    <tr>\n",
       "      <th>252</th>\n",
       "      <td>11 October 2023</td>\n",
       "      <td>[The bombardment of Gaza is now constant. My n...</td>\n",
       "      <td>[Mahmoud Shalabi]</td>\n",
       "    </tr>\n",
       "    <tr>\n",
       "      <th>253</th>\n",
       "      <td>11 October 2023</td>\n",
       "      <td>[I was in Israel when Hamas attacked – now we ...</td>\n",
       "      <td>[Daphna Baram]</td>\n",
       "    </tr>\n",
       "    <tr>\n",
       "      <th>254</th>\n",
       "      <td>10 October 2023</td>\n",
       "      <td>[Don’t look to Elon Musk’s X for reliable info...</td>\n",
       "      <td>[Margaret Sullivan]</td>\n",
       "    </tr>\n",
       "    <tr>\n",
       "      <th>255</th>\n",
       "      <td>10 October 2023</td>\n",
       "      <td>[How should the US respond to the Israel-Pales...</td>\n",
       "      <td>[Joshua Leifer, Yousef Munayyer]</td>\n",
       "    </tr>\n",
       "  </tbody>\n",
       "</table>\n",
       "<p>256 rows × 3 columns</p>\n",
       "</div>"
      ],
      "text/plain": [
       "                 date                                              title  \\\n",
       "0    30 November 2024  [The Observer view: Shaky ceasefire is no vict...   \n",
       "1    29 November 2024  [I was suspended from Israel’s Knesset for hig...   \n",
       "2    28 November 2024  [Don’t be naive about the ceasefire in Lebanon...   \n",
       "3    27 November 2024  [The Guardian view on the Lebanon ceasefire: a...   \n",
       "4    27 November 2024  [The ceasefire in Lebanon doesn’t ensure a las...   \n",
       "..                ...                                                ...   \n",
       "251   11 October 2023  [The Israel crisis is horrific. Republicans sa...   \n",
       "252   11 October 2023  [The bombardment of Gaza is now constant. My n...   \n",
       "253   11 October 2023  [I was in Israel when Hamas attacked – now we ...   \n",
       "254   10 October 2023  [Don’t look to Elon Musk’s X for reliable info...   \n",
       "255   10 October 2023  [How should the US respond to the Israel-Pales...   \n",
       "\n",
       "                               writer  \n",
       "0                [Observer editorial]  \n",
       "1                       [Ofer Cassif]  \n",
       "2                     [Simon Tisdall]  \n",
       "3                         [Editorial]  \n",
       "4                        [Bilal Saab]  \n",
       "..                                ...  \n",
       "251                [Andrew Gawthorpe]  \n",
       "252                 [Mahmoud Shalabi]  \n",
       "253                    [Daphna Baram]  \n",
       "254               [Margaret Sullivan]  \n",
       "255  [Joshua Leifer, Yousef Munayyer]  \n",
       "\n",
       "[256 rows x 3 columns]"
      ]
     },
     "execution_count": 26,
     "metadata": {},
     "output_type": "execute_result"
    }
   ],
   "source": [
    "dict_opinion_articles = {'date':dates, 'title':titles, 'writer':writers}\n",
    "\n",
    "df_opinion_articles = pd.DataFrame(dict_opinion_articles)\n",
    "df_opinion_articles\n"
   ]
  },
  {
   "cell_type": "code",
   "execution_count": 28,
   "id": "7b013438-2d1e-4c10-a827-58d8a7c17464",
   "metadata": {},
   "outputs": [],
   "source": [
    "df_opinion_articles.to_excel(r'C:\\Users\\reyta\\Downloads\\TheGuardian.xlsx')"
   ]
  },
  {
   "cell_type": "code",
   "execution_count": null,
   "id": "df24d8aa-1827-41bd-aeb2-ebda594a18f9",
   "metadata": {},
   "outputs": [],
   "source": []
  }
 ],
 "metadata": {
  "kernelspec": {
   "display_name": "Python 3 (ipykernel)",
   "language": "python",
   "name": "python3"
  },
  "language_info": {
   "codemirror_mode": {
    "name": "ipython",
    "version": 3
   },
   "file_extension": ".py",
   "mimetype": "text/x-python",
   "name": "python",
   "nbconvert_exporter": "python",
   "pygments_lexer": "ipython3",
   "version": "3.12.4"
  }
 },
 "nbformat": 4,
 "nbformat_minor": 5
}
